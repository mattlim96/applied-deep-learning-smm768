{
 "cells": [
  {
   "cell_type": "markdown",
   "id": "1a2d59e1",
   "metadata": {},
   "source": [
    "# Tutorial 2 - Hyperparameter tuning and autoencoders"
   ]
  },
  {
   "cell_type": "markdown",
   "id": "96e20eb1",
   "metadata": {},
   "source": [
    "Welcome to Tutorial 2. We will learn how to run a hyperparameter tuning operation, before we dive into programming an autoencoder. Parts of the notebook are based on the TensorFlow tutorials."
   ]
  },
  {
   "cell_type": "code",
   "execution_count": 2,
   "id": "8ffc385a",
   "metadata": {},
   "outputs": [],
   "source": [
    "import tensorflow as tf\n",
    "import numpy as np\n",
    "import datetime\n",
    "import os\n",
    "from tensorboard.plugins.hparams import api as hp\n",
    "from sklearn.model_selection import train_test_split\n",
    "import matplotlib.pyplot as plt\n",
    "from sklearn.datasets import fetch_california_housing\n",
    "from sklearn.preprocessing import StandardScaler"
   ]
  },
  {
   "cell_type": "markdown",
   "id": "9ea6989f",
   "metadata": {},
   "source": [
    "# 1. Hyperparameter tuning"
   ]
  },
  {
   "cell_type": "markdown",
   "id": "f38bec4d",
   "metadata": {},
   "source": [
    "We will look at two ways to tune hyperparameters. The first relies on TensorBoard and makes things quite visual. It's also relatively intuitive, but doesn't have as much functionality as the second way of using Keras Tuner."
   ]
  },
  {
   "cell_type": "markdown",
   "id": "5b8d74ad",
   "metadata": {},
   "source": [
    "## 1.1 Using HParams and TensorBoard"
   ]
  },
  {
   "cell_type": "markdown",
   "id": "5327460a",
   "metadata": {},
   "source": [
    "We will use the California housing price dataset, that you should be familiar with by now:"
   ]
  },
  {
   "cell_type": "code",
   "execution_count": 3,
   "id": "53da6bf3",
   "metadata": {},
   "outputs": [
    {
     "name": "stdout",
     "output_type": "stream",
     "text": [
      "(14447, 8)\n",
      "(3097, 8)\n",
      "(3096, 8)\n"
     ]
    }
   ],
   "source": [
    "housing = fetch_california_housing()\n",
    "\n",
    "X_train, X_other, y_train, y_other = train_test_split(housing['data'], housing['target'], train_size=0.7, random_state=461)\n",
    "X_test, X_valid, y_test, y_valid = train_test_split(X_other, y_other, train_size = 0.5, random_state=391)\n",
    "print(X_train.shape)\n",
    "print(X_valid.shape)\n",
    "print(X_test.shape)"
   ]
  },
  {
   "cell_type": "markdown",
   "id": "ddd78ede",
   "metadata": {},
   "source": [
    "HParams works together with TensorBoard, so we load the TensorBoard extension into the notebook:"
   ]
  },
  {
   "cell_type": "code",
   "execution_count": 4,
   "id": "8d061d53",
   "metadata": {},
   "outputs": [],
   "source": [
    "%load_ext tensorboard"
   ]
  },
  {
   "cell_type": "markdown",
   "id": "6b7ef9fb",
   "metadata": {},
   "source": [
    "The following command deletes the log folder and may be useful for cleaning up. But be careful not to delete the things you still want to keep:"
   ]
  },
  {
   "cell_type": "code",
   "execution_count": 5,
   "id": "e8a3cf7a",
   "metadata": {},
   "outputs": [],
   "source": [
    "rm -rf ./logs/"
   ]
  },
  {
   "cell_type": "markdown",
   "id": "a9f864ef",
   "metadata": {},
   "source": [
    "We start by defining the parameters to tune over. We will tune the learning rate, the choice of optimizer, the dropout rate, and the number of hidden units per layer. We will stay fixed with two hidden layers, however.\n",
    "\n",
    "Using HParams, we define the parameters, as well as the interval over which we may vary them:"
   ]
  },
  {
   "cell_type": "code",
   "execution_count": 6,
   "id": "a9f0aac5",
   "metadata": {},
   "outputs": [],
   "source": [
    "HP_LEARNING_RATE = hp.HParam('learning_rate', hp.RealInterval(0.001,0.1))\n",
    "HP_OPTIMIZER = hp.HParam('optimizer', hp.Discrete(['adam', 'sgd']))\n",
    "HP_DROPOUT = hp.HParam('dropout', hp.RealInterval(0.1, 0.3))\n",
    "HP_NUM_UNITS = hp.HParam('num_units', hp.Discrete(range(3,21)))"
   ]
  },
  {
   "cell_type": "markdown",
   "id": "11dbcc80",
   "metadata": {},
   "source": [
    "We also need to define the metrics to measure. We will only care about the mean squared error in our case, since we are performing a regression:"
   ]
  },
  {
   "cell_type": "code",
   "execution_count": 7,
   "id": "9fe57415",
   "metadata": {},
   "outputs": [],
   "source": [
    "METRIC_MSE = 'mean_squared_error'"
   ]
  },
  {
   "cell_type": "markdown",
   "id": "35b1692f",
   "metadata": {},
   "source": [
    "Once we have set up our parameters and metrics, we write those into our folder with the logs:"
   ]
  },
  {
   "cell_type": "code",
   "execution_count": 8,
   "id": "98231282",
   "metadata": {},
   "outputs": [
    {
     "name": "stderr",
     "output_type": "stream",
     "text": [
      "2022-02-25 13:11:55.310884: I tensorflow/core/platform/cpu_feature_guard.cc:151] This TensorFlow binary is optimized with oneAPI Deep Neural Network Library (oneDNN) to use the following CPU instructions in performance-critical operations:  AVX2 FMA\n",
      "To enable them in other operations, rebuild TensorFlow with the appropriate compiler flags.\n"
     ]
    }
   ],
   "source": [
    "with tf.summary.create_file_writer('logs/hparam_tuning').as_default():\n",
    "    hp.hparams_config(hparams=[HP_LEARNING_RATE, HP_OPTIMIZER, HP_DROPOUT, HP_NUM_UNITS],\n",
    "                      metrics = [hp.Metric(METRIC_MSE, display_name='MSE')])"
   ]
  },
  {
   "cell_type": "markdown",
   "id": "bdfbfe83",
   "metadata": {},
   "source": [
    "Next, we define a function that creates and trains a model, and evaluates it on the test set. This function will get a dictionary `hparams`, that contains the different parameter choices. Hence, the way the model is build is kept variable.\n",
    "\n",
    "The function returns the mean squared error on the validation set, which is the metric across which we compare models."
   ]
  },
  {
   "cell_type": "code",
   "execution_count": 9,
   "id": "f91f0882",
   "metadata": {},
   "outputs": [],
   "source": [
    "def train_test_model(hparams):\n",
    "    model = tf.keras.models.Sequential([\n",
    "        tf.keras.layers.Dropout(hparams[HP_DROPOUT]),\n",
    "        tf.keras.layers.Dense(hparams[HP_NUM_UNITS], activation=\"relu\"),\n",
    "        tf.keras.layers.Dropout(hparams[HP_DROPOUT]),\n",
    "        tf.keras.layers.Dense(hparams[HP_NUM_UNITS], activation=\"relu\"),\n",
    "        tf.keras.layers.Dense(1)])\n",
    "    \n",
    "    if hparams[HP_OPTIMIZER] == 'sgd':\n",
    "        # Note that exploding gradients can be a big problem when running regressions, especially under SGD\n",
    "        # Hence, we use \"gradient clipping\" with parameter alpha, which means that the gradients are manually kept between -1 and 1\n",
    "        # This is of course another hyperparameter that we might tune!\n",
    "        optimizer = tf.keras.optimizers.SGD(learning_rate=hparams[HP_LEARNING_RATE],clipvalue=1)\n",
    "    elif hparams[HP_OPTIMIZER] == 'adam':\n",
    "        optimizer = tf.keras.optimizers.Adam(learning_rate=hparams[HP_LEARNING_RATE])\n",
    "        \n",
    "    model.compile(  optimizer=optimizer,\n",
    "                    loss='mean_squared_error')\n",
    "\n",
    "    model.fit(X_train, y_train, epochs=10)\n",
    "    mse = model.evaluate(X_valid, y_valid)\n",
    "    \n",
    "    return mse"
   ]
  },
  {
   "cell_type": "markdown",
   "id": "de87c17a",
   "metadata": {},
   "source": [
    "Then, we also define a function that logs the choice of parameters and the output of our function (the mse), in order to display both in TensorBoard:"
   ]
  },
  {
   "cell_type": "code",
   "execution_count": 10,
   "id": "86e8ed14",
   "metadata": {},
   "outputs": [],
   "source": [
    "def run(run_dir, hparams):\n",
    "    with tf.summary.create_file_writer(run_dir).as_default():\n",
    "        hp.hparams(hparams)\n",
    "        mse = train_test_model(hparams)\n",
    "        tf.summary.scalar(METRIC_MSE, mse, step=1)"
   ]
  },
  {
   "cell_type": "markdown",
   "id": "28058a31",
   "metadata": {},
   "source": [
    "Finally, we run a few different choices of parameters. Remember to choose parameters randomly! It is fine to sample the `dropout_rate`, `num_units` and `optimizer` at uniformly, but keep in mind the scaling issue when it comes to the `learning_rate`:"
   ]
  },
  {
   "cell_type": "code",
   "execution_count": 11,
   "id": "d5aa1f7a",
   "metadata": {},
   "outputs": [
    {
     "name": "stdout",
     "output_type": "stream",
     "text": [
      "--- Starting trial: run-0\n",
      "{'learning_rate': 0.0013967382531585688, 'optimizer': 'sgd', 'dropout': 0.25131764745873997, 'num_units': 3}\n",
      "Epoch 1/10\n",
      "452/452 [==============================] - 2s 2ms/step - loss: 7294.7793\n",
      "Epoch 2/10\n",
      "452/452 [==============================] - 1s 2ms/step - loss: 6.9934\n",
      "Epoch 3/10\n",
      "452/452 [==============================] - 1s 2ms/step - loss: 4.5999\n",
      "Epoch 4/10\n",
      "452/452 [==============================] - 1s 2ms/step - loss: 2.6943\n",
      "Epoch 5/10\n",
      "452/452 [==============================] - 1s 2ms/step - loss: 1.5092\n",
      "Epoch 6/10\n",
      "452/452 [==============================] - 1s 2ms/step - loss: 1.3940\n",
      "Epoch 7/10\n",
      "452/452 [==============================] - 1s 2ms/step - loss: 1.3908\n",
      "Epoch 8/10\n",
      "452/452 [==============================] - 1s 2ms/step - loss: 1.3846\n",
      "Epoch 9/10\n",
      "452/452 [==============================] - 1s 2ms/step - loss: 1.3795\n",
      "Epoch 10/10\n",
      "452/452 [==============================] - 1s 2ms/step - loss: 1.3716\n",
      "97/97 [==============================] - 0s 2ms/step - loss: 1.2910\n",
      "--- Starting trial: run-1\n",
      "{'learning_rate': 0.14713468337669275, 'optimizer': 'adam', 'dropout': 0.17360314083662237, 'num_units': 7}\n",
      "Epoch 1/10\n",
      "452/452 [==============================] - 1s 2ms/step - loss: 1883.1820\n",
      "Epoch 2/10\n",
      "452/452 [==============================] - 1s 2ms/step - loss: 1.3602\n",
      "Epoch 3/10\n",
      "452/452 [==============================] - 1s 2ms/step - loss: 1.3495\n",
      "Epoch 4/10\n",
      "452/452 [==============================] - 1s 2ms/step - loss: 1.3497\n",
      "Epoch 5/10\n",
      "452/452 [==============================] - 1s 2ms/step - loss: 1.3497\n",
      "Epoch 6/10\n",
      "452/452 [==============================] - 1s 2ms/step - loss: 1.3494\n",
      "Epoch 7/10\n",
      "452/452 [==============================] - 1s 2ms/step - loss: 1.3502\n",
      "Epoch 8/10\n",
      "452/452 [==============================] - 1s 2ms/step - loss: 1.3502\n",
      "Epoch 9/10\n",
      "452/452 [==============================] - 1s 2ms/step - loss: 1.3505\n",
      "Epoch 10/10\n",
      "452/452 [==============================] - 1s 2ms/step - loss: 1.3502\n",
      "97/97 [==============================] - 0s 1ms/step - loss: 1.2857\n",
      "--- Starting trial: run-2\n",
      "{'learning_rate': 0.709151143310812, 'optimizer': 'sgd', 'dropout': 0.2578919113873218, 'num_units': 19}\n",
      "Epoch 1/10\n",
      "452/452 [==============================] - 2s 2ms/step - loss: 5176249.0000\n",
      "Epoch 2/10\n",
      "452/452 [==============================] - 1s 2ms/step - loss: 1.4877\n",
      "Epoch 3/10\n",
      "452/452 [==============================] - 1s 2ms/step - loss: 1.4215\n",
      "Epoch 4/10\n",
      "452/452 [==============================] - 1s 2ms/step - loss: 1.4164\n",
      "Epoch 5/10\n",
      "452/452 [==============================] - 1s 2ms/step - loss: 1.4267\n",
      "Epoch 6/10\n",
      "452/452 [==============================] - 1s 2ms/step - loss: 1.4175\n",
      "Epoch 7/10\n",
      "452/452 [==============================] - 1s 2ms/step - loss: 1.4258\n",
      "Epoch 8/10\n",
      "452/452 [==============================] - 1s 2ms/step - loss: 1.4267\n",
      "Epoch 9/10\n",
      "452/452 [==============================] - 1s 2ms/step - loss: 1.4155\n",
      "Epoch 10/10\n",
      "452/452 [==============================] - 1s 2ms/step - loss: 1.4311\n",
      "97/97 [==============================] - 0s 2ms/step - loss: 1.2879\n",
      "--- Starting trial: run-3\n",
      "{'learning_rate': 0.0014199389790143064, 'optimizer': 'sgd', 'dropout': 0.158125520866234, 'num_units': 19}\n",
      "Epoch 1/10\n",
      "452/452 [==============================] - 1s 2ms/step - loss: 920.5882\n",
      "Epoch 2/10\n",
      "452/452 [==============================] - 1s 2ms/step - loss: 60.3880\n",
      "Epoch 3/10\n",
      "452/452 [==============================] - 1s 2ms/step - loss: 43.8192\n",
      "Epoch 4/10\n",
      "452/452 [==============================] - 1s 2ms/step - loss: 29.5203\n",
      "Epoch 5/10\n",
      "452/452 [==============================] - 1s 2ms/step - loss: 23.1062\n",
      "Epoch 6/10\n",
      "452/452 [==============================] - 1s 2ms/step - loss: 20.8966\n",
      "Epoch 7/10\n",
      "452/452 [==============================] - 1s 2ms/step - loss: 17.9717\n",
      "Epoch 8/10\n",
      "452/452 [==============================] - 1s 3ms/step - loss: 17.5943\n",
      "Epoch 9/10\n",
      "452/452 [==============================] - 1s 2ms/step - loss: 16.8595\n",
      "Epoch 10/10\n",
      "452/452 [==============================] - 1s 2ms/step - loss: 17.2213\n",
      "97/97 [==============================] - 0s 1ms/step - loss: 13.7441\n",
      "--- Starting trial: run-4\n",
      "{'learning_rate': 0.13960245335552515, 'optimizer': 'adam', 'dropout': 0.26383456395860816, 'num_units': 14}\n",
      "Epoch 1/10\n",
      "452/452 [==============================] - 1s 2ms/step - loss: 33267.7188\n",
      "Epoch 2/10\n",
      "452/452 [==============================] - 1s 2ms/step - loss: 3.2098\n",
      "Epoch 3/10\n",
      "452/452 [==============================] - 1s 2ms/step - loss: 1.6447\n",
      "Epoch 4/10\n",
      "452/452 [==============================] - 1s 2ms/step - loss: 1.3721\n",
      "Epoch 5/10\n",
      "452/452 [==============================] - 1s 2ms/step - loss: 1.3502\n",
      "Epoch 6/10\n",
      "452/452 [==============================] - 1s 2ms/step - loss: 1.3536\n",
      "Epoch 7/10\n",
      "452/452 [==============================] - 1s 2ms/step - loss: 1.3495\n",
      "Epoch 8/10\n",
      "452/452 [==============================] - 1s 2ms/step - loss: 1.3494\n",
      "Epoch 9/10\n",
      "452/452 [==============================] - 1s 2ms/step - loss: 1.3495\n",
      "Epoch 10/10\n",
      "452/452 [==============================] - 1s 2ms/step - loss: 1.3490\n",
      "97/97 [==============================] - 0s 2ms/step - loss: 1.2882\n"
     ]
    }
   ],
   "source": [
    "total_sessions = 5\n",
    "\n",
    "for session in range(total_sessions):\n",
    "    \n",
    "    # Create hyperparameters randomly\n",
    "    dropout_rate = HP_DROPOUT.domain.sample_uniform()\n",
    "    num_units = HP_NUM_UNITS.domain.sample_uniform()\n",
    "    optimizer = HP_OPTIMIZER.domain.sample_uniform()\n",
    "    \n",
    "    r = -3*np.random.rand()\n",
    "    learning_rate = 10.0**r\n",
    "    \n",
    "    # Create a dictionary of hyperparameters\n",
    "    hparams = { HP_LEARNING_RATE: learning_rate,\n",
    "                HP_OPTIMIZER: optimizer,\n",
    "                HP_DROPOUT: dropout_rate,\n",
    "                HP_NUM_UNITS: num_units}\n",
    "    \n",
    "    # train the model with the chosen parameters\n",
    "    run_name = \"run-%d\" % session\n",
    "    print('--- Starting trial: %s' % run_name)\n",
    "    print({h.name: hparams[h] for h in hparams})\n",
    "    run('logs/hparam_tuning/' + run_name, hparams)"
   ]
  },
  {
   "cell_type": "markdown",
   "id": "64a4a221",
   "metadata": {},
   "source": [
    "Finally, we display the runs using TensorBoard. If you are lucky, it is enough to call\n",
    "```\n",
    "%tensorboard --logdir logs\n",
    "```\n",
    "Otherwise, you might have to specify the path to the TensorBoard binary, such as here:"
   ]
  },
  {
   "cell_type": "code",
   "execution_count": 12,
   "id": "a02024a0",
   "metadata": {},
   "outputs": [
    {
     "data": {
      "text/plain": [
       "ERROR: Could not find\n",
       "'/Users/philippe/anaconda3/envs/adl_env/bin/tensorboard' (set by the\n",
       "`TENSORBOARD_BINARY` environment variable). Please ensure that your\n",
       "PATH contains an executable `tensorboard` program, or explicitly\n",
       "specify the path to a TensorBoard binary by setting the\n",
       "`TENSORBOARD_BINARY` environment variable."
      ]
     },
     "metadata": {},
     "output_type": "display_data"
    }
   ],
   "source": [
    "os.environ['TENSORBOARD_BINARY'] = '/Users/philippe/anaconda3/envs/adl_env/bin/tensorboard'\n",
    "%tensorboard --logdir logs"
   ]
  },
  {
   "cell_type": "markdown",
   "id": "fc39cc4f",
   "metadata": {},
   "source": [
    "Once you have chosen a model that you like based on the hyperparameter search, how do you proceed?"
   ]
  },
  {
   "cell_type": "markdown",
   "id": "69fe3d88",
   "metadata": {},
   "source": [
    "## 1.2 Using the Keras Tuner"
   ]
  },
  {
   "cell_type": "markdown",
   "id": "d3afaeee",
   "metadata": {},
   "source": [
    "We will next use the Keras Tuner, an toolbox within Keras to tune hyperparameters. You may need to install this first:"
   ]
  },
  {
   "cell_type": "code",
   "execution_count": 13,
   "id": "e2d4c5b2",
   "metadata": {},
   "outputs": [],
   "source": [
    "#pip install keras-tuner"
   ]
  },
  {
   "cell_type": "markdown",
   "id": "9a9ea08b",
   "metadata": {},
   "source": [
    "Once we have installed Keras Tuner, we can import it:"
   ]
  },
  {
   "cell_type": "code",
   "execution_count": 15,
   "id": "822c8d24",
   "metadata": {},
   "outputs": [],
   "source": [
    "import keras_tuner as kt"
   ]
  },
  {
   "cell_type": "markdown",
   "id": "7bc0bdfa",
   "metadata": {},
   "source": [
    "With Keras Tuner, we create again a function that builds a model. This time, however, the function does not contain the actual model fitting and evaluation, only the model building and compilation.\n",
    "\n",
    "We start simple, with a function that builds a model with an arbitrary number of units per hidden layer. Instead of pre-specifying the parameters, the Keras Tuner now generates them, based on the `hp` input to the function. We want an integer value for `num_units`, between 3 and 20. Hence, we can use \n",
    "```\n",
    "num_units = hp.Int('num_units', min_value = ..., max_value=...)\n",
    "```\n",
    "where the `min_value` and `max_value` are filled appropriately."
   ]
  },
  {
   "cell_type": "code",
   "execution_count": 16,
   "id": "36938620",
   "metadata": {},
   "outputs": [
    {
     "ename": "SyntaxError",
     "evalue": "invalid syntax (1308964167.py, line 2)",
     "output_type": "error",
     "traceback": [
      "\u001b[0;36m  File \u001b[0;32m\"/var/folders/fr/m4v_69gx29dghgljd9_f6r4w0000gn/T/ipykernel_2931/1308964167.py\"\u001b[0;36m, line \u001b[0;32m2\u001b[0m\n\u001b[0;31m    num_units = #\u001b[0m\n\u001b[0m                 ^\u001b[0m\n\u001b[0;31mSyntaxError\u001b[0m\u001b[0;31m:\u001b[0m invalid syntax\n"
     ]
    }
   ],
   "source": [
    "def train_model(hp):    \n",
    "    num_units = #\n",
    "    \n",
    "    model = tf.keras.models.Sequential([\n",
    "        tf.keras.layers.Dropout(0.2),\n",
    "        tf.keras.layers.Dense(num_units, activation=\"relu\"),\n",
    "        tf.keras.layers.Dropout(0.2),\n",
    "        tf.keras.layers.Dense(num_units, activation=\"relu\"),\n",
    "        tf.keras.layers.Dense(1)])\n",
    "    \n",
    "    \n",
    "    optimizer = tf.keras.optimizers.Adam(learning_rate=0.001)\n",
    "        \n",
    "    model.compile(  optimizer=optimizer,\n",
    "                    loss='mean_squared_error')\n",
    "    \n",
    "    return model"
   ]
  },
  {
   "cell_type": "markdown",
   "id": "c84d01e9",
   "metadata": {},
   "source": [
    "Once we have defined the function to build the model, we can create a Keras Tuner object. Here, we have to decide how we want to do the tuning.\n",
    "\n",
    "We could use `kt.RandomSearch` to consider different random combinations of hyperparameters, as we have before. But the real benefit of using a hyperparameter tuning framework like Keras Tuner comes from the ability to do better. In particular, we can use the following tuners that don't just look randomly at different sets of hyperparameters, but choose sets of hyperparameters that make sense to explore based on what the tuner has seen so far:\n",
    "- `Hyperband`\n",
    "- `BayesianOptimization`\n",
    "- `Sklearn`\n",
    "\n",
    "We will use Hyperband here. If you want to know exactly how it works, you can find [the relevant paper here](https://arxiv.org/pdf/1603.06560.pdf).\n",
    "\n",
    "The code below generates a `Hyperband` tuner. We need to specify\n",
    "- `max_epochs`, that is the maximum number of epochs that any trial is allowed to take (the tuner will usually only use a part of these epochs and stop early if the trial seems hopeless compared to other trials)\n",
    "- `factor` (if we don't specify this, it defaults to 3, which is usually fine), which has to do with the reduction of epochs across trials. It goes beyond the scope of the course, but if you want to know more, you can find all the information in the paper\n",
    "- `directory`, where our log is stored\n",
    "- `project_name`, the sub-directory to store our log\n",
    "\n",
    "Note that we don't specify the number of trials! This is based on how the algorithm works and will be roughly\n",
    "```\n",
    "max_epochs * log(max_epochs) / log(factor)\n",
    "```"
   ]
  },
  {
   "cell_type": "code",
   "execution_count": null,
   "id": "7d73f188",
   "metadata": {},
   "outputs": [],
   "source": [
    "tuner = kt.Hyperband(train_model,\n",
    "                     objective='val_loss',\n",
    "                     max_epochs=10,\n",
    "                     factor=3,\n",
    "                     directory='logs2',\n",
    "                     project_name='kt_tutorial_1')                     "
   ]
  },
  {
   "cell_type": "markdown",
   "id": "ef0d3179",
   "metadata": {},
   "source": [
    "Note that the tuner won't run if the folder `'directory/project_name'` has already been filled. In that case, you might want to clear it out as follows:"
   ]
  },
  {
   "cell_type": "code",
   "execution_count": null,
   "id": "31f97abc",
   "metadata": {},
   "outputs": [],
   "source": [
    "rm -rf ./logs2/kt_tutorial_1"
   ]
  },
  {
   "cell_type": "markdown",
   "id": "88df1351",
   "metadata": {},
   "source": [
    "Next, we can run the tuner with the `search` function. This takes the same inputs as when you `fit` a single model. Only that it will now generate parameters based on the Hyperband algorithm.\n",
    "\n",
    "\n",
    "When the tuner runs, you can see the current statistics, as well as the statistics of the best hyperparameter set found so far."
   ]
  },
  {
   "cell_type": "code",
   "execution_count": null,
   "id": "703d8270",
   "metadata": {},
   "outputs": [],
   "source": [
    "tuner.search(X_train,y_train,validation_data=(X_valid,y_valid))"
   ]
  },
  {
   "cell_type": "markdown",
   "id": "9e5a809d",
   "metadata": {},
   "source": [
    "Once you are done, you can take a look at the best hyperparameters found. You can index them like a dictionary (based on the name you gave before):"
   ]
  },
  {
   "cell_type": "code",
   "execution_count": null,
   "id": "49c5a335",
   "metadata": {},
   "outputs": [],
   "source": [
    "best_hps = tuner.get_best_hyperparameters()[0]\n",
    "best_hps['num_units']"
   ]
  },
  {
   "cell_type": "markdown",
   "id": "58a37579",
   "metadata": {},
   "source": [
    "We can also now directly build a model that uses the best hyperparameters:"
   ]
  },
  {
   "cell_type": "code",
   "execution_count": null,
   "id": "21302119",
   "metadata": {},
   "outputs": [],
   "source": [
    "best_model = tuner.hypermodel.build(best_hps)"
   ]
  },
  {
   "cell_type": "markdown",
   "id": "e37544bc",
   "metadata": {},
   "source": [
    "This is a fresh model that we still have to train (the hyperparameters have been chosen, but the parameters (weights and biases) don't even exist yet (verify this, for example, with `best_model.layers[1].get_weights()`)\n",
    "\n",
    "Hence, we now train the model as usual:"
   ]
  },
  {
   "cell_type": "code",
   "execution_count": null,
   "id": "537bb6a0",
   "metadata": {},
   "outputs": [],
   "source": [
    "best_model.fit(X_train, y_train,\n",
    "               epochs=30,\n",
    "               validation_data=(X_valid,y_valid))"
   ]
  },
  {
   "cell_type": "markdown",
   "id": "427dbabe",
   "metadata": {},
   "source": [
    "Once we are done with training, we can evaluate the model on the test set:"
   ]
  },
  {
   "cell_type": "code",
   "execution_count": null,
   "id": "c479f3c7",
   "metadata": {},
   "outputs": [],
   "source": [
    "best_model.evaluate(X_test, y_test)"
   ]
  },
  {
   "cell_type": "markdown",
   "id": "b8128140",
   "metadata": {},
   "source": [
    "### Tuning more parameters"
   ]
  },
  {
   "cell_type": "markdown",
   "id": "44428c1e",
   "metadata": {},
   "source": [
    "Let's make things a bit more interesting. Create again the `train_model(hp)` function, but this time, we vary all the hyperparameters that we varied before. In particular:\n",
    "- vary the `num_units`, as before\n",
    "- vary the `dropout_rate`. This is not an integer value, but a float, but otherwise things are like before. Hence, you want to use `hp.Float('dropout_rate', min_value = ..., max_value=...)` with the right values\n",
    "- vary the `optimizer`. Here, we choose from a set of two different ones, so we can use `hp.Choice('optimizer', values=[....])`. Make sure to specify the values from which you are choosing and then set the right optimizer with an `if...else` block, as we did earlier\n",
    "- vary the `learning_rate`. This is a float again, but remember that we want a log-scale. Here, we can implement this quite easily with `hp.Float('learning_rate', min_value = ..., max_value=..., sampling='log')` (and, of course, again with the right minimum and maximum values)"
   ]
  },
  {
   "cell_type": "code",
   "execution_count": null,
   "id": "9b49e8ac",
   "metadata": {},
   "outputs": [],
   "source": [
    "def train_model(hp): \n",
    "    \n",
    "    \n",
    "    \n",
    "    \n",
    "    \n",
    "    \n",
    "    \n",
    "    \n",
    "    \n",
    "    \n",
    "    \n",
    "    \n",
    "    \n",
    "    \n",
    "    \n",
    "    \n",
    "    \n",
    "    return model"
   ]
  },
  {
   "cell_type": "markdown",
   "id": "d7321a7a",
   "metadata": {},
   "source": [
    "Once you have specified your model, we can again generate the `Hyperband` tuner object and search through the space of hyperparameters:"
   ]
  },
  {
   "cell_type": "code",
   "execution_count": null,
   "id": "7fb60127",
   "metadata": {},
   "outputs": [],
   "source": [
    "tuner = kt.Hyperband(train_model,\n",
    "                     objective='val_loss',\n",
    "                     max_epochs=10,\n",
    "                     factor=3,\n",
    "                     directory='logs2',\n",
    "                     project_name='kt_tutorial_2')\n",
    "tuner.search(X_train, y_train, validation_data=(X_valid,y_valid))"
   ]
  },
  {
   "cell_type": "markdown",
   "id": "544320b4",
   "metadata": {},
   "source": [
    "Once done, take a look at the optimal parameters:"
   ]
  },
  {
   "cell_type": "code",
   "execution_count": null,
   "id": "395031e7",
   "metadata": {},
   "outputs": [],
   "source": [
    "best_hps = tuner.get_best_hyperparameters()[0]\n",
    "print(\"Best learning rate: \" + str(best_hps['learning_rate']))\n",
    "print(\"Best optimizer: \" + str(best_hps['optimizer']))\n",
    "print(\"Best dropout rate: \" + str(best_hps['dropout_rate']))\n",
    "print(\"Best number of hidden units: \" + str(best_hps['num_units']))"
   ]
  },
  {
   "cell_type": "markdown",
   "id": "beb074a7",
   "metadata": {},
   "source": [
    "Again, we can build a fresh model using these hyperparameters:"
   ]
  },
  {
   "cell_type": "code",
   "execution_count": null,
   "id": "cff697e4",
   "metadata": {},
   "outputs": [],
   "source": [
    "best_model = tuner.hypermodel.build(best_hps)"
   ]
  },
  {
   "cell_type": "markdown",
   "id": "f34d8720",
   "metadata": {},
   "source": [
    "This time, we won't just train the model, we will also add in an `EarlyStopping` callback. Can you create a callback `early_stopping_cb` using `tf.keras.callbacks.EarlyStopping(...)`, with `patience=10` and `restor_best_weights=True`?"
   ]
  },
  {
   "cell_type": "code",
   "execution_count": null,
   "id": "7448de0a",
   "metadata": {},
   "outputs": [],
   "source": [
    "early_stopping_cb = #"
   ]
  },
  {
   "cell_type": "markdown",
   "id": "0c0ea985",
   "metadata": {},
   "source": [
    "Now, train the best model, using also an early stop:"
   ]
  },
  {
   "cell_type": "code",
   "execution_count": null,
   "id": "d85e3004",
   "metadata": {},
   "outputs": [],
   "source": [
    "best_model.fit(X_train, y_train,\n",
    "               epochs=30,\n",
    "               validation_data=(X_valid,y_valid),\n",
    "               callbacks=[early_stopping_cb])\n",
    "print(\"MSE on test set: \" + str(best_model.evaluate(X_test, y_test)))"
   ]
  },
  {
   "cell_type": "markdown",
   "id": "e5c118f3",
   "metadata": {},
   "source": [
    "# 2. Autoencoder"
   ]
  },
  {
   "cell_type": "markdown",
   "id": "52d9d5f6",
   "metadata": {},
   "source": [
    "We will build autoencoders. First, we create a simple autoencoder to compress data, then we will create another one that allows to denoise images! In your assignment, you will also build an autoencoder to detect anomalies - quite the versatile tool, right?"
   ]
  },
  {
   "cell_type": "markdown",
   "id": "3aa56240",
   "metadata": {},
   "source": [
    "## 2.1 A basic autoencoder"
   ]
  },
  {
   "cell_type": "markdown",
   "id": "c5739afc",
   "metadata": {},
   "source": [
    "We use the previous `fashion_mnist` dataset that you should be familiar with by now:"
   ]
  },
  {
   "cell_type": "code",
   "execution_count": 3,
   "id": "d1048366",
   "metadata": {},
   "outputs": [
    {
     "name": "stdout",
     "output_type": "stream",
     "text": [
      "(50000, 28, 28)\n",
      "(50000,)\n"
     ]
    }
   ],
   "source": [
    "fashion_mnist = tf.keras.datasets.fashion_mnist\n",
    "(X_other, y_other), (X_test, y_test) = fashion_mnist.load_data()\n",
    "X_other = X_other / 255.\n",
    "X_test = X_test / 255.\n",
    "X_train, X_valid, y_train, y_valid = train_test_split(X_other, y_other, train_size = 50000, random_state=152)\n",
    "print(X_train.shape)\n",
    "print(y_train.shape)"
   ]
  },
  {
   "cell_type": "markdown",
   "id": "0481616a",
   "metadata": {},
   "source": [
    "An autoencoder consists of two parts: the encoder (with less and less neurons per layer) and the decoder (with more and more neurons per layer). You don't have to, but it usually makes sense to define the encoder and the decoder separately. Let's start with the encoder. We will create an encoder that flattens the inputs, but only uses one hidden layer (with 64 inputs):"
   ]
  },
  {
   "cell_type": "code",
   "execution_count": null,
   "id": "d0e4a985",
   "metadata": {},
   "outputs": [],
   "source": [
    "\n",
    "\n"
   ]
  },
  {
   "cell_type": "markdown",
   "id": "aa0aafb6",
   "metadata": {},
   "source": [
    "Keep in mind that our inputs have $28\\times 28 = 784$ dimensions, while the input layer only has $64$ \"dimensions\"."
   ]
  },
  {
   "cell_type": "markdown",
   "id": "76bb97a9",
   "metadata": {},
   "source": [
    "We can now define a decoder (with a single layer). Keep in mind that we want to return an image, so we have to reshape our output:"
   ]
  },
  {
   "cell_type": "code",
   "execution_count": null,
   "id": "5d06b479",
   "metadata": {},
   "outputs": [],
   "source": [
    "\n",
    "\n"
   ]
  },
  {
   "cell_type": "markdown",
   "id": "817ea0f1",
   "metadata": {},
   "source": [
    "The autoencoder now simply takes the encoding layers and the decoding layers and puts them together:"
   ]
  },
  {
   "cell_type": "code",
   "execution_count": null,
   "id": "955e7410",
   "metadata": {},
   "outputs": [],
   "source": []
  },
  {
   "cell_type": "markdown",
   "id": "33201eae",
   "metadata": {},
   "source": [
    "Let's take a look at our autoencoder:"
   ]
  },
  {
   "cell_type": "code",
   "execution_count": null,
   "id": "2e44c410",
   "metadata": {},
   "outputs": [],
   "source": [
    "autoencoder.summary()"
   ]
  },
  {
   "cell_type": "markdown",
   "id": "23026d03",
   "metadata": {},
   "source": [
    "This doesn't tell us much, since it doesn't break up the encoder and decoder. However, we can look at individual summaries:"
   ]
  },
  {
   "cell_type": "code",
   "execution_count": null,
   "id": "89799da2",
   "metadata": {},
   "outputs": [],
   "source": [
    "encoder.summary()"
   ]
  },
  {
   "cell_type": "code",
   "execution_count": null,
   "id": "3443a26e",
   "metadata": {},
   "outputs": [],
   "source": [
    "decoder.summary()"
   ]
  },
  {
   "cell_type": "markdown",
   "id": "f107f0a6",
   "metadata": {},
   "source": [
    "The output has the same shape as our original inputs - good!\n",
    "We also need to make sure that the output is even able to recreate the input. Consider that each image-pixel is a value between 0 and 1 (because we normalized it like this). Recall that `'sigmoid'` can take values between 0 and 1, so it seems ideal for our purposes!\n",
    "\n",
    "Let's now compile our model. For autoencoders, we usually use the `MeanSquaredError` as a loss."
   ]
  },
  {
   "cell_type": "code",
   "execution_count": null,
   "id": "08780222",
   "metadata": {},
   "outputs": [],
   "source": []
  },
  {
   "cell_type": "markdown",
   "id": "9bb8e98a",
   "metadata": {},
   "source": [
    "After compiling, we can train the model. The important part is that we train the model to recreate the input. So what should our \"y\" be?"
   ]
  },
  {
   "cell_type": "code",
   "execution_count": null,
   "id": "cf90c8e8",
   "metadata": {},
   "outputs": [],
   "source": [
    "autoencoder.fit(x=X_train, y=...,\n",
    "                epochs=10,\n",
    "                validation_data=(X_valid, ...))"
   ]
  },
  {
   "cell_type": "markdown",
   "id": "8125c141",
   "metadata": {},
   "source": [
    "Now that we have trained the model, we can encode and decode our test data (we can either use the `autoencoder` directly to get the recreated data, or we can do so in two steps: first get the encoding, then use the encoding to recreate the data. We usually use the second approach in case we might want to better understand the encoding."
   ]
  },
  {
   "cell_type": "code",
   "execution_count": null,
   "id": "b74e1d1f",
   "metadata": {},
   "outputs": [],
   "source": [
    "encoded_imgs = \n",
    "decoded_imgs = \n",
    "print(X_test.shape)\n",
    "print(encoded_imgs.shape)\n",
    "print(decoded_imgs.shape)"
   ]
  },
  {
   "cell_type": "markdown",
   "id": "43bea54a",
   "metadata": {},
   "source": [
    "Let's look at some examples; both the original data and the recreated data:"
   ]
  },
  {
   "cell_type": "code",
   "execution_count": null,
   "id": "5e74a07d",
   "metadata": {},
   "outputs": [],
   "source": [
    "n = 5\n",
    "plt.figure(figsize=(2*n, 4))\n",
    "for i in range(n):\n",
    "    # display original\n",
    "    ax = plt.subplot(2, n, i + 1)\n",
    "    plt.imshow(X_test[i])\n",
    "    plt.title(\"original\")\n",
    "    plt.gray()\n",
    "    ax.get_xaxis().set_visible(False)\n",
    "    ax.get_yaxis().set_visible(False)\n",
    "\n",
    "    # display reconstruction\n",
    "    ax = plt.subplot(2, n, i + 1 + n)\n",
    "    plt.imshow(decoded_imgs[i])\n",
    "    plt.title(\"reconstructed\")\n",
    "    plt.gray()\n",
    "    ax.get_xaxis().set_visible(False)\n",
    "    ax.get_yaxis().set_visible(False)\n",
    "plt.show()"
   ]
  },
  {
   "cell_type": "markdown",
   "id": "0d755f72",
   "metadata": {},
   "source": [
    "Keep in mind that we only use $\\frac{64}{28*28} \\approx 8\\%$ of the features in the encoding, so this is quite the powerful result!\n",
    "\n",
    "What do you observe when you decrease the number of layers in the encoding even further?"
   ]
  },
  {
   "cell_type": "markdown",
   "id": "521e81db",
   "metadata": {},
   "source": [
    "## 2.2 Denoising data using an autoencoder"
   ]
  },
  {
   "cell_type": "markdown",
   "id": "44c1a6ba",
   "metadata": {},
   "source": [
    "We will now train an autoencoder to denoise images (you know, like the cliché geek in action thrillers). So let's create some noisy data - we add some normally distributed (\"Gaussian\") noise to the data. We also \"clip\" the data, to make sure that the pixel values are still between 0 and 1."
   ]
  },
  {
   "cell_type": "code",
   "execution_count": 4,
   "id": "40c6b6d0",
   "metadata": {},
   "outputs": [
    {
     "name": "stderr",
     "output_type": "stream",
     "text": [
      "2022-02-25 14:19:47.868547: I tensorflow/core/platform/cpu_feature_guard.cc:151] This TensorFlow binary is optimized with oneAPI Deep Neural Network Library (oneDNN) to use the following CPU instructions in performance-critical operations:  AVX2 FMA\n",
      "To enable them in other operations, rebuild TensorFlow with the appropriate compiler flags.\n"
     ]
    }
   ],
   "source": [
    "noise = 0.2\n",
    "\n",
    "X_train_noisy = X_train + noise * tf.random.normal(shape=X_train.shape) \n",
    "X_valid_noisy = X_valid + noise * tf.random.normal(shape=X_valid.shape) \n",
    "X_test_noisy = X_test + noise * tf.random.normal(shape=X_test.shape) \n",
    "\n",
    "X_train_noisy = tf.clip_by_value(X_train_noisy, clip_value_min=0., clip_value_max=1.)\n",
    "X_valid_noisy = tf.clip_by_value(X_valid_noisy, clip_value_min=0., clip_value_max=1.)\n",
    "X_test_noisy = tf.clip_by_value(X_test_noisy, clip_value_min=0., clip_value_max=1.)"
   ]
  },
  {
   "cell_type": "markdown",
   "id": "cb413b32",
   "metadata": {},
   "source": [
    "Let's take a look at some images and their noisy version:"
   ]
  },
  {
   "cell_type": "code",
   "execution_count": 5,
   "id": "42c81088",
   "metadata": {},
   "outputs": [
    {
     "data": {
      "image/png": "[encoded data removed]",
      "text/plain": [
       "<Figure size 720x288 with 10 Axes>"
      ]
     },
     "metadata": {
      "needs_background": "light"
     },
     "output_type": "display_data"
    }
   ],
   "source": [
    "n = 5\n",
    "plt.figure(figsize=(2*n, 4))\n",
    "for i in range(n):\n",
    "    # display original\n",
    "    ax = plt.subplot(2, n, i + 1)\n",
    "    plt.imshow(X_test[i])\n",
    "    plt.title(\"original\")\n",
    "    plt.gray()\n",
    "    ax.get_xaxis().set_visible(False)\n",
    "    ax.get_yaxis().set_visible(False)\n",
    "\n",
    "    # display reconstruction\n",
    "    ax = plt.subplot(2, n, i + 1 + n)\n",
    "    plt.imshow(X_test_noisy[i])\n",
    "    plt.title(\"original + noise\")\n",
    "    plt.gray()\n",
    "    ax.get_xaxis().set_visible(False)\n",
    "    ax.get_yaxis().set_visible(False)\n",
    "plt.show()"
   ]
  },
  {
   "cell_type": "markdown",
   "id": "f25ef206",
   "metadata": {},
   "source": [
    "Of course, you can increase or decrease the noise by simply changing the `noise` parameter."
   ]
  },
  {
   "cell_type": "markdown",
   "id": "cf4bc6e9",
   "metadata": {},
   "source": [
    "Let's now create an autoencoder. This will use convolutional layers - but don't worry, you don't need to know in detail what they do, we will get back to them in the next class.\n",
    "\n",
    "Start by creating an `encoder`, as before. However, instead of flattening the input and then using one `Dense` layer, we now use three different layers:\n",
    "1. a `Reshape` layer, with `tf.keras.layers.Reshape((28,28,1), input_shape=(28,28))` (this is because convolutional layers work with 3 dimensions, so we convert our matrices into 3-dimensional arrays, where the last dimension simply has size 1 - so basically still a matrix)\n",
    "1. a `Conv2D` layer, with `tf.keras.layers.Conv2D(16, (3, 3), activation='relu', padding='same', strides=2)`\n",
    "1. a `Conv2D` layer, with `tf.keras.layers.Conv2D(8, (3, 3), activation='relu', padding='same', strides=2)`"
   ]
  },
  {
   "cell_type": "code",
   "execution_count": 6,
   "id": "de893923",
   "metadata": {},
   "outputs": [],
   "source": [
    "encoder = tf.keras.Sequential([\n",
    "    tf.keras.layers.Reshape((28,28,1), input_shape=(28,28)),\n",
    "    tf.keras.layers.Conv2D(16, (3, 3), activation='relu', padding='same', strides=2),\n",
    "    tf.keras.layers.Conv2D(8, (3, 3), activation='relu', padding='same', strides=2)]) "
   ]
  },
  {
   "cell_type": "markdown",
   "id": "3d77e484",
   "metadata": {},
   "source": [
    "Next, create a `decoder`. Again, this is simply a `Sequential` model, that basically builds a symmetric version of the `encoder`. This time, we need three layers:\n",
    "1. a `Conv2DTranspose` layer (basically inverting a convolutional layer), with `tf.keras.layers.Conv2DTranspose(8, kernel_size=3, strides=2, activation='relu', padding='same')`\n",
    "1. another `Conv2DTranspose` layer, with `tf.keras.layers.Conv2DTranspose(16, kernel_size=3, strides=2, activation='relu', padding='same')`\n",
    "1. a `Conv2D` layer, that allows use to recreate the output, with `tf.keras.layers.Conv2D(1, kernel_size=(3, 3), activation='sigmoid', padding='same')`"
   ]
  },
  {
   "cell_type": "code",
   "execution_count": 9,
   "id": "fefe8792",
   "metadata": {},
   "outputs": [],
   "source": [
    "decoder = tf.keras.Sequential([\n",
    "    tf.keras.layers.Conv2DTranspose(8, kernel_size=3, strides=2, activation='relu', padding='same'),\n",
    "    tf.keras.layers.Conv2DTranspose(16, kernel_size=3, strides=2, activation='relu', padding='same'),\n",
    "    tf.keras.layers.Conv2D(1, kernel_size=(3, 3), activation='sigmoid', padding='same')])"
   ]
  },
  {
   "cell_type": "markdown",
   "id": "d3da8a3d",
   "metadata": {},
   "source": [
    "Do you see why the output is able to recreate the input? What is the critical ingredient here?"
   ]
  },
  {
   "cell_type": "markdown",
   "id": "0a86eb8c",
   "metadata": {},
   "source": [
    "We can now combine everything into an `autoencoder`, exactly as we did before:"
   ]
  },
  {
   "cell_type": "code",
   "execution_count": 10,
   "id": "d024321d",
   "metadata": {},
   "outputs": [],
   "source": [
    "autoencoder = tf.keras.Sequential([encoder,decoder])"
   ]
  },
  {
   "cell_type": "markdown",
   "id": "44d0666e",
   "metadata": {},
   "source": [
    "Next, take a look at the summary of the `encoder`:"
   ]
  },
  {
   "cell_type": "code",
   "execution_count": 11,
   "id": "e9c93d22",
   "metadata": {},
   "outputs": [
    {
     "name": "stdout",
     "output_type": "stream",
     "text": [
      "Model: \"sequential\"\n",
      "_________________________________________________________________\n",
      " Layer (type)                Output Shape              Param #   \n",
      "=================================================================\n",
      " reshape (Reshape)           (None, 28, 28, 1)         0         \n",
      "                                                                 \n",
      " conv2d (Conv2D)             (None, 14, 14, 16)        160       \n",
      "                                                                 \n",
      " conv2d_1 (Conv2D)           (None, 7, 7, 8)           1160      \n",
      "                                                                 \n",
      "=================================================================\n",
      "Total params: 1,320\n",
      "Trainable params: 1,320\n",
      "Non-trainable params: 0\n",
      "_________________________________________________________________\n"
     ]
    }
   ],
   "source": [
    "encoder.summary()"
   ]
  },
  {
   "cell_type": "markdown",
   "id": "de5b18c1",
   "metadata": {},
   "source": [
    "Compare the dimensions of the original input with the dimension of the encoding: "
   ]
  },
  {
   "cell_type": "code",
   "execution_count": 12,
   "id": "7d44ba39",
   "metadata": {},
   "outputs": [
    {
     "data": {
      "text/plain": [
       "784"
      ]
     },
     "execution_count": 12,
     "metadata": {},
     "output_type": "execute_result"
    }
   ],
   "source": [
    "28*28*1"
   ]
  },
  {
   "cell_type": "code",
   "execution_count": 13,
   "id": "0c17700b",
   "metadata": {},
   "outputs": [
    {
     "data": {
      "text/plain": [
       "392"
      ]
     },
     "execution_count": 13,
     "metadata": {},
     "output_type": "execute_result"
    }
   ],
   "source": [
    "7*7*8"
   ]
  },
  {
   "cell_type": "markdown",
   "id": "25a4242b",
   "metadata": {},
   "source": [
    "Let's also take a look at the decoding process:"
   ]
  },
  {
   "cell_type": "code",
   "execution_count": 14,
   "id": "4f59285d",
   "metadata": {},
   "outputs": [
    {
     "name": "stdout",
     "output_type": "stream",
     "text": [
      "Model: \"sequential_3\"\n",
      "_________________________________________________________________\n",
      " Layer (type)                Output Shape              Param #   \n",
      "=================================================================\n",
      " conv2d_transpose_4 (Conv2DT  (None, 14, 14, 8)        584       \n",
      " ranspose)                                                       \n",
      "                                                                 \n",
      " conv2d_transpose_5 (Conv2DT  (None, 28, 28, 16)       1168      \n",
      " ranspose)                                                       \n",
      "                                                                 \n",
      " conv2d_4 (Conv2D)           (None, 28, 28, 1)         145       \n",
      "                                                                 \n",
      "=================================================================\n",
      "Total params: 1,897\n",
      "Trainable params: 1,897\n",
      "Non-trainable params: 0\n",
      "_________________________________________________________________\n"
     ]
    }
   ],
   "source": [
    "decoder.summary()"
   ]
  },
  {
   "cell_type": "markdown",
   "id": "3f88c0aa",
   "metadata": {},
   "source": [
    "Next, compile the `autoencoder`. As before, we use the `MeanSquaredError` as a loss:"
   ]
  },
  {
   "cell_type": "code",
   "execution_count": 15,
   "id": "3e8ef19d",
   "metadata": {},
   "outputs": [],
   "source": [
    "autoencoder.compile(optimizer='adam', loss=tf.keras.losses.MeanSquaredError())"
   ]
  },
  {
   "cell_type": "markdown",
   "id": "37800d91",
   "metadata": {},
   "source": [
    "Finally, we need to train our `autoencoder`. Remember that we are taking the noisy image and then trying to predict the original one (**not** the noisy one) - so make sure to set the right \"y\" values for both training and validation.\n",
    "\n",
    "Then, run the training for 10 epochs - this might take a bit, so it's a good time for a break."
   ]
  },
  {
   "cell_type": "code",
   "execution_count": 16,
   "id": "78cf8404",
   "metadata": {},
   "outputs": [
    {
     "name": "stdout",
     "output_type": "stream",
     "text": [
      "Epoch 1/10\n",
      "1563/1563 [==============================] - 46s 29ms/step - loss: 0.0295 - val_loss: 0.0206\n",
      "Epoch 2/10\n",
      "1563/1563 [==============================] - 44s 28ms/step - loss: 0.0169 - val_loss: 0.0151\n",
      "Epoch 3/10\n",
      "1563/1563 [==============================] - 44s 28ms/step - loss: 0.0144 - val_loss: 0.0139\n",
      "Epoch 4/10\n",
      "1563/1563 [==============================] - 45s 29ms/step - loss: 0.0137 - val_loss: 0.0136\n",
      "Epoch 5/10\n",
      "1563/1563 [==============================] - 46s 30ms/step - loss: 0.0134 - val_loss: 0.0133\n",
      "Epoch 6/10\n",
      "1563/1563 [==============================] - 43s 28ms/step - loss: 0.0133 - val_loss: 0.0132\n",
      "Epoch 7/10\n",
      "1563/1563 [==============================] - 43s 28ms/step - loss: 0.0131 - val_loss: 0.0131\n",
      "Epoch 8/10\n",
      "1563/1563 [==============================] - 45s 29ms/step - loss: 0.0131 - val_loss: 0.0130\n",
      "Epoch 9/10\n",
      "1563/1563 [==============================] - 44s 28ms/step - loss: 0.0130 - val_loss: 0.0130\n",
      "Epoch 10/10\n",
      "1563/1563 [==============================] - 43s 28ms/step - loss: 0.0129 - val_loss: 0.0128\n"
     ]
    },
    {
     "data": {
      "text/plain": [
       "<keras.callbacks.History at 0x7fedb5a47c90>"
      ]
     },
     "execution_count": 16,
     "metadata": {},
     "output_type": "execute_result"
    }
   ],
   "source": [
    "autoencoder.fit(x=X_train_noisy, y=X_train_noisy,\n",
    "                epochs=10,\n",
    "                validation_data=(X_valid_noisy,X_valid_noisy))"
   ]
  },
  {
   "cell_type": "markdown",
   "id": "a63c62e4",
   "metadata": {},
   "source": [
    "Let's create again the encodings of the (noisy) test images, as well as the decoded version:"
   ]
  },
  {
   "cell_type": "code",
   "execution_count": 17,
   "id": "fd5bf17c",
   "metadata": {},
   "outputs": [
    {
     "name": "stdout",
     "output_type": "stream",
     "text": [
      "(10000, 28, 28)\n",
      "(10000, 7, 7, 8)\n",
      "(10000, 28, 28, 1)\n"
     ]
    }
   ],
   "source": [
    "encoded_imgs = encoder(X_test_noisy).numpy()\n",
    "decoded_imgs = decoder(encoded_imgs).numpy()\n",
    "print(X_test_noisy.shape)\n",
    "print(encoded_imgs.shape)\n",
    "print(decoded_imgs.shape)"
   ]
  },
  {
   "cell_type": "markdown",
   "id": "a1c46f19",
   "metadata": {},
   "source": [
    "We can plot all three: original images, noisy versions, and decoded original images:"
   ]
  },
  {
   "cell_type": "code",
   "execution_count": 18,
   "id": "2fc830a6",
   "metadata": {},
   "outputs": [
    {
     "data": {
      "image/png": "[encoded data removed]",
      "text/plain": [
       "<Figure size 720x432 with 15 Axes>"
      ]
     },
     "metadata": {
      "needs_background": "light"
     },
     "output_type": "display_data"
    }
   ],
   "source": [
    "n = 5\n",
    "plt.figure(figsize=(2*n,6))\n",
    "for i in range(n):\n",
    "    # display original\n",
    "    ax = plt.subplot(3, n, i + 1)\n",
    "    plt.title(\"original\")\n",
    "    plt.imshow(tf.squeeze(X_test[i]))\n",
    "    plt.gray()\n",
    "    ax.get_xaxis().set_visible(False)\n",
    "    ax.get_yaxis().set_visible(False)\n",
    "    \n",
    "    # display original + noise\n",
    "    bx = plt.subplot(3, n, i + n + 1)\n",
    "    plt.title(\"original + noise\")\n",
    "    plt.imshow(tf.squeeze(X_test_noisy[i]))\n",
    "    plt.gray()\n",
    "    bx.get_xaxis().set_visible(False)\n",
    "    bx.get_yaxis().set_visible(False)\n",
    "\n",
    "    # display reconstruction\n",
    "    cx = plt.subplot(3, n, i + 2*n + 1)\n",
    "    plt.title(\"reconstructed\")\n",
    "    plt.imshow(tf.squeeze(decoded_imgs[i]))\n",
    "    plt.gray()\n",
    "    cx.get_xaxis().set_visible(False)\n",
    "    cx.get_yaxis().set_visible(False)\n",
    "plt.show()"
   ]
  },
  {
   "cell_type": "markdown",
   "id": "ff660055",
   "metadata": {},
   "source": [
    "Not at the level of an action thriller yet, but pretty good for a very basic neural network without much tuning!"
   ]
  }
 ],
 "metadata": {
  "interpreter": {
   "hash": "dfbf29d6b298ee06653be85b1336aa59e8cd7929544b69296d5ef5d391694a35"
  },
  "kernelspec": {
   "display_name": "adl_env",
   "language": "python",
   "name": "python3"
  },
  "language_info": {
   "codemirror_mode": {
    "name": "ipython",
    "version": 3
   },
   "file_extension": ".py",
   "mimetype": "text/x-python",
   "name": "python",
   "nbconvert_exporter": "python",
   "pygments_lexer": "ipython3",
   "version": "3.7.7"
  }
 },
 "nbformat": 4,
 "nbformat_minor": 5
}

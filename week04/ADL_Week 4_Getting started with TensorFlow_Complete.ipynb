{
 "cells": [
  {
   "cell_type": "markdown",
   "id": "4fd1bc41",
   "metadata": {},
   "source": [
    "# Using TensorFlow to create and train neural networks"
   ]
  },
  {
   "cell_type": "markdown",
   "id": "26bdc8d6",
   "metadata": {},
   "source": [
    "To work with TensorFlow, we first need to install it. Uncomment the code below, if you haven't already done so (note that we use `pydot` and `graphviz` for visualizing the hidden layers of a neural network - but they are not necessary to run neural networks in TensorFlow).\n",
    "\n",
    "Note that parts 4 and 6 of the notebook build on a GitHub repository by [Aurélien Géron](https://github.com/ageron/handson-ml2)."
   ]
  },
  {
   "cell_type": "code",
   "execution_count": 4,
   "id": "665647a6",
   "metadata": {},
   "outputs": [],
   "source": [
    "# !pip install tensorflow\n",
    "# !pip install pydot\n",
    "# !pip install graphviz"
   ]
  },
  {
   "cell_type": "markdown",
   "id": "14fcb906",
   "metadata": {},
   "source": [
    "Once we have installed all packages, let's do the obligatory imports:"
   ]
  },
  {
   "cell_type": "code",
   "execution_count": 5,
   "id": "f21cd366",
   "metadata": {},
   "outputs": [],
   "source": [
    "import tensorflow as tf\n",
    "import numpy as np\n",
    "from sklearn.model_selection import train_test_split\n",
    "import matplotlib.pyplot as plt"
   ]
  },
  {
   "cell_type": "markdown",
   "id": "f570d847",
   "metadata": {},
   "source": [
    "# 1. Getting started"
   ]
  },
  {
   "cell_type": "markdown",
   "id": "c2bc5cad",
   "metadata": {},
   "source": [
    "## 1.1 Creating tensors"
   ]
  },
  {
   "cell_type": "markdown",
   "id": "00797399",
   "metadata": {},
   "source": [
    "There are two types of \"variables\" in TensorFlow that you might work with. Actual variables, `tf.Variables`, which can be changed once they have been set, as well as constants , `tf.constant`, which cannot be changed anymore. Let's create a random array of data `X`, as well as parameter matrices `W` and `b`. Can you see why we would use `tf.constant` for `X` and `tf.Variable` for `W` and `b`?"
   ]
  },
  {
   "cell_type": "code",
   "execution_count": 6,
   "id": "40cda2ee",
   "metadata": {},
   "outputs": [
    {
     "data": {
      "text/plain": [
       "TensorShape([100, 5])"
      ]
     },
     "execution_count": 6,
     "metadata": {},
     "output_type": "execute_result"
    }
   ],
   "source": [
    "X = tf.constant(np.random.randn(100,5), name = \"X\")\n",
    "X.shape"
   ]
  },
  {
   "cell_type": "markdown",
   "id": "723fc939",
   "metadata": {},
   "source": [
    "Note that the \"tensor\" we create has exactly the dimension of the numpy array we use to initialize it. TensorFlow allows you to use `numpy` data quite seamlessly."
   ]
  },
  {
   "cell_type": "code",
   "execution_count": 7,
   "id": "bece0cf9",
   "metadata": {},
   "outputs": [
    {
     "data": {
      "text/plain": [
       "TensorShape([5, 3])"
      ]
     },
     "execution_count": 7,
     "metadata": {},
     "output_type": "execute_result"
    }
   ],
   "source": [
    "W = tf.Variable(np.random.randn(5,3), name = \"W\")\n",
    "W.shape"
   ]
  },
  {
   "cell_type": "code",
   "execution_count": 8,
   "id": "132289fd",
   "metadata": {},
   "outputs": [
    {
     "data": {
      "text/plain": [
       "TensorShape([1, 3])"
      ]
     },
     "execution_count": 8,
     "metadata": {},
     "output_type": "execute_result"
    }
   ],
   "source": [
    "b = tf.Variable(np.random.randn(1,3), name = \"b\")\n",
    "b.shape"
   ]
  },
  {
   "cell_type": "markdown",
   "id": "c431a734",
   "metadata": {},
   "source": [
    "## 1.2 Basic operations on tensors"
   ]
  },
  {
   "cell_type": "markdown",
   "id": "8cbe51e1",
   "metadata": {},
   "source": [
    "Let's now perform some basic operations on tensors. These work essentially the same way as in `numpy` (e.g., the typical rules of matrix-multiplication apply when we use `tf.matmul`), just that we have to learn a few different key-words:"
   ]
  },
  {
   "cell_type": "code",
   "execution_count": 9,
   "id": "b78743e9",
   "metadata": {},
   "outputs": [
    {
     "data": {
      "text/plain": [
       "TensorShape([100, 3])"
      ]
     },
     "execution_count": 9,
     "metadata": {},
     "output_type": "execute_result"
    }
   ],
   "source": [
    "z = tf.add(tf.matmul(X,W),b)\n",
    "z.shape"
   ]
  },
  {
   "cell_type": "markdown",
   "id": "bcb3c1e6",
   "metadata": {},
   "source": [
    "TensorFlow has all the standard activation functions in-built, for example, the logistic sigmoid one:"
   ]
  },
  {
   "cell_type": "code",
   "execution_count": 10,
   "id": "d49214ee",
   "metadata": {},
   "outputs": [
    {
     "data": {
      "text/plain": [
       "TensorShape([100, 3])"
      ]
     },
     "execution_count": 10,
     "metadata": {},
     "output_type": "execute_result"
    }
   ],
   "source": [
    "a = tf.keras.activations.sigmoid(z)\n",
    "a.shape"
   ]
  },
  {
   "cell_type": "markdown",
   "id": "a8814521",
   "metadata": {},
   "source": [
    "## 1.3 Type-casting"
   ]
  },
  {
   "cell_type": "markdown",
   "id": "adcb5987",
   "metadata": {},
   "source": [
    "One aspect of TensorFlow you might know from other programming languages, but which is usually taken care of for you in base Python, is that types are not automatically \"cast\". What that means is that we cannot run operations such as multiplying an integer and a float tensor. We cannot even multiply a `float32` tensor with a `float64` tensor! You can find the datatype of any tensor by printing it out, or by specifically looking at `tensor.dtype`:"
   ]
  },
  {
   "cell_type": "code",
   "execution_count": 11,
   "id": "de43641e",
   "metadata": {},
   "outputs": [
    {
     "data": {
      "text/plain": [
       "<tf.Variable 'b:0' shape=(1, 3) dtype=float64, numpy=array([[-1.67281316, -1.16828438, -0.74939484]])>"
      ]
     },
     "execution_count": 11,
     "metadata": {},
     "output_type": "execute_result"
    }
   ],
   "source": [
    "b"
   ]
  },
  {
   "cell_type": "code",
   "execution_count": 12,
   "id": "377afca7",
   "metadata": {},
   "outputs": [
    {
     "data": {
      "text/plain": [
       "tf.float64"
      ]
     },
     "execution_count": 12,
     "metadata": {},
     "output_type": "execute_result"
    }
   ],
   "source": [
    "b.dtype"
   ]
  },
  {
   "cell_type": "markdown",
   "id": "f72b18a1",
   "metadata": {},
   "source": [
    "We will now (explicitly) convert `b` from a `tf.float64` data-type (a float with 64 bits of precision), to a `tf.float32` data-type (a float with 32 bits of precision):"
   ]
  },
  {
   "cell_type": "code",
   "execution_count": 13,
   "id": "0e4223b5",
   "metadata": {},
   "outputs": [],
   "source": [
    "b = tf.cast(b,tf.float32)"
   ]
  },
  {
   "cell_type": "markdown",
   "id": "adab1496",
   "metadata": {},
   "source": [
    "Note that `X` and `W` are still of type `tf.float64` (the default). Let's try the following:"
   ]
  },
  {
   "cell_type": "code",
   "execution_count": 14,
   "id": "104118bf",
   "metadata": {},
   "outputs": [
    {
     "ename": "InvalidArgumentError",
     "evalue": "cannot compute AddV2 as input #1(zero-based) was expected to be a double tensor but is a float tensor [Op:AddV2]",
     "output_type": "error",
     "traceback": [
      "\u001b[1;31m---------------------------------------------------------------------------\u001b[0m",
      "\u001b[1;31mInvalidArgumentError\u001b[0m                      Traceback (most recent call last)",
      "\u001b[1;32m~\\AppData\\Local\\Temp/ipykernel_27100/3163027965.py\u001b[0m in \u001b[0;36m<module>\u001b[1;34m\u001b[0m\n\u001b[1;32m----> 1\u001b[1;33m \u001b[0mtf\u001b[0m\u001b[1;33m.\u001b[0m\u001b[0madd\u001b[0m\u001b[1;33m(\u001b[0m\u001b[0mtf\u001b[0m\u001b[1;33m.\u001b[0m\u001b[0mmatmul\u001b[0m\u001b[1;33m(\u001b[0m\u001b[0mX\u001b[0m\u001b[1;33m,\u001b[0m\u001b[0mW\u001b[0m\u001b[1;33m)\u001b[0m\u001b[1;33m,\u001b[0m\u001b[0mb\u001b[0m\u001b[1;33m)\u001b[0m\u001b[1;33m\u001b[0m\u001b[1;33m\u001b[0m\u001b[0m\n\u001b[0m",
      "\u001b[1;32m~\\anaconda3\\envs\\smm750\\lib\\site-packages\\tensorflow\\python\\util\\traceback_utils.py\u001b[0m in \u001b[0;36merror_handler\u001b[1;34m(*args, **kwargs)\u001b[0m\n\u001b[0;32m    151\u001b[0m     \u001b[1;32mexcept\u001b[0m \u001b[0mException\u001b[0m \u001b[1;32mas\u001b[0m \u001b[0me\u001b[0m\u001b[1;33m:\u001b[0m\u001b[1;33m\u001b[0m\u001b[1;33m\u001b[0m\u001b[0m\n\u001b[0;32m    152\u001b[0m       \u001b[0mfiltered_tb\u001b[0m \u001b[1;33m=\u001b[0m \u001b[0m_process_traceback_frames\u001b[0m\u001b[1;33m(\u001b[0m\u001b[0me\u001b[0m\u001b[1;33m.\u001b[0m\u001b[0m__traceback__\u001b[0m\u001b[1;33m)\u001b[0m\u001b[1;33m\u001b[0m\u001b[1;33m\u001b[0m\u001b[0m\n\u001b[1;32m--> 153\u001b[1;33m       \u001b[1;32mraise\u001b[0m \u001b[0me\u001b[0m\u001b[1;33m.\u001b[0m\u001b[0mwith_traceback\u001b[0m\u001b[1;33m(\u001b[0m\u001b[0mfiltered_tb\u001b[0m\u001b[1;33m)\u001b[0m \u001b[1;32mfrom\u001b[0m \u001b[1;32mNone\u001b[0m\u001b[1;33m\u001b[0m\u001b[1;33m\u001b[0m\u001b[0m\n\u001b[0m\u001b[0;32m    154\u001b[0m     \u001b[1;32mfinally\u001b[0m\u001b[1;33m:\u001b[0m\u001b[1;33m\u001b[0m\u001b[1;33m\u001b[0m\u001b[0m\n\u001b[0;32m    155\u001b[0m       \u001b[1;32mdel\u001b[0m \u001b[0mfiltered_tb\u001b[0m\u001b[1;33m\u001b[0m\u001b[1;33m\u001b[0m\u001b[0m\n",
      "\u001b[1;32m~\\anaconda3\\envs\\smm750\\lib\\site-packages\\tensorflow\\python\\framework\\ops.py\u001b[0m in \u001b[0;36mraise_from_not_ok_status\u001b[1;34m(e, name)\u001b[0m\n\u001b[0;32m   7184\u001b[0m \u001b[1;32mdef\u001b[0m \u001b[0mraise_from_not_ok_status\u001b[0m\u001b[1;33m(\u001b[0m\u001b[0me\u001b[0m\u001b[1;33m,\u001b[0m \u001b[0mname\u001b[0m\u001b[1;33m)\u001b[0m\u001b[1;33m:\u001b[0m\u001b[1;33m\u001b[0m\u001b[1;33m\u001b[0m\u001b[0m\n\u001b[0;32m   7185\u001b[0m   \u001b[0me\u001b[0m\u001b[1;33m.\u001b[0m\u001b[0mmessage\u001b[0m \u001b[1;33m+=\u001b[0m \u001b[1;33m(\u001b[0m\u001b[1;34m\" name: \"\u001b[0m \u001b[1;33m+\u001b[0m \u001b[0mname\u001b[0m \u001b[1;32mif\u001b[0m \u001b[0mname\u001b[0m \u001b[1;32mis\u001b[0m \u001b[1;32mnot\u001b[0m \u001b[1;32mNone\u001b[0m \u001b[1;32melse\u001b[0m \u001b[1;34m\"\"\u001b[0m\u001b[1;33m)\u001b[0m\u001b[1;33m\u001b[0m\u001b[1;33m\u001b[0m\u001b[0m\n\u001b[1;32m-> 7186\u001b[1;33m   \u001b[1;32mraise\u001b[0m \u001b[0mcore\u001b[0m\u001b[1;33m.\u001b[0m\u001b[0m_status_to_exception\u001b[0m\u001b[1;33m(\u001b[0m\u001b[0me\u001b[0m\u001b[1;33m)\u001b[0m \u001b[1;32mfrom\u001b[0m \u001b[1;32mNone\u001b[0m  \u001b[1;31m# pylint: disable=protected-access\u001b[0m\u001b[1;33m\u001b[0m\u001b[1;33m\u001b[0m\u001b[0m\n\u001b[0m\u001b[0;32m   7187\u001b[0m \u001b[1;33m\u001b[0m\u001b[0m\n\u001b[0;32m   7188\u001b[0m \u001b[1;33m\u001b[0m\u001b[0m\n",
      "\u001b[1;31mInvalidArgumentError\u001b[0m: cannot compute AddV2 as input #1(zero-based) was expected to be a double tensor but is a float tensor [Op:AddV2]"
     ]
    }
   ],
   "source": [
    "tf.add(tf.matmul(X,W),b)"
   ]
  },
  {
   "cell_type": "markdown",
   "id": "9fb344ff",
   "metadata": {},
   "source": [
    "This didn't work! Let's re-cast `b` into a `tf.float64`"
   ]
  },
  {
   "cell_type": "code",
   "execution_count": 17,
   "id": "f3e977ae",
   "metadata": {},
   "outputs": [],
   "source": [
    "b = tf.cast(b, tf.float64)"
   ]
  },
  {
   "cell_type": "code",
   "execution_count": 18,
   "id": "a6521f04",
   "metadata": {},
   "outputs": [
    {
     "data": {
      "text/plain": [
       "tf.float64"
      ]
     },
     "execution_count": 18,
     "metadata": {},
     "output_type": "execute_result"
    }
   ],
   "source": [
    "b.dtype"
   ]
  },
  {
   "cell_type": "code",
   "execution_count": 19,
   "id": "7c7aeb2e",
   "metadata": {},
   "outputs": [
    {
     "data": {
      "text/plain": [
       "<tf.Tensor: shape=(100, 3), dtype=float64, numpy=\n",
       "array([[-7.64027074e-01, -3.56661074e+00,  2.40966375e-01],\n",
       "       [-4.74529061e+00,  2.15831352e+00, -1.21406336e-01],\n",
       "       [-8.84677449e-01, -3.99877121e+00, -2.84347014e+00],\n",
       "       [-4.37057335e+00,  2.96729305e+00, -8.21134852e-01],\n",
       "       [-1.76254474e+00, -3.39891227e+00,  1.85219313e-01],\n",
       "       [-2.15352360e+00, -3.76568586e-01,  2.87186019e-01],\n",
       "       [ 3.51860022e+00, -5.58836538e+00, -6.73002528e-01],\n",
       "       [-4.97550056e+00,  1.48877444e+00,  5.75002761e-01],\n",
       "       [-4.60920743e+00,  2.86483997e+00, -5.38365374e-01],\n",
       "       [ 2.85646875e+00, -6.10539607e+00,  6.88009419e-02],\n",
       "       [ 2.89943181e+00, -6.79681006e+00, -2.44536059e+00],\n",
       "       [-1.68453957e+00,  8.76036447e-01, -3.19867060e-02],\n",
       "       [-1.25648307e+00, -1.86885590e+00, -2.19831958e+00],\n",
       "       [-2.64735149e+00,  1.42629143e+00, -5.68940273e-02],\n",
       "       [-2.06260785e+00, -3.06566923e+00, -2.70381571e+00],\n",
       "       [-1.35106464e+00,  1.21339622e+00,  1.32126900e+00],\n",
       "       [-8.90236258e+00,  2.35118801e+00,  5.85285666e-01],\n",
       "       [-6.11863667e+00, -2.13819045e+00, -1.49816390e+00],\n",
       "       [ 2.26697546e+00, -4.22869156e+00,  6.85619755e-01],\n",
       "       [ 5.28946155e+00, -5.18633938e+00, -1.46157652e+00],\n",
       "       [ 2.37646921e+00, -6.25481688e+00, -3.56020407e+00],\n",
       "       [ 2.02594994e+00, -1.68028813e+00,  1.40498398e+00],\n",
       "       [-1.02452467e+00, -2.04336702e+00,  7.80109241e-01],\n",
       "       [-2.24097989e+00, -4.49482100e-01, -1.78533541e+00],\n",
       "       [ 7.29060349e-01, -6.77958552e-01, -1.86034165e+00],\n",
       "       [ 2.25761668e+00, -5.27400864e+00, -1.54732883e+00],\n",
       "       [ 9.62412675e-01,  3.17548930e+00,  3.20194481e-01],\n",
       "       [-6.76488343e+00,  2.37567694e+00, -2.12015022e+00],\n",
       "       [-2.21719684e+00, -2.41459629e+00, -1.38266767e+00],\n",
       "       [-2.25080814e+00, -2.43108236e+00, -1.25783469e+00],\n",
       "       [-2.56520557e+00, -9.61683555e-01, -1.28029540e+00],\n",
       "       [-3.06687825e+00,  4.24043956e-01, -1.33041730e+00],\n",
       "       [-9.46141550e-01, -3.90280582e-03,  1.09798058e+00],\n",
       "       [ 1.94292655e+00, -3.89945491e+00,  9.14926766e-01],\n",
       "       [-4.87538898e+00, -2.95198046e-01,  7.11661053e-01],\n",
       "       [-4.78702183e+00,  1.69894233e-01,  2.55867530e-01],\n",
       "       [-1.24221369e+00,  2.30511685e+00,  1.67339323e+00],\n",
       "       [ 4.35612755e-01, -4.09438741e+00, -4.59104878e-01],\n",
       "       [-2.75546662e+00,  7.58340509e-01, -1.48523426e+00],\n",
       "       [-3.08356824e+00, -4.91571472e+00, -4.78339736e+00],\n",
       "       [-3.83198983e+00, -2.68279605e+00,  2.42349295e-01],\n",
       "       [-1.35856205e+00, -8.00032837e-01, -9.27863561e-01],\n",
       "       [-4.39330015e+00,  7.37982489e-01, -9.82647795e-01],\n",
       "       [-2.06014044e+00, -4.06382814e+00, -1.58774981e+00],\n",
       "       [-5.13320706e+00,  8.07130934e-01, -1.44502489e+00],\n",
       "       [-5.49689728e+00,  1.05289830e-01, -1.34164964e+00],\n",
       "       [ 9.05553326e-01, -3.66049622e+00, -3.35686056e+00],\n",
       "       [-6.14606697e+00,  1.73037790e-01, -3.73027274e+00],\n",
       "       [-4.44389053e+00, -3.06597725e+00, -3.22064194e+00],\n",
       "       [-2.18841169e+00, -2.58360987e+00, -2.69576476e+00],\n",
       "       [-6.83012133e+00,  5.78543008e-01,  8.96918896e-01],\n",
       "       [-3.22897047e+00,  1.83964221e+00,  5.77599690e-01],\n",
       "       [ 6.22386957e-01, -3.55569554e+00, -3.30175823e-01],\n",
       "       [-3.77277547e+00, -2.21407378e+00, -5.80939996e-01],\n",
       "       [-3.06696939e+00,  1.47937595e-01, -8.37465281e-01],\n",
       "       [ 1.10155110e+00, -1.94193406e+00,  1.20503223e+00],\n",
       "       [-4.22431849e+00, -1.69980608e+00,  6.89203360e-01],\n",
       "       [-5.22787182e+00,  2.43623495e+00, -6.60297389e-01],\n",
       "       [-2.29162428e+00, -2.00267087e+00, -2.65629640e+00],\n",
       "       [-2.37136128e+00,  1.15726933e-01, -7.12305176e-01],\n",
       "       [-3.36204459e-01, -3.34187448e+00,  1.98930701e+00],\n",
       "       [ 1.53380754e-01, -2.48664004e+00, -4.25653707e+00],\n",
       "       [-3.77310281e+00, -5.43055610e+00, -1.86687091e+00],\n",
       "       [-3.94739977e+00, -4.86958742e-01, -2.81730796e+00],\n",
       "       [-8.57176028e-01, -6.18904813e-01, -3.20757651e-01],\n",
       "       [ 9.67357240e-01, -6.79554086e-01, -2.39319381e+00],\n",
       "       [-2.04208169e+00,  1.66594242e+00, -8.12093253e-01],\n",
       "       [ 5.32636130e-02, -3.85746391e+00, -7.42497491e-01],\n",
       "       [-5.42199659e-01, -4.68324819e+00, -1.21848368e-01],\n",
       "       [-8.68767578e+00,  1.05252762e+00, -3.32298357e+00],\n",
       "       [-1.96953452e+00,  1.61802593e-01, -3.75933001e+00],\n",
       "       [-6.12763268e+00,  6.28019826e-01, -2.59367298e+00],\n",
       "       [-2.45057636e+00, -4.45345658e+00, -1.27681184e-01],\n",
       "       [-2.99693986e+00, -1.93287136e+00,  2.41473896e-01],\n",
       "       [-3.60090186e+00,  3.80734386e+00, -1.82430158e+00],\n",
       "       [ 1.18664847e+00,  2.32059081e+00,  3.32683512e-01],\n",
       "       [-1.90412458e-01, -3.99571834e+00, -7.94477210e-01],\n",
       "       [-2.47530785e+00, -3.52888032e+00,  7.45604901e-02],\n",
       "       [-3.52428201e+00,  2.56264421e+00,  1.34696605e+00],\n",
       "       [-2.23243691e+00, -4.49136405e+00, -8.60667793e-01],\n",
       "       [-3.89902421e+00, -3.32221959e-01,  2.92438442e-02],\n",
       "       [-2.28066763e+00,  1.34689340e+00,  2.49277620e+00],\n",
       "       [ 1.55901232e+00, -1.85091684e+00,  7.74652052e-01],\n",
       "       [ 2.04760816e+00, -8.11456558e-01, -1.66389052e+00],\n",
       "       [-4.83191245e+00, -1.12855666e-01, -1.23102324e+00],\n",
       "       [ 2.68621205e+00, -5.71060565e+00,  5.34071455e-01],\n",
       "       [-7.32934142e+00,  2.68895693e+00, -2.47469819e+00],\n",
       "       [-2.48306861e+00, -3.09803366e-01, -1.30718729e+00],\n",
       "       [-1.32639328e+00,  2.61208416e-01, -2.99605170e+00],\n",
       "       [-2.18793651e+00, -4.57501674e-01,  1.46004015e+00],\n",
       "       [ 1.35828858e+00, -2.43034759e+00, -9.44540906e-01],\n",
       "       [-1.14936733e+00, -3.36410574e+00,  1.01476574e-02],\n",
       "       [-5.71329539e+00, -2.93604858e-01, -9.80486415e-01],\n",
       "       [-9.12846091e-01, -2.52027887e+00,  1.49113696e+00],\n",
       "       [-3.60216542e+00,  2.75947228e+00, -1.23633374e+00],\n",
       "       [-1.31178556e+00, -1.84259668e+00, -2.67609349e+00],\n",
       "       [-1.61804279e+00, -2.36203576e+00, -9.15653529e-01],\n",
       "       [ 1.83697043e-01, -3.62520867e+00, -1.82545788e+00],\n",
       "       [-1.17494414e+00,  1.84653872e+00, -5.81123106e-01],\n",
       "       [-6.08575669e+00, -2.89327880e+00, -1.77907067e+00]])>"
      ]
     },
     "execution_count": 19,
     "metadata": {},
     "output_type": "execute_result"
    }
   ],
   "source": [
    "tf.add(tf.matmul(X,W),b)"
   ]
  },
  {
   "cell_type": "markdown",
   "id": "76bca134",
   "metadata": {},
   "source": [
    "Now it works again!"
   ]
  },
  {
   "cell_type": "markdown",
   "id": "afcd0bf7",
   "metadata": {},
   "source": [
    "## 1.4 Some other useful operations"
   ]
  },
  {
   "cell_type": "markdown",
   "id": "3b864790",
   "metadata": {},
   "source": [
    "Let's look at `tf.one_hot` and `tf.reshape`, two operations you come across a lot when handling data in TensorFlow. Can you see what they do?"
   ]
  },
  {
   "cell_type": "code",
   "execution_count": 23,
   "id": "f6fd7423",
   "metadata": {},
   "outputs": [
    {
     "data": {
      "text/plain": [
       "<tf.Tensor: shape=(4,), dtype=float32, numpy=array([0., 0., 0., 1.], dtype=float32)>"
      ]
     },
     "execution_count": 23,
     "metadata": {},
     "output_type": "execute_result"
    }
   ],
   "source": [
    "y = tf.constant(3)\n",
    "y_one_hot = tf.one_hot(y,4,axis=0)\n",
    "y_one_hot"
   ]
  },
  {
   "cell_type": "code",
   "execution_count": 28,
   "id": "47ff9e05",
   "metadata": {},
   "outputs": [
    {
     "data": {
      "text/plain": [
       "<tf.Tensor: shape=(4, 1), dtype=float32, numpy=\n",
       "array([[0.],\n",
       "       [0.],\n",
       "       [1.],\n",
       "       [0.]], dtype=float32)>"
      ]
     },
     "execution_count": 28,
     "metadata": {},
     "output_type": "execute_result"
    }
   ],
   "source": [
    "y = [2]\n",
    "y_one_hot = tf.one_hot(y,4,axis=0)\n",
    "y_one_hot"
   ]
  },
  {
   "cell_type": "code",
   "execution_count": 29,
   "id": "debe30d3",
   "metadata": {},
   "outputs": [
    {
     "data": {
      "text/plain": [
       "<tf.Tensor: shape=(4,), dtype=float32, numpy=array([0., 0., 1., 0.], dtype=float32)>"
      ]
     },
     "execution_count": 29,
     "metadata": {},
     "output_type": "execute_result"
    }
   ],
   "source": [
    "tf.reshape(y_one_hot,(4,))"
   ]
  },
  {
   "cell_type": "markdown",
   "id": "30ef7259",
   "metadata": {},
   "source": [
    "# 2. Creating a simple neural network with the Sequential API"
   ]
  },
  {
   "cell_type": "markdown",
   "id": "f106c9f2",
   "metadata": {},
   "source": [
    "We will recreate what we did in the last lecture: a logistic regression model that allows us to differentiate between sign-language digits 0 and 1. But this time, we will be using TensorFlow's Sequential API to build a (single-neuron) neural network. The data-handling is the same as last week:"
   ]
  },
  {
   "cell_type": "code",
   "execution_count": 30,
   "id": "6d88bf49",
   "metadata": {},
   "outputs": [],
   "source": [
    "X = np.load('digits_X.npy')\n",
    "y = np.load('digits_y.npy')\n",
    "X = np.concatenate((X[204:409], X[822:1028] ), axis=0)\n",
    "z = np.zeros(409-204)\n",
    "o = np.ones(1028-822)\n",
    "y = np.concatenate((z, o), axis=0).reshape(X.shape[0],1)\n",
    "X_train, X_test, y_train, y_test = train_test_split(X, y, test_size=0.15, random_state=172)"
   ]
  },
  {
   "cell_type": "code",
   "execution_count": 33,
   "id": "351881ad",
   "metadata": {},
   "outputs": [
    {
     "data": {
      "text/plain": [
       "(64, 64)"
      ]
     },
     "execution_count": 33,
     "metadata": {},
     "output_type": "execute_result"
    }
   ],
   "source": [
    "X[204].shape"
   ]
  },
  {
   "cell_type": "markdown",
   "id": "a20a52f6",
   "metadata": {},
   "source": [
    "## 2.1 Building the model"
   ]
  },
  {
   "cell_type": "markdown",
   "id": "46d47f43",
   "metadata": {},
   "source": [
    "Let's create the model. Notice that we haven't flattened the observations (recall that each value of `X` is a matrix!). The beauty about TensorFlow is that we can simply add in a `Flatten` layer, to do this for us. Hence, we have two layers in our model: the `Flatten` layer (not an actual neural network layer), and a standard `Dense` layer, with one neuron/unit (the one that performs the logistic regression).\n",
    "\n",
    "For our `Dense` layer with one neuron, we also need to specify the activation function. Of course, for a logistic regression, we use the logistic sigmoid function, simply `'sigmoid'` in TensorFlow."
   ]
  },
  {
   "cell_type": "code",
   "execution_count": 34,
   "id": "c324809e",
   "metadata": {},
   "outputs": [],
   "source": [
    "model = tf.keras.models.Sequential([\n",
    "  tf.keras.layers.Flatten(input_shape=(64, 64)),\n",
    "  tf.keras.layers.Dense(1, activation='sigmoid')\n",
    "])"
   ]
  },
  {
   "cell_type": "markdown",
   "id": "d8cc1e38",
   "metadata": {},
   "source": [
    "Now that we have created our model, we can take a look at its layers:"
   ]
  },
  {
   "cell_type": "code",
   "execution_count": 35,
   "id": "95977520",
   "metadata": {},
   "outputs": [
    {
     "data": {
      "text/plain": [
       "[<keras.layers.core.flatten.Flatten at 0x2de7d913880>,\n",
       " <keras.layers.core.dense.Dense at 0x2de7df18250>]"
      ]
     },
     "execution_count": 35,
     "metadata": {},
     "output_type": "execute_result"
    }
   ],
   "source": [
    "model.layers"
   ]
  },
  {
   "cell_type": "markdown",
   "id": "b07c5676",
   "metadata": {},
   "source": [
    "The `model.summary()` is a bit more informative:"
   ]
  },
  {
   "cell_type": "code",
   "execution_count": 36,
   "id": "dafa8e14",
   "metadata": {},
   "outputs": [
    {
     "name": "stdout",
     "output_type": "stream",
     "text": [
      "Model: \"sequential\"\n",
      "_________________________________________________________________\n",
      " Layer (type)                Output Shape              Param #   \n",
      "=================================================================\n",
      " flatten (Flatten)           (None, 4096)              0         \n",
      "                                                                 \n",
      " dense (Dense)               (None, 1)                 4097      \n",
      "                                                                 \n",
      "=================================================================\n",
      "Total params: 4,097\n",
      "Trainable params: 4,097\n",
      "Non-trainable params: 0\n",
      "_________________________________________________________________\n"
     ]
    }
   ],
   "source": [
    "model.summary()"
   ]
  },
  {
   "cell_type": "markdown",
   "id": "f2d645a0",
   "metadata": {},
   "source": [
    "The `Flatten` layer flattens each input from a (64,64)-matrix to a (4096,)-vector. However, it says (None, 4096) for the output shape. Can you guess why?\n",
    "\n",
    "Also, can you guess what the 4097 parameters are?"
   ]
  },
  {
   "cell_type": "markdown",
   "id": "44f182a0",
   "metadata": {},
   "source": [
    "In order to use our model, we also have to `compile` it. This is the step where we decide on\n",
    "- the optimization algorithm (we will use `'sgd'`, or \"stochastic gradient descent\", which is very similar to the gradient descent method we've seen before - we will deal with the exact difference later),\n",
    "- the loss function (we will use `'binary_crossentropy'`, as before),\n",
    "- the metrics to keep track of as the model is being trained, in the form of a list (we will only keep track of `'accuracy'` for now)."
   ]
  },
  {
   "cell_type": "code",
   "execution_count": 37,
   "id": "79a29ee6",
   "metadata": {},
   "outputs": [],
   "source": [
    "model.compile(optimizer='sgd',\n",
    "              loss='binary_crossentropy',\n",
    "              metrics=['accuracy'])"
   ]
  },
  {
   "cell_type": "markdown",
   "id": "40b81170",
   "metadata": {},
   "source": [
    "That's it! When we compile the model, it automatically creates the forward propagation and back-propagation steps for us, based on the layers and cost function we define!"
   ]
  },
  {
   "cell_type": "markdown",
   "id": "6e3acf7c",
   "metadata": {},
   "source": [
    "## 2.2 Training the model"
   ]
  },
  {
   "cell_type": "markdown",
   "id": "46fea9f7",
   "metadata": {},
   "source": [
    "We will now train the model, using the training data. We will run it for 100 \"epochs\", that is iterations of our optimization algorithm:"
   ]
  },
  {
   "cell_type": "code",
   "execution_count": 38,
   "id": "94ae018a",
   "metadata": {},
   "outputs": [
    {
     "name": "stdout",
     "output_type": "stream",
     "text": [
      "Epoch 1/100\n",
      "11/11 [==============================] - 0s 700us/step - loss: 2.2175 - accuracy: 0.5072\n",
      "Epoch 2/100\n",
      "11/11 [==============================] - 0s 600us/step - loss: 2.5816 - accuracy: 0.4441\n",
      "Epoch 3/100\n",
      "11/11 [==============================] - 0s 700us/step - loss: 1.7530 - accuracy: 0.5272\n",
      "Epoch 4/100\n",
      "11/11 [==============================] - 0s 700us/step - loss: 1.5823 - accuracy: 0.5817\n",
      "Epoch 5/100\n",
      "11/11 [==============================] - 0s 600us/step - loss: 1.9867 - accuracy: 0.5014\n",
      "Epoch 6/100\n",
      "11/11 [==============================] - 0s 800us/step - loss: 1.6990 - accuracy: 0.4928\n",
      "Epoch 7/100\n",
      "11/11 [==============================] - 0s 700us/step - loss: 1.0771 - accuracy: 0.6132\n",
      "Epoch 8/100\n",
      "11/11 [==============================] - 0s 800us/step - loss: 1.2184 - accuracy: 0.5817\n",
      "Epoch 9/100\n",
      "11/11 [==============================] - 0s 1ms/step - loss: 1.0319 - accuracy: 0.6390\n",
      "Epoch 10/100\n",
      "11/11 [==============================] - 0s 700us/step - loss: 0.9818 - accuracy: 0.6533\n",
      "Epoch 11/100\n",
      "11/11 [==============================] - 0s 700us/step - loss: 0.4538 - accuracy: 0.7851\n",
      "Epoch 12/100\n",
      "11/11 [==============================] - 0s 700us/step - loss: 0.4627 - accuracy: 0.7994\n",
      "Epoch 13/100\n",
      "11/11 [==============================] - 0s 800us/step - loss: 0.3009 - accuracy: 0.8653\n",
      "Epoch 14/100\n",
      "11/11 [==============================] - 0s 700us/step - loss: 0.2944 - accuracy: 0.8510\n",
      "Epoch 15/100\n",
      "11/11 [==============================] - 0s 800us/step - loss: 0.2428 - accuracy: 0.8968\n",
      "Epoch 16/100\n",
      "11/11 [==============================] - 0s 700us/step - loss: 0.2608 - accuracy: 0.8911\n",
      "Epoch 17/100\n",
      "11/11 [==============================] - 0s 700us/step - loss: 0.1874 - accuracy: 0.9284\n",
      "Epoch 18/100\n",
      "11/11 [==============================] - 0s 700us/step - loss: 0.4416 - accuracy: 0.7736\n",
      "Epoch 19/100\n",
      "11/11 [==============================] - 0s 700us/step - loss: 0.1769 - accuracy: 0.9370\n",
      "Epoch 20/100\n",
      "11/11 [==============================] - 0s 800us/step - loss: 0.1681 - accuracy: 0.9398\n",
      "Epoch 21/100\n",
      "11/11 [==============================] - 0s 700us/step - loss: 0.1936 - accuracy: 0.9312\n",
      "Epoch 22/100\n",
      "11/11 [==============================] - 0s 600us/step - loss: 0.1747 - accuracy: 0.9255\n",
      "Epoch 23/100\n",
      "11/11 [==============================] - 0s 600us/step - loss: 0.1582 - accuracy: 0.9570\n",
      "Epoch 24/100\n",
      "11/11 [==============================] - 0s 700us/step - loss: 0.1580 - accuracy: 0.9484\n",
      "Epoch 25/100\n",
      "11/11 [==============================] - 0s 700us/step - loss: 0.1692 - accuracy: 0.9370\n",
      "Epoch 26/100\n",
      "11/11 [==============================] - 0s 700us/step - loss: 0.1934 - accuracy: 0.9226\n",
      "Epoch 27/100\n",
      "11/11 [==============================] - 0s 600us/step - loss: 0.2108 - accuracy: 0.9140\n",
      "Epoch 28/100\n",
      "11/11 [==============================] - 0s 700us/step - loss: 0.1506 - accuracy: 0.9542\n",
      "Epoch 29/100\n",
      "11/11 [==============================] - 0s 704us/step - loss: 0.1720 - accuracy: 0.9341\n",
      "Epoch 30/100\n",
      "11/11 [==============================] - 0s 700us/step - loss: 0.1438 - accuracy: 0.9628\n",
      "Epoch 31/100\n",
      "11/11 [==============================] - 0s 700us/step - loss: 0.1679 - accuracy: 0.9341\n",
      "Epoch 32/100\n",
      "11/11 [==============================] - 0s 700us/step - loss: 0.1419 - accuracy: 0.9570\n",
      "Epoch 33/100\n",
      "11/11 [==============================] - 0s 800us/step - loss: 0.1916 - accuracy: 0.9255\n",
      "Epoch 34/100\n",
      "11/11 [==============================] - 0s 700us/step - loss: 0.1422 - accuracy: 0.9542\n",
      "Epoch 35/100\n",
      "11/11 [==============================] - 0s 700us/step - loss: 0.1331 - accuracy: 0.9628\n",
      "Epoch 36/100\n",
      "11/11 [==============================] - 0s 700us/step - loss: 0.1418 - accuracy: 0.9456\n",
      "Epoch 37/100\n",
      "11/11 [==============================] - 0s 800us/step - loss: 0.1423 - accuracy: 0.9628\n",
      "Epoch 38/100\n",
      "11/11 [==============================] - 0s 700us/step - loss: 0.1382 - accuracy: 0.9542\n",
      "Epoch 39/100\n",
      "11/11 [==============================] - 0s 700us/step - loss: 0.1344 - accuracy: 0.9599\n",
      "Epoch 40/100\n",
      "11/11 [==============================] - 0s 700us/step - loss: 0.1312 - accuracy: 0.9570\n",
      "Epoch 41/100\n",
      "11/11 [==============================] - 0s 700us/step - loss: 0.1271 - accuracy: 0.9771\n",
      "Epoch 42/100\n",
      "11/11 [==============================] - 0s 800us/step - loss: 0.1608 - accuracy: 0.9542\n",
      "Epoch 43/100\n",
      "11/11 [==============================] - 0s 700us/step - loss: 0.1330 - accuracy: 0.9628\n",
      "Epoch 44/100\n",
      "11/11 [==============================] - 0s 700us/step - loss: 0.1225 - accuracy: 0.9628\n",
      "Epoch 45/100\n",
      "11/11 [==============================] - 0s 800us/step - loss: 0.1207 - accuracy: 0.9628\n",
      "Epoch 46/100\n",
      "11/11 [==============================] - 0s 700us/step - loss: 0.1444 - accuracy: 0.9398\n",
      "Epoch 47/100\n",
      "11/11 [==============================] - 0s 800us/step - loss: 0.1295 - accuracy: 0.9656\n",
      "Epoch 48/100\n",
      "11/11 [==============================] - 0s 700us/step - loss: 0.1228 - accuracy: 0.9599\n",
      "Epoch 49/100\n",
      "11/11 [==============================] - 0s 700us/step - loss: 0.1235 - accuracy: 0.9656\n",
      "Epoch 50/100\n",
      "11/11 [==============================] - 0s 800us/step - loss: 0.1223 - accuracy: 0.9656\n",
      "Epoch 51/100\n",
      "11/11 [==============================] - 0s 700us/step - loss: 0.1474 - accuracy: 0.9542\n",
      "Epoch 52/100\n",
      "11/11 [==============================] - 0s 700us/step - loss: 0.1284 - accuracy: 0.9656\n",
      "Epoch 53/100\n",
      "11/11 [==============================] - 0s 700us/step - loss: 0.1236 - accuracy: 0.9685\n",
      "Epoch 54/100\n",
      "11/11 [==============================] - 0s 800us/step - loss: 0.1154 - accuracy: 0.9771\n",
      "Epoch 55/100\n",
      "11/11 [==============================] - 0s 700us/step - loss: 0.1209 - accuracy: 0.9685\n",
      "Epoch 56/100\n",
      "11/11 [==============================] - 0s 700us/step - loss: 0.1119 - accuracy: 0.9713\n",
      "Epoch 57/100\n",
      "11/11 [==============================] - 0s 900us/step - loss: 0.1194 - accuracy: 0.9656\n",
      "Epoch 58/100\n",
      "11/11 [==============================] - 0s 1ms/step - loss: 0.1282 - accuracy: 0.9656\n",
      "Epoch 59/100\n",
      "11/11 [==============================] - 0s 700us/step - loss: 0.1245 - accuracy: 0.9456\n",
      "Epoch 60/100\n",
      "11/11 [==============================] - 0s 600us/step - loss: 0.1095 - accuracy: 0.9656\n",
      "Epoch 61/100\n",
      "11/11 [==============================] - 0s 700us/step - loss: 0.1072 - accuracy: 0.9771\n",
      "Epoch 62/100\n",
      "11/11 [==============================] - 0s 600us/step - loss: 0.1209 - accuracy: 0.9599\n",
      "Epoch 63/100\n",
      "11/11 [==============================] - 0s 600us/step - loss: 0.1083 - accuracy: 0.9771\n",
      "Epoch 64/100\n",
      "11/11 [==============================] - 0s 800us/step - loss: 0.1139 - accuracy: 0.9656\n",
      "Epoch 65/100\n",
      "11/11 [==============================] - 0s 700us/step - loss: 0.1044 - accuracy: 0.9742\n",
      "Epoch 66/100\n",
      "11/11 [==============================] - 0s 600us/step - loss: 0.1254 - accuracy: 0.9570\n",
      "Epoch 67/100\n",
      "11/11 [==============================] - 0s 700us/step - loss: 0.1041 - accuracy: 0.9742\n",
      "Epoch 68/100\n",
      "11/11 [==============================] - 0s 700us/step - loss: 0.1102 - accuracy: 0.9656\n",
      "Epoch 69/100\n",
      "11/11 [==============================] - 0s 600us/step - loss: 0.1080 - accuracy: 0.9685\n",
      "Epoch 70/100\n",
      "11/11 [==============================] - 0s 800us/step - loss: 0.1007 - accuracy: 0.9771\n",
      "Epoch 71/100\n",
      "11/11 [==============================] - 0s 500us/step - loss: 0.1081 - accuracy: 0.9713\n",
      "Epoch 72/100\n",
      "11/11 [==============================] - 0s 700us/step - loss: 0.1003 - accuracy: 0.9742\n",
      "Epoch 73/100\n",
      "11/11 [==============================] - 0s 900us/step - loss: 0.0977 - accuracy: 0.9799\n",
      "Epoch 74/100\n",
      "11/11 [==============================] - 0s 700us/step - loss: 0.1033 - accuracy: 0.9713\n",
      "Epoch 75/100\n",
      "11/11 [==============================] - 0s 600us/step - loss: 0.1023 - accuracy: 0.9713\n",
      "Epoch 76/100\n",
      "11/11 [==============================] - 0s 600us/step - loss: 0.0993 - accuracy: 0.9771\n",
      "Epoch 77/100\n",
      "11/11 [==============================] - 0s 700us/step - loss: 0.0978 - accuracy: 0.9828\n",
      "Epoch 78/100\n",
      "11/11 [==============================] - 0s 600us/step - loss: 0.0928 - accuracy: 0.9857\n",
      "Epoch 79/100\n",
      "11/11 [==============================] - 0s 700us/step - loss: 0.0947 - accuracy: 0.9828\n",
      "Epoch 80/100\n",
      "11/11 [==============================] - 0s 700us/step - loss: 0.0952 - accuracy: 0.9771\n",
      "Epoch 81/100\n",
      "11/11 [==============================] - 0s 700us/step - loss: 0.0938 - accuracy: 0.9656\n",
      "Epoch 82/100\n",
      "11/11 [==============================] - 0s 600us/step - loss: 0.0890 - accuracy: 0.9828\n",
      "Epoch 83/100\n",
      "11/11 [==============================] - 0s 700us/step - loss: 0.0949 - accuracy: 0.9742\n",
      "Epoch 84/100\n",
      "11/11 [==============================] - 0s 600us/step - loss: 0.0948 - accuracy: 0.9799\n",
      "Epoch 85/100\n",
      "11/11 [==============================] - 0s 600us/step - loss: 0.1009 - accuracy: 0.9713\n",
      "Epoch 86/100\n",
      "11/11 [==============================] - 0s 700us/step - loss: 0.0985 - accuracy: 0.9742\n",
      "Epoch 87/100\n",
      "11/11 [==============================] - 0s 700us/step - loss: 0.0988 - accuracy: 0.9742\n",
      "Epoch 88/100\n",
      "11/11 [==============================] - 0s 800us/step - loss: 0.0995 - accuracy: 0.9713\n",
      "Epoch 89/100\n",
      "11/11 [==============================] - 0s 700us/step - loss: 0.0932 - accuracy: 0.9742\n",
      "Epoch 90/100\n",
      "11/11 [==============================] - 0s 600us/step - loss: 0.0905 - accuracy: 0.9742\n",
      "Epoch 91/100\n",
      "11/11 [==============================] - 0s 600us/step - loss: 0.0914 - accuracy: 0.9828\n",
      "Epoch 92/100\n",
      "11/11 [==============================] - 0s 700us/step - loss: 0.0896 - accuracy: 0.9742\n",
      "Epoch 93/100\n",
      "11/11 [==============================] - 0s 700us/step - loss: 0.0856 - accuracy: 0.9828\n",
      "Epoch 94/100\n",
      "11/11 [==============================] - 0s 700us/step - loss: 0.0938 - accuracy: 0.9742\n",
      "Epoch 95/100\n",
      "11/11 [==============================] - 0s 700us/step - loss: 0.0884 - accuracy: 0.9828\n",
      "Epoch 96/100\n",
      "11/11 [==============================] - 0s 600us/step - loss: 0.0901 - accuracy: 0.9742\n",
      "Epoch 97/100\n",
      "11/11 [==============================] - 0s 700us/step - loss: 0.1102 - accuracy: 0.9685\n",
      "Epoch 98/100\n",
      "11/11 [==============================] - 0s 700us/step - loss: 0.0847 - accuracy: 0.9799\n",
      "Epoch 99/100\n",
      "11/11 [==============================] - 0s 600us/step - loss: 0.0865 - accuracy: 0.9799\n",
      "Epoch 100/100\n",
      "11/11 [==============================] - 0s 700us/step - loss: 0.0803 - accuracy: 0.9828\n"
     ]
    },
    {
     "data": {
      "text/plain": [
       "<keras.callbacks.History at 0x2de7e060220>"
      ]
     },
     "execution_count": 38,
     "metadata": {},
     "output_type": "execute_result"
    }
   ],
   "source": [
    "model.fit(X_train, y_train, epochs=100)"
   ]
  },
  {
   "cell_type": "markdown",
   "id": "83f5e545",
   "metadata": {},
   "source": [
    "Let's restart the process (we will use `clear_session` to properly clear out TensorFlow's cache, and then define random seeds for `numpy` and `tf` (this is good practice to do right after the clear out). Other than that, we will only make three small changes:\n",
    "- We add validation data to the training process (we will here simply use the test data - not best practice, but this is just for showing you how the TensorFlow training can directly consider a validation data set)\n",
    "- Instead of using the default `'sgd'` optimizer, we manually specify the learning rate, using the `tf.keras.optimizers.SGD` object\n",
    "- We also save the output of `model.fit`, as this will be interesting for drawing graphs"
   ]
  },
  {
   "cell_type": "code",
   "execution_count": 39,
   "id": "1877267f",
   "metadata": {},
   "outputs": [],
   "source": [
    "tf.keras.backend.clear_session()\n",
    "np.random.seed(672)\n",
    "tf.random.set_seed(323)"
   ]
  },
  {
   "cell_type": "code",
   "execution_count": 40,
   "id": "5406c3bb",
   "metadata": {},
   "outputs": [
    {
     "name": "stdout",
     "output_type": "stream",
     "text": [
      "Epoch 1/100\n",
      "11/11 [==============================] - 0s 11ms/step - loss: 2.1260 - accuracy: 0.5129 - val_loss: 2.7152 - val_accuracy: 0.5000\n",
      "Epoch 2/100\n",
      "11/11 [==============================] - 0s 2ms/step - loss: 2.3290 - accuracy: 0.4785 - val_loss: 2.2426 - val_accuracy: 0.5000\n",
      "Epoch 3/100\n",
      "11/11 [==============================] - 0s 2ms/step - loss: 1.7675 - accuracy: 0.5387 - val_loss: 1.8040 - val_accuracy: 0.5000\n",
      "Epoch 4/100\n",
      "11/11 [==============================] - 0s 2ms/step - loss: 1.6974 - accuracy: 0.5215 - val_loss: 1.4428 - val_accuracy: 0.5000\n",
      "Epoch 5/100\n",
      "11/11 [==============================] - 0s 2ms/step - loss: 1.7869 - accuracy: 0.4814 - val_loss: 2.4742 - val_accuracy: 0.5000\n",
      "Epoch 6/100\n",
      "11/11 [==============================] - 0s 2ms/step - loss: 1.7324 - accuracy: 0.5043 - val_loss: 0.9446 - val_accuracy: 0.5645\n",
      "Epoch 7/100\n",
      "11/11 [==============================] - 0s 2ms/step - loss: 1.2033 - accuracy: 0.5301 - val_loss: 1.2108 - val_accuracy: 0.5161\n",
      "Epoch 8/100\n",
      "11/11 [==============================] - 0s 2ms/step - loss: 0.7279 - accuracy: 0.6819 - val_loss: 1.8504 - val_accuracy: 0.5000\n",
      "Epoch 9/100\n",
      "11/11 [==============================] - 0s 2ms/step - loss: 0.3575 - accuracy: 0.8367 - val_loss: 0.3014 - val_accuracy: 0.8226\n",
      "Epoch 10/100\n",
      "11/11 [==============================] - 0s 2ms/step - loss: 0.4034 - accuracy: 0.8195 - val_loss: 1.5598 - val_accuracy: 0.5000\n",
      "Epoch 11/100\n",
      "11/11 [==============================] - 0s 2ms/step - loss: 1.2631 - accuracy: 0.5473 - val_loss: 0.6425 - val_accuracy: 0.6935\n",
      "Epoch 12/100\n",
      "11/11 [==============================] - 0s 2ms/step - loss: 0.6681 - accuracy: 0.7049 - val_loss: 0.3744 - val_accuracy: 0.8226\n",
      "Epoch 13/100\n",
      "11/11 [==============================] - 0s 2ms/step - loss: 0.2065 - accuracy: 0.9140 - val_loss: 0.2723 - val_accuracy: 0.8548\n",
      "Epoch 14/100\n",
      "11/11 [==============================] - 0s 2ms/step - loss: 0.2743 - accuracy: 0.8968 - val_loss: 0.3231 - val_accuracy: 0.8226\n",
      "Epoch 15/100\n",
      "11/11 [==============================] - 0s 2ms/step - loss: 0.2035 - accuracy: 0.9427 - val_loss: 0.2287 - val_accuracy: 0.9032\n",
      "Epoch 16/100\n",
      "11/11 [==============================] - 0s 2ms/step - loss: 0.2170 - accuracy: 0.9140 - val_loss: 0.2477 - val_accuracy: 0.9194\n",
      "Epoch 17/100\n",
      "11/11 [==============================] - 0s 2ms/step - loss: 0.1865 - accuracy: 0.9312 - val_loss: 0.2375 - val_accuracy: 0.9032\n",
      "Epoch 18/100\n",
      "11/11 [==============================] - 0s 2ms/step - loss: 0.1857 - accuracy: 0.9284 - val_loss: 0.3222 - val_accuracy: 0.8387\n",
      "Epoch 19/100\n",
      "11/11 [==============================] - 0s 2ms/step - loss: 0.2526 - accuracy: 0.9054 - val_loss: 0.7282 - val_accuracy: 0.6452\n",
      "Epoch 20/100\n",
      "11/11 [==============================] - 0s 2ms/step - loss: 0.2553 - accuracy: 0.9169 - val_loss: 0.2118 - val_accuracy: 0.9032\n",
      "Epoch 21/100\n",
      "11/11 [==============================] - 0s 2ms/step - loss: 0.1730 - accuracy: 0.9427 - val_loss: 0.2342 - val_accuracy: 0.9194\n",
      "Epoch 22/100\n",
      "11/11 [==============================] - 0s 2ms/step - loss: 0.2033 - accuracy: 0.9226 - val_loss: 0.3132 - val_accuracy: 0.8548\n",
      "Epoch 23/100\n",
      "11/11 [==============================] - 0s 2ms/step - loss: 0.1824 - accuracy: 0.9226 - val_loss: 0.2070 - val_accuracy: 0.8871\n",
      "Epoch 24/100\n",
      "11/11 [==============================] - 0s 2ms/step - loss: 0.1631 - accuracy: 0.9484 - val_loss: 0.2059 - val_accuracy: 0.9032\n",
      "Epoch 25/100\n",
      "11/11 [==============================] - 0s 2ms/step - loss: 0.2328 - accuracy: 0.8940 - val_loss: 0.3000 - val_accuracy: 0.9194\n",
      "Epoch 26/100\n",
      "11/11 [==============================] - 0s 2ms/step - loss: 0.2224 - accuracy: 0.9112 - val_loss: 0.2071 - val_accuracy: 0.9032\n",
      "Epoch 27/100\n",
      "11/11 [==============================] - 0s 2ms/step - loss: 0.1446 - accuracy: 0.9628 - val_loss: 0.2011 - val_accuracy: 0.8871\n",
      "Epoch 28/100\n",
      "11/11 [==============================] - 0s 2ms/step - loss: 0.1514 - accuracy: 0.9513 - val_loss: 0.2002 - val_accuracy: 0.8871\n",
      "Epoch 29/100\n",
      "11/11 [==============================] - 0s 2ms/step - loss: 0.1434 - accuracy: 0.9570 - val_loss: 0.2114 - val_accuracy: 0.9194\n",
      "Epoch 30/100\n",
      "11/11 [==============================] - 0s 3ms/step - loss: 0.1601 - accuracy: 0.9427 - val_loss: 0.3323 - val_accuracy: 0.9194\n",
      "Epoch 31/100\n",
      "11/11 [==============================] - 0s 3ms/step - loss: 0.1981 - accuracy: 0.9284 - val_loss: 0.2274 - val_accuracy: 0.9194\n",
      "Epoch 32/100\n",
      "11/11 [==============================] - 0s 3ms/step - loss: 0.1363 - accuracy: 0.9542 - val_loss: 0.1971 - val_accuracy: 0.8871\n",
      "Epoch 33/100\n",
      "11/11 [==============================] - 0s 2ms/step - loss: 0.1403 - accuracy: 0.9542 - val_loss: 0.2159 - val_accuracy: 0.9194\n",
      "Epoch 34/100\n",
      "11/11 [==============================] - 0s 2ms/step - loss: 0.1339 - accuracy: 0.9628 - val_loss: 0.2518 - val_accuracy: 0.9194\n",
      "Epoch 35/100\n",
      "11/11 [==============================] - 0s 2ms/step - loss: 0.1681 - accuracy: 0.9312 - val_loss: 0.1950 - val_accuracy: 0.8871\n",
      "Epoch 36/100\n",
      "11/11 [==============================] - 0s 2ms/step - loss: 0.1890 - accuracy: 0.9312 - val_loss: 0.1944 - val_accuracy: 0.8710\n",
      "Epoch 37/100\n",
      "11/11 [==============================] - 0s 2ms/step - loss: 0.1340 - accuracy: 0.9685 - val_loss: 0.2533 - val_accuracy: 0.9194\n",
      "Epoch 38/100\n",
      "11/11 [==============================] - 0s 2ms/step - loss: 0.1464 - accuracy: 0.9513 - val_loss: 0.2007 - val_accuracy: 0.9194\n",
      "Epoch 39/100\n",
      "11/11 [==============================] - 0s 2ms/step - loss: 0.1438 - accuracy: 0.9628 - val_loss: 0.1924 - val_accuracy: 0.8871\n",
      "Epoch 40/100\n",
      "11/11 [==============================] - 0s 2ms/step - loss: 0.1328 - accuracy: 0.9570 - val_loss: 0.1975 - val_accuracy: 0.9032\n",
      "Epoch 41/100\n",
      "11/11 [==============================] - 0s 2ms/step - loss: 0.1506 - accuracy: 0.9542 - val_loss: 0.1920 - val_accuracy: 0.8871\n",
      "Epoch 42/100\n",
      "11/11 [==============================] - 0s 2ms/step - loss: 0.1258 - accuracy: 0.9656 - val_loss: 0.1915 - val_accuracy: 0.8871\n",
      "Epoch 43/100\n",
      "11/11 [==============================] - 0s 2ms/step - loss: 0.1283 - accuracy: 0.9628 - val_loss: 0.2718 - val_accuracy: 0.9194\n",
      "Epoch 44/100\n",
      "11/11 [==============================] - 0s 2ms/step - loss: 0.1325 - accuracy: 0.9542 - val_loss: 0.1902 - val_accuracy: 0.8871\n",
      "Epoch 45/100\n",
      "11/11 [==============================] - 0s 2ms/step - loss: 0.1294 - accuracy: 0.9599 - val_loss: 0.2487 - val_accuracy: 0.8871\n",
      "Epoch 46/100\n",
      "11/11 [==============================] - 0s 2ms/step - loss: 0.1444 - accuracy: 0.9542 - val_loss: 0.2088 - val_accuracy: 0.9194\n",
      "Epoch 47/100\n",
      "11/11 [==============================] - 0s 2ms/step - loss: 0.1309 - accuracy: 0.9656 - val_loss: 0.1891 - val_accuracy: 0.8871\n",
      "Epoch 48/100\n",
      "11/11 [==============================] - 0s 2ms/step - loss: 0.1284 - accuracy: 0.9599 - val_loss: 0.1890 - val_accuracy: 0.9032\n",
      "Epoch 49/100\n",
      "11/11 [==============================] - 0s 2ms/step - loss: 0.1340 - accuracy: 0.9484 - val_loss: 0.2221 - val_accuracy: 0.9194\n",
      "Epoch 50/100\n",
      "11/11 [==============================] - 0s 2ms/step - loss: 0.1373 - accuracy: 0.9542 - val_loss: 0.1878 - val_accuracy: 0.8871\n",
      "Epoch 51/100\n",
      "11/11 [==============================] - 0s 3ms/step - loss: 0.1115 - accuracy: 0.9771 - val_loss: 0.2066 - val_accuracy: 0.9194\n",
      "Epoch 52/100\n",
      "11/11 [==============================] - 0s 2ms/step - loss: 0.1280 - accuracy: 0.9656 - val_loss: 0.1912 - val_accuracy: 0.9032\n",
      "Epoch 53/100\n",
      "11/11 [==============================] - 0s 2ms/step - loss: 0.1200 - accuracy: 0.9685 - val_loss: 0.2216 - val_accuracy: 0.9194\n",
      "Epoch 54/100\n",
      "11/11 [==============================] - 0s 2ms/step - loss: 0.1193 - accuracy: 0.9599 - val_loss: 0.2745 - val_accuracy: 0.9194\n",
      "Epoch 55/100\n",
      "11/11 [==============================] - 0s 2ms/step - loss: 0.1176 - accuracy: 0.9628 - val_loss: 0.2159 - val_accuracy: 0.9032\n",
      "Epoch 56/100\n",
      "11/11 [==============================] - 0s 2ms/step - loss: 0.1187 - accuracy: 0.9742 - val_loss: 0.2021 - val_accuracy: 0.9194\n",
      "Epoch 57/100\n",
      "11/11 [==============================] - 0s 2ms/step - loss: 0.1057 - accuracy: 0.9771 - val_loss: 0.1861 - val_accuracy: 0.8710\n",
      "Epoch 58/100\n",
      "11/11 [==============================] - 0s 2ms/step - loss: 0.1061 - accuracy: 0.9771 - val_loss: 0.1849 - val_accuracy: 0.9032\n",
      "Epoch 59/100\n",
      "11/11 [==============================] - 0s 3ms/step - loss: 0.1014 - accuracy: 0.9742 - val_loss: 0.1876 - val_accuracy: 0.9032\n",
      "Epoch 60/100\n",
      "11/11 [==============================] - 0s 2ms/step - loss: 0.1168 - accuracy: 0.9656 - val_loss: 0.1975 - val_accuracy: 0.9032\n",
      "Epoch 61/100\n",
      "11/11 [==============================] - 0s 2ms/step - loss: 0.1192 - accuracy: 0.9656 - val_loss: 0.2011 - val_accuracy: 0.9032\n",
      "Epoch 62/100\n",
      "11/11 [==============================] - 0s 2ms/step - loss: 0.1064 - accuracy: 0.9799 - val_loss: 0.1856 - val_accuracy: 0.9194\n",
      "Epoch 63/100\n",
      "11/11 [==============================] - 0s 2ms/step - loss: 0.1034 - accuracy: 0.9742 - val_loss: 0.1905 - val_accuracy: 0.9032\n",
      "Epoch 64/100\n",
      "11/11 [==============================] - 0s 2ms/step - loss: 0.1053 - accuracy: 0.9771 - val_loss: 0.1940 - val_accuracy: 0.9032\n",
      "Epoch 65/100\n",
      "11/11 [==============================] - 0s 2ms/step - loss: 0.1141 - accuracy: 0.9685 - val_loss: 0.1990 - val_accuracy: 0.9032\n",
      "Epoch 66/100\n",
      "11/11 [==============================] - 0s 2ms/step - loss: 0.0984 - accuracy: 0.9742 - val_loss: 0.2285 - val_accuracy: 0.9194\n",
      "Epoch 67/100\n",
      "11/11 [==============================] - 0s 2ms/step - loss: 0.1039 - accuracy: 0.9742 - val_loss: 0.2010 - val_accuracy: 0.9032\n",
      "Epoch 68/100\n",
      "11/11 [==============================] - 0s 2ms/step - loss: 0.1011 - accuracy: 0.9799 - val_loss: 0.1817 - val_accuracy: 0.9194\n",
      "Epoch 69/100\n",
      "11/11 [==============================] - 0s 2ms/step - loss: 0.1073 - accuracy: 0.9685 - val_loss: 0.1857 - val_accuracy: 0.9032\n",
      "Epoch 70/100\n",
      "11/11 [==============================] - 0s 2ms/step - loss: 0.1008 - accuracy: 0.9656 - val_loss: 0.1819 - val_accuracy: 0.9194\n",
      "Epoch 71/100\n",
      "11/11 [==============================] - 0s 2ms/step - loss: 0.0951 - accuracy: 0.9799 - val_loss: 0.2192 - val_accuracy: 0.9194\n",
      "Epoch 72/100\n",
      "11/11 [==============================] - 0s 2ms/step - loss: 0.0960 - accuracy: 0.9713 - val_loss: 0.1815 - val_accuracy: 0.9032\n",
      "Epoch 73/100\n",
      "11/11 [==============================] - 0s 2ms/step - loss: 0.1027 - accuracy: 0.9685 - val_loss: 0.1803 - val_accuracy: 0.9194\n",
      "Epoch 74/100\n",
      "11/11 [==============================] - 0s 2ms/step - loss: 0.1027 - accuracy: 0.9857 - val_loss: 0.1829 - val_accuracy: 0.9032\n",
      "Epoch 75/100\n",
      "11/11 [==============================] - 0s 2ms/step - loss: 0.1022 - accuracy: 0.9685 - val_loss: 0.1855 - val_accuracy: 0.9032\n",
      "Epoch 76/100\n",
      "11/11 [==============================] - 0s 2ms/step - loss: 0.1154 - accuracy: 0.9599 - val_loss: 0.1796 - val_accuracy: 0.9194\n",
      "Epoch 77/100\n",
      "11/11 [==============================] - 0s 2ms/step - loss: 0.0959 - accuracy: 0.9713 - val_loss: 0.1790 - val_accuracy: 0.9194\n",
      "Epoch 78/100\n",
      "11/11 [==============================] - 0s 2ms/step - loss: 0.1013 - accuracy: 0.9771 - val_loss: 0.1968 - val_accuracy: 0.9032\n",
      "Epoch 79/100\n",
      "11/11 [==============================] - 0s 2ms/step - loss: 0.0949 - accuracy: 0.9799 - val_loss: 0.2041 - val_accuracy: 0.9032\n",
      "Epoch 80/100\n",
      "11/11 [==============================] - 0s 2ms/step - loss: 0.0980 - accuracy: 0.9771 - val_loss: 0.1814 - val_accuracy: 0.9194\n",
      "Epoch 81/100\n",
      "11/11 [==============================] - 0s 3ms/step - loss: 0.0955 - accuracy: 0.9771 - val_loss: 0.1841 - val_accuracy: 0.9032\n",
      "Epoch 82/100\n",
      "11/11 [==============================] - 0s 2ms/step - loss: 0.0919 - accuracy: 0.9799 - val_loss: 0.2136 - val_accuracy: 0.9194\n",
      "Epoch 83/100\n",
      "11/11 [==============================] - 0s 2ms/step - loss: 0.0883 - accuracy: 0.9771 - val_loss: 0.1783 - val_accuracy: 0.9194\n",
      "Epoch 84/100\n",
      "11/11 [==============================] - 0s 2ms/step - loss: 0.0905 - accuracy: 0.9771 - val_loss: 0.1784 - val_accuracy: 0.9194\n",
      "Epoch 85/100\n",
      "11/11 [==============================] - 0s 2ms/step - loss: 0.0869 - accuracy: 0.9828 - val_loss: 0.2180 - val_accuracy: 0.9194\n",
      "Epoch 86/100\n",
      "11/11 [==============================] - 0s 2ms/step - loss: 0.0916 - accuracy: 0.9742 - val_loss: 0.1816 - val_accuracy: 0.9032\n",
      "Epoch 87/100\n",
      "11/11 [==============================] - 0s 2ms/step - loss: 0.0876 - accuracy: 0.9799 - val_loss: 0.1862 - val_accuracy: 0.9194\n",
      "Epoch 88/100\n",
      "11/11 [==============================] - 0s 2ms/step - loss: 0.0937 - accuracy: 0.9771 - val_loss: 0.1846 - val_accuracy: 0.9194\n",
      "Epoch 89/100\n",
      "11/11 [==============================] - 0s 2ms/step - loss: 0.0952 - accuracy: 0.9713 - val_loss: 0.2505 - val_accuracy: 0.9194\n",
      "Epoch 90/100\n",
      "11/11 [==============================] - 0s 2ms/step - loss: 0.1041 - accuracy: 0.9685 - val_loss: 0.1968 - val_accuracy: 0.9032\n",
      "Epoch 91/100\n",
      "11/11 [==============================] - 0s 2ms/step - loss: 0.0848 - accuracy: 0.9857 - val_loss: 0.1761 - val_accuracy: 0.9194\n",
      "Epoch 92/100\n",
      "11/11 [==============================] - 0s 2ms/step - loss: 0.0855 - accuracy: 0.9828 - val_loss: 0.1805 - val_accuracy: 0.9194\n",
      "Epoch 93/100\n",
      "11/11 [==============================] - 0s 2ms/step - loss: 0.0863 - accuracy: 0.9857 - val_loss: 0.1753 - val_accuracy: 0.9194\n",
      "Epoch 94/100\n",
      "11/11 [==============================] - 0s 2ms/step - loss: 0.0870 - accuracy: 0.9742 - val_loss: 0.1780 - val_accuracy: 0.9032\n",
      "Epoch 95/100\n",
      "11/11 [==============================] - 0s 2ms/step - loss: 0.0862 - accuracy: 0.9771 - val_loss: 0.1756 - val_accuracy: 0.9194\n",
      "Epoch 96/100\n",
      "11/11 [==============================] - 0s 2ms/step - loss: 0.0871 - accuracy: 0.9713 - val_loss: 0.1963 - val_accuracy: 0.9032\n",
      "Epoch 97/100\n",
      "11/11 [==============================] - 0s 2ms/step - loss: 0.0934 - accuracy: 0.9771 - val_loss: 0.1844 - val_accuracy: 0.9032\n",
      "Epoch 98/100\n",
      "11/11 [==============================] - 0s 2ms/step - loss: 0.0876 - accuracy: 0.9799 - val_loss: 0.1795 - val_accuracy: 0.9194\n",
      "Epoch 99/100\n",
      "11/11 [==============================] - 0s 2ms/step - loss: 0.0822 - accuracy: 0.9828 - val_loss: 0.1842 - val_accuracy: 0.9032\n",
      "Epoch 100/100\n",
      "11/11 [==============================] - 0s 2ms/step - loss: 0.0841 - accuracy: 0.9828 - val_loss: 0.1930 - val_accuracy: 0.9032\n"
     ]
    }
   ],
   "source": [
    "model = tf.keras.models.Sequential([\n",
    "  tf.keras.layers.Flatten(input_shape=(64, 64)),\n",
    "  tf.keras.layers.Dense(1, activation='sigmoid')\n",
    "])\n",
    "model.compile(optimizer=tf.keras.optimizers.SGD(learning_rate=0.01),\n",
    "              loss='binary_crossentropy',\n",
    "              metrics=['accuracy'])\n",
    "log = model.fit(X_train, y_train, epochs=100, validation_data=(X_test, y_test))"
   ]
  },
  {
   "cell_type": "markdown",
   "id": "c17af278",
   "metadata": {},
   "source": [
    "We can now use the log to see how the training went. The `log.history` is a dictionary that will capture, for each epoch, all the metrics we defined for our model (`['accuracy']` in our case), as well as the cost/loss, for both the training and the \"validation\" dataset. The keywords to use in the dictionary are simply the words you can find in the log above."
   ]
  },
  {
   "cell_type": "code",
   "execution_count": 41,
   "id": "821b4198",
   "metadata": {
    "scrolled": true
   },
   "outputs": [
    {
     "data": {
      "image/png": "[encoded data removed]",
      "text/plain": [
       "<Figure size 432x288 with 1 Axes>"
      ]
     },
     "metadata": {
      "needs_background": "light"
     },
     "output_type": "display_data"
    }
   ],
   "source": [
    "plt.plot(log.history['accuracy'],label = \"training accuracy\")\n",
    "plt.plot(log.history['val_accuracy'], label = \"testing accuracy\")\n",
    "plt.legend()\n",
    "plt.show()"
   ]
  },
  {
   "cell_type": "markdown",
   "id": "39d7aaf8",
   "metadata": {},
   "source": [
    "We can also look at the parameters and how they have been adjusted when the model was trained. Remember that `model.layers` gives us all the layers of our model:"
   ]
  },
  {
   "cell_type": "code",
   "execution_count": 42,
   "id": "aebb715e",
   "metadata": {},
   "outputs": [
    {
     "data": {
      "text/plain": [
       "[<keras.layers.core.flatten.Flatten at 0x2de7f22f700>,\n",
       " <keras.layers.core.dense.Dense at 0x2de7f22f7f0>]"
      ]
     },
     "execution_count": 42,
     "metadata": {},
     "output_type": "execute_result"
    }
   ],
   "source": [
    "model.layers"
   ]
  },
  {
   "cell_type": "markdown",
   "id": "ca3e6597",
   "metadata": {},
   "source": [
    "We can access these layers with standard Pythonic indexing. E.g., the output layer in our case is layer 1:"
   ]
  },
  {
   "cell_type": "code",
   "execution_count": 43,
   "id": "b05b2712",
   "metadata": {},
   "outputs": [],
   "source": [
    "output_layer = model.layers[1]"
   ]
  },
  {
   "cell_type": "markdown",
   "id": "dacd5708",
   "metadata": {},
   "source": [
    "Let's now take a look at both the weights and the bias after training. Before you run the cell, ask yourself: how many weights and biases do you expect there to be?"
   ]
  },
  {
   "cell_type": "code",
   "execution_count": 44,
   "id": "c2bd5348",
   "metadata": {},
   "outputs": [
    {
     "name": "stdout",
     "output_type": "stream",
     "text": [
      "[[-0.04198132]\n",
      " [ 0.01707025]\n",
      " [-0.00310804]\n",
      " ...\n",
      " [-0.00260571]\n",
      " [ 0.00139164]\n",
      " [-0.0188955 ]]\n",
      "----\n",
      "(4096, 1)\n",
      "----\n",
      "[-0.00514784]\n"
     ]
    }
   ],
   "source": [
    "weights, bias = output_layer.get_weights()\n",
    "print(weights)\n",
    "print('----')\n",
    "print(weights.shape)\n",
    "print('----')\n",
    "print(bias)"
   ]
  },
  {
   "cell_type": "markdown",
   "id": "0b5ab15e",
   "metadata": {},
   "source": [
    "## 2.3 Making predictions"
   ]
  },
  {
   "cell_type": "markdown",
   "id": "dc3e1976",
   "metadata": {},
   "source": [
    "To make predictions, we simply input the data we want to make predictions on into the model we have trained. `.numpy()` just helps with formatting"
   ]
  },
  {
   "cell_type": "code",
   "execution_count": 45,
   "id": "fe8eece6",
   "metadata": {},
   "outputs": [],
   "source": [
    "predictions = model(X_test).numpy()"
   ]
  },
  {
   "cell_type": "markdown",
   "id": "b2b5c531",
   "metadata": {},
   "source": [
    "As before, our predictions are values between 0 and 1. let's get actual binary classification predictions:"
   ]
  },
  {
   "cell_type": "code",
   "execution_count": 46,
   "id": "0bfdfd30",
   "metadata": {},
   "outputs": [
    {
     "name": "stdout",
     "output_type": "stream",
     "text": [
      "[[ True]\n",
      " [ True]\n",
      " [False]\n",
      " [False]\n",
      " [ True]\n",
      " [False]\n",
      " [False]\n",
      " [ True]\n",
      " [False]\n",
      " [False]\n",
      " [False]\n",
      " [False]\n",
      " [False]\n",
      " [ True]\n",
      " [ True]\n",
      " [ True]\n",
      " [ True]\n",
      " [False]\n",
      " [False]\n",
      " [False]\n",
      " [False]\n",
      " [False]\n",
      " [False]\n",
      " [False]\n",
      " [False]\n",
      " [ True]\n",
      " [False]\n",
      " [ True]\n",
      " [ True]\n",
      " [ True]\n",
      " [ True]\n",
      " [False]\n",
      " [ True]\n",
      " [False]\n",
      " [False]\n",
      " [False]\n",
      " [False]\n",
      " [False]\n",
      " [False]\n",
      " [ True]\n",
      " [ True]\n",
      " [False]\n",
      " [ True]\n",
      " [False]\n",
      " [ True]\n",
      " [ True]\n",
      " [ True]\n",
      " [False]\n",
      " [False]\n",
      " [False]\n",
      " [ True]\n",
      " [ True]\n",
      " [False]\n",
      " [ True]\n",
      " [False]\n",
      " [ True]\n",
      " [False]\n",
      " [ True]\n",
      " [False]\n",
      " [False]\n",
      " [ True]\n",
      " [ True]]\n"
     ]
    }
   ],
   "source": [
    "print(predictions > 0.5)"
   ]
  },
  {
   "cell_type": "markdown",
   "id": "0aa63c5a",
   "metadata": {},
   "source": [
    "# 3. Creating a deeper neural network with TensorFlow"
   ]
  },
  {
   "cell_type": "markdown",
   "id": "839802a5",
   "metadata": {},
   "source": [
    "We will now create a deeper neural network with TensorFlow's Sequential API (the same one we were just using now). Before we do so, let's properly clear out the cache and set some new random seeds:"
   ]
  },
  {
   "cell_type": "code",
   "execution_count": 47,
   "id": "99178380",
   "metadata": {},
   "outputs": [],
   "source": [
    "tf.keras.backend.clear_session()\n",
    "np.random.seed(745)\n",
    "tf.random.set_seed(498)"
   ]
  },
  {
   "cell_type": "markdown",
   "id": "27922aa2",
   "metadata": {},
   "source": [
    "We can now create the model. We can either create it in one go:\n",
    "```\n",
    "model = tf.keras.models.Sequential([\n",
    "  tf.keras.layers.Flatten(input_shape=(64, 64)),\n",
    "  tf.keras.layers.Dense(3, kernel_initializer = 'uniform', activation='relu')\n",
    "  tf.keras.layers.Dense(3, kernel_initializer = 'uniform', activation='relu')\n",
    "  tf.keras.layers.Dense(1, kernel_initializer = 'uniform', activation='sigmoid')\n",
    "])\n",
    "```\n",
    "or we can add layers one-by-one:"
   ]
  },
  {
   "cell_type": "code",
   "execution_count": 48,
   "id": "f2bd0ce9",
   "metadata": {},
   "outputs": [],
   "source": [
    "model = tf.keras.models.Sequential()\n",
    "model.add(tf.keras.layers.Flatten(input_shape=(64,64)))\n",
    "model.add(tf.keras.layers.Dense(3, kernel_initializer = 'uniform', activation=\"relu\"))\n",
    "model.add(tf.keras.layers.Dense(3, kernel_initializer = 'uniform', activation=\"relu\"))\n",
    "model.add(tf.keras.layers.Dense(1, kernel_initializer = 'uniform', activation=\"sigmoid\"))"
   ]
  },
  {
   "cell_type": "markdown",
   "id": "7e8a1d9a",
   "metadata": {},
   "source": [
    "A few things to note: We are using the `Flatten` layer again, to convert our input-matrices into input-vectors. We then add a number of hidden layers and an output layer. Can you see how many hidden layers there are and how many neurons are at each?\n",
    "\n",
    "As in the tutorial, we use `'relu'` units at the hidden layer and a `sigmoid` unit at the output layer. We also add in a `kernel_initializer`: we are specifying how the parameters should be initialized (uniformly random). In this particular case, the default initialization is likely not to work, but feel free to try it out as well.\n",
    "\n",
    "In general, if you are unsure about any of the inputs to the TensorFlow functions, make sure to check the [amazing documentation](https://www.tensorflow.org/api_docs/python/tf/all_symbols).\n",
    "\n",
    "As before, we can print out a summary of the `model`:"
   ]
  },
  {
   "cell_type": "code",
   "execution_count": 49,
   "id": "912c9825",
   "metadata": {},
   "outputs": [
    {
     "name": "stdout",
     "output_type": "stream",
     "text": [
      "Model: \"sequential\"\n",
      "_________________________________________________________________\n",
      " Layer (type)                Output Shape              Param #   \n",
      "=================================================================\n",
      " flatten (Flatten)           (None, 4096)              0         \n",
      "                                                                 \n",
      " dense (Dense)               (None, 3)                 12291     \n",
      "                                                                 \n",
      " dense_1 (Dense)             (None, 3)                 12        \n",
      "                                                                 \n",
      " dense_2 (Dense)             (None, 1)                 4         \n",
      "                                                                 \n",
      "=================================================================\n",
      "Total params: 12,307\n",
      "Trainable params: 12,307\n",
      "Non-trainable params: 0\n",
      "_________________________________________________________________\n"
     ]
    }
   ],
   "source": [
    "model.summary()"
   ]
  },
  {
   "cell_type": "markdown",
   "id": "eabfa407",
   "metadata": {},
   "source": [
    "Do the shapes make sense to you?\n",
    "\n",
    "Can you account for the number of parameters?"
   ]
  },
  {
   "cell_type": "markdown",
   "id": "fd73e0b2",
   "metadata": {},
   "source": [
    "We can also visualize the layers of our model:"
   ]
  },
  {
   "cell_type": "code",
   "execution_count": 50,
   "id": "70e3a591",
   "metadata": {},
   "outputs": [
    {
     "data": {
      "image/png": "[encoded data removed]",
      "text/plain": [
       "<IPython.core.display.Image object>"
      ]
     },
     "execution_count": 50,
     "metadata": {},
     "output_type": "execute_result"
    }
   ],
   "source": [
    "tf.keras.utils.plot_model(model, show_shapes=True)"
   ]
  },
  {
   "cell_type": "markdown",
   "id": "60bae996",
   "metadata": {},
   "source": [
    "And as before, we can take a look at it's parameters (note that we haven't trained the model yet, so these are the randomly generated weights and biases):"
   ]
  },
  {
   "cell_type": "code",
   "execution_count": 51,
   "id": "bb7afbb2",
   "metadata": {},
   "outputs": [],
   "source": [
    "hidden_layer = model.layers[1]"
   ]
  },
  {
   "cell_type": "code",
   "execution_count": 52,
   "id": "1022d865",
   "metadata": {},
   "outputs": [
    {
     "name": "stdout",
     "output_type": "stream",
     "text": [
      "[[-0.03442458  0.02409644 -0.00317553]\n",
      " [ 0.03405425  0.04183463  0.02363134]\n",
      " [-0.01410528  0.00398878 -0.02459477]\n",
      " ...\n",
      " [-0.04881406  0.0035608   0.010118  ]\n",
      " [ 0.00857428 -0.01074004 -0.02533538]\n",
      " [ 0.01472672 -0.00028157 -0.03800116]]\n",
      "----\n",
      "(4096, 3)\n",
      "----\n",
      "[0. 0. 0.]\n",
      "----\n",
      "(3,)\n"
     ]
    }
   ],
   "source": [
    "weights, bias = hidden_layer.get_weights()\n",
    "print(weights)\n",
    "print('----')\n",
    "print(weights.shape)\n",
    "print('----')\n",
    "print(bias)\n",
    "print('----')\n",
    "print(bias.shape)"
   ]
  },
  {
   "cell_type": "markdown",
   "id": "ced9387c",
   "metadata": {},
   "source": [
    "Finally, before training the model, we need to compile it again. As before, we use `'sgd'` as an optimization algorithm, and `'binary_crossentropy'` as our loss (or cost) function:"
   ]
  },
  {
   "cell_type": "code",
   "execution_count": 53,
   "id": "137e6c7f",
   "metadata": {},
   "outputs": [],
   "source": [
    "model.compile(loss=\"binary_crossentropy\",\n",
    "              optimizer=tf.keras.optimizers.SGD(learning_rate=0.01),\n",
    "              metrics=[\"accuracy\"])"
   ]
  },
  {
   "cell_type": "markdown",
   "id": "5bbd0056",
   "metadata": {},
   "source": [
    "## 3.1 Training the model"
   ]
  },
  {
   "cell_type": "markdown",
   "id": "76e078a1",
   "metadata": {},
   "source": [
    "Let's now run the model for 100 epochs, similar to what we did before:"
   ]
  },
  {
   "cell_type": "code",
   "execution_count": 54,
   "id": "0b16b599",
   "metadata": {},
   "outputs": [
    {
     "name": "stdout",
     "output_type": "stream",
     "text": [
      "Epoch 1/100\n",
      "11/11 [==============================] - 0s 10ms/step - loss: 0.6932 - accuracy: 0.4814 - val_loss: 0.6932 - val_accuracy: 0.5000\n",
      "Epoch 2/100\n",
      "11/11 [==============================] - 0s 3ms/step - loss: 0.6932 - accuracy: 0.4269 - val_loss: 0.6932 - val_accuracy: 0.5000\n",
      "Epoch 3/100\n",
      "11/11 [==============================] - 0s 3ms/step - loss: 0.6932 - accuracy: 0.4585 - val_loss: 0.6932 - val_accuracy: 0.5000\n",
      "Epoch 4/100\n",
      "11/11 [==============================] - 0s 3ms/step - loss: 0.6932 - accuracy: 0.4642 - val_loss: 0.6932 - val_accuracy: 0.5000\n",
      "Epoch 5/100\n",
      "11/11 [==============================] - 0s 3ms/step - loss: 0.6932 - accuracy: 0.4699 - val_loss: 0.6932 - val_accuracy: 0.5000\n",
      "Epoch 6/100\n",
      "11/11 [==============================] - 0s 2ms/step - loss: 0.6932 - accuracy: 0.5014 - val_loss: 0.6932 - val_accuracy: 0.5000\n",
      "Epoch 7/100\n",
      "11/11 [==============================] - 0s 3ms/step - loss: 0.6932 - accuracy: 0.4756 - val_loss: 0.6931 - val_accuracy: 0.5000\n",
      "Epoch 8/100\n",
      "11/11 [==============================] - 0s 2ms/step - loss: 0.6932 - accuracy: 0.5129 - val_loss: 0.6931 - val_accuracy: 0.5000\n",
      "Epoch 9/100\n",
      "11/11 [==============================] - 0s 3ms/step - loss: 0.6932 - accuracy: 0.5100 - val_loss: 0.6931 - val_accuracy: 0.5000\n",
      "Epoch 10/100\n",
      "11/11 [==============================] - 0s 3ms/step - loss: 0.6932 - accuracy: 0.4871 - val_loss: 0.6931 - val_accuracy: 0.5000\n",
      "Epoch 11/100\n",
      "11/11 [==============================] - 0s 3ms/step - loss: 0.6932 - accuracy: 0.5014 - val_loss: 0.6931 - val_accuracy: 0.5000\n",
      "Epoch 12/100\n",
      "11/11 [==============================] - 0s 3ms/step - loss: 0.6932 - accuracy: 0.5100 - val_loss: 0.6931 - val_accuracy: 0.5000\n",
      "Epoch 13/100\n",
      "11/11 [==============================] - 0s 3ms/step - loss: 0.6931 - accuracy: 0.5014 - val_loss: 0.6931 - val_accuracy: 0.5000\n",
      "Epoch 14/100\n",
      "11/11 [==============================] - 0s 3ms/step - loss: 0.6931 - accuracy: 0.5014 - val_loss: 0.6931 - val_accuracy: 0.5000\n",
      "Epoch 15/100\n",
      "11/11 [==============================] - 0s 3ms/step - loss: 0.6931 - accuracy: 0.5014 - val_loss: 0.6931 - val_accuracy: 0.5000\n",
      "Epoch 16/100\n",
      "11/11 [==============================] - 0s 3ms/step - loss: 0.6931 - accuracy: 0.5072 - val_loss: 0.6931 - val_accuracy: 0.5000\n",
      "Epoch 17/100\n",
      "11/11 [==============================] - 0s 3ms/step - loss: 0.6931 - accuracy: 0.5014 - val_loss: 0.6931 - val_accuracy: 0.5000\n",
      "Epoch 18/100\n",
      "11/11 [==============================] - 0s 3ms/step - loss: 0.6931 - accuracy: 0.5014 - val_loss: 0.6931 - val_accuracy: 0.5000\n",
      "Epoch 19/100\n",
      "11/11 [==============================] - 0s 3ms/step - loss: 0.6932 - accuracy: 0.5014 - val_loss: 0.6931 - val_accuracy: 0.5000\n",
      "Epoch 20/100\n",
      "11/11 [==============================] - 0s 3ms/step - loss: 0.6931 - accuracy: 0.5014 - val_loss: 0.6931 - val_accuracy: 0.5000\n",
      "Epoch 21/100\n",
      "11/11 [==============================] - 0s 2ms/step - loss: 0.6931 - accuracy: 0.5014 - val_loss: 0.6931 - val_accuracy: 0.5000\n",
      "Epoch 22/100\n",
      "11/11 [==============================] - 0s 3ms/step - loss: 0.6931 - accuracy: 0.5244 - val_loss: 0.6931 - val_accuracy: 0.5000\n",
      "Epoch 23/100\n",
      "11/11 [==============================] - 0s 3ms/step - loss: 0.6931 - accuracy: 0.5014 - val_loss: 0.6931 - val_accuracy: 0.5000\n",
      "Epoch 24/100\n",
      "11/11 [==============================] - 0s 3ms/step - loss: 0.6932 - accuracy: 0.5100 - val_loss: 0.6931 - val_accuracy: 0.5000\n",
      "Epoch 25/100\n",
      "11/11 [==============================] - 0s 3ms/step - loss: 0.6931 - accuracy: 0.5014 - val_loss: 0.6931 - val_accuracy: 0.5000\n",
      "Epoch 26/100\n",
      "11/11 [==============================] - 0s 3ms/step - loss: 0.6931 - accuracy: 0.5014 - val_loss: 0.6931 - val_accuracy: 0.5000\n",
      "Epoch 27/100\n",
      "11/11 [==============================] - 0s 3ms/step - loss: 0.6931 - accuracy: 0.5014 - val_loss: 0.6931 - val_accuracy: 0.5000\n",
      "Epoch 28/100\n",
      "11/11 [==============================] - 0s 3ms/step - loss: 0.6931 - accuracy: 0.5014 - val_loss: 0.6931 - val_accuracy: 0.5000\n",
      "Epoch 29/100\n",
      "11/11 [==============================] - 0s 3ms/step - loss: 0.6931 - accuracy: 0.5014 - val_loss: 0.6931 - val_accuracy: 0.5000\n",
      "Epoch 30/100\n",
      "11/11 [==============================] - 0s 3ms/step - loss: 0.6931 - accuracy: 0.5014 - val_loss: 0.6931 - val_accuracy: 0.5000\n",
      "Epoch 31/100\n",
      "11/11 [==============================] - 0s 3ms/step - loss: 0.6931 - accuracy: 0.5014 - val_loss: 0.6931 - val_accuracy: 0.5000\n",
      "Epoch 32/100\n",
      "11/11 [==============================] - 0s 3ms/step - loss: 0.6931 - accuracy: 0.5014 - val_loss: 0.6931 - val_accuracy: 0.5000\n",
      "Epoch 33/100\n",
      "11/11 [==============================] - 0s 3ms/step - loss: 0.6931 - accuracy: 0.5014 - val_loss: 0.6930 - val_accuracy: 0.5000\n",
      "Epoch 34/100\n",
      "11/11 [==============================] - 0s 3ms/step - loss: 0.6931 - accuracy: 0.5014 - val_loss: 0.6930 - val_accuracy: 0.5000\n",
      "Epoch 35/100\n",
      "11/11 [==============================] - 0s 3ms/step - loss: 0.6931 - accuracy: 0.5014 - val_loss: 0.6930 - val_accuracy: 0.5000\n",
      "Epoch 36/100\n",
      "11/11 [==============================] - 0s 3ms/step - loss: 0.6931 - accuracy: 0.5014 - val_loss: 0.6930 - val_accuracy: 0.5000\n",
      "Epoch 37/100\n",
      "11/11 [==============================] - 0s 3ms/step - loss: 0.6931 - accuracy: 0.5014 - val_loss: 0.6930 - val_accuracy: 0.5000\n",
      "Epoch 38/100\n",
      "11/11 [==============================] - 0s 3ms/step - loss: 0.6931 - accuracy: 0.5014 - val_loss: 0.6930 - val_accuracy: 0.5000\n",
      "Epoch 39/100\n",
      "11/11 [==============================] - 0s 3ms/step - loss: 0.6931 - accuracy: 0.5014 - val_loss: 0.6930 - val_accuracy: 0.5000\n",
      "Epoch 40/100\n",
      "11/11 [==============================] - 0s 3ms/step - loss: 0.6931 - accuracy: 0.5014 - val_loss: 0.6930 - val_accuracy: 0.5000\n",
      "Epoch 41/100\n",
      "11/11 [==============================] - 0s 3ms/step - loss: 0.6931 - accuracy: 0.5014 - val_loss: 0.6930 - val_accuracy: 0.5000\n",
      "Epoch 42/100\n",
      "11/11 [==============================] - 0s 2ms/step - loss: 0.6931 - accuracy: 0.5014 - val_loss: 0.6930 - val_accuracy: 0.5000\n",
      "Epoch 43/100\n",
      "11/11 [==============================] - 0s 3ms/step - loss: 0.6930 - accuracy: 0.5014 - val_loss: 0.6930 - val_accuracy: 0.5000\n",
      "Epoch 44/100\n",
      "11/11 [==============================] - 0s 3ms/step - loss: 0.6931 - accuracy: 0.5014 - val_loss: 0.6930 - val_accuracy: 0.5000\n",
      "Epoch 45/100\n",
      "11/11 [==============================] - 0s 3ms/step - loss: 0.6931 - accuracy: 0.5014 - val_loss: 0.6930 - val_accuracy: 0.5000\n",
      "Epoch 46/100\n",
      "11/11 [==============================] - 0s 3ms/step - loss: 0.6930 - accuracy: 0.5014 - val_loss: 0.6930 - val_accuracy: 0.5000\n",
      "Epoch 47/100\n",
      "11/11 [==============================] - 0s 2ms/step - loss: 0.6930 - accuracy: 0.5014 - val_loss: 0.6930 - val_accuracy: 0.5000\n",
      "Epoch 48/100\n",
      "11/11 [==============================] - 0s 3ms/step - loss: 0.6930 - accuracy: 0.5014 - val_loss: 0.6930 - val_accuracy: 0.5000\n",
      "Epoch 49/100\n",
      "11/11 [==============================] - 0s 3ms/step - loss: 0.6930 - accuracy: 0.5014 - val_loss: 0.6930 - val_accuracy: 0.5000\n",
      "Epoch 50/100\n",
      "11/11 [==============================] - 0s 3ms/step - loss: 0.6930 - accuracy: 0.5014 - val_loss: 0.6930 - val_accuracy: 0.5000\n",
      "Epoch 51/100\n",
      "11/11 [==============================] - 0s 3ms/step - loss: 0.6930 - accuracy: 0.5014 - val_loss: 0.6930 - val_accuracy: 0.5000\n",
      "Epoch 52/100\n",
      "11/11 [==============================] - 0s 2ms/step - loss: 0.6930 - accuracy: 0.5014 - val_loss: 0.6930 - val_accuracy: 0.5000\n",
      "Epoch 53/100\n",
      "11/11 [==============================] - 0s 3ms/step - loss: 0.6930 - accuracy: 0.5014 - val_loss: 0.6930 - val_accuracy: 0.5000\n",
      "Epoch 54/100\n",
      "11/11 [==============================] - 0s 3ms/step - loss: 0.6930 - accuracy: 0.5014 - val_loss: 0.6930 - val_accuracy: 0.5000\n",
      "Epoch 55/100\n",
      "11/11 [==============================] - 0s 3ms/step - loss: 0.6930 - accuracy: 0.5014 - val_loss: 0.6930 - val_accuracy: 0.5000\n",
      "Epoch 56/100\n",
      "11/11 [==============================] - 0s 3ms/step - loss: 0.6930 - accuracy: 0.5014 - val_loss: 0.6930 - val_accuracy: 0.5000\n",
      "Epoch 57/100\n",
      "11/11 [==============================] - 0s 3ms/step - loss: 0.6930 - accuracy: 0.5014 - val_loss: 0.6930 - val_accuracy: 0.5000\n",
      "Epoch 58/100\n",
      "11/11 [==============================] - 0s 3ms/step - loss: 0.6930 - accuracy: 0.5014 - val_loss: 0.6930 - val_accuracy: 0.5000\n",
      "Epoch 59/100\n",
      "11/11 [==============================] - 0s 3ms/step - loss: 0.6930 - accuracy: 0.5014 - val_loss: 0.6930 - val_accuracy: 0.5000\n",
      "Epoch 60/100\n",
      "11/11 [==============================] - 0s 3ms/step - loss: 0.6930 - accuracy: 0.5014 - val_loss: 0.6930 - val_accuracy: 0.5000\n",
      "Epoch 61/100\n",
      "11/11 [==============================] - 0s 3ms/step - loss: 0.6930 - accuracy: 0.5014 - val_loss: 0.6929 - val_accuracy: 0.5000\n",
      "Epoch 62/100\n",
      "11/11 [==============================] - 0s 2ms/step - loss: 0.6930 - accuracy: 0.5014 - val_loss: 0.6929 - val_accuracy: 0.5000\n",
      "Epoch 63/100\n",
      "11/11 [==============================] - 0s 3ms/step - loss: 0.6930 - accuracy: 0.5014 - val_loss: 0.6929 - val_accuracy: 0.5000\n",
      "Epoch 64/100\n",
      "11/11 [==============================] - 0s 3ms/step - loss: 0.6930 - accuracy: 0.5014 - val_loss: 0.6929 - val_accuracy: 0.5000\n",
      "Epoch 65/100\n",
      "11/11 [==============================] - 0s 3ms/step - loss: 0.6930 - accuracy: 0.5014 - val_loss: 0.6929 - val_accuracy: 0.5000\n",
      "Epoch 66/100\n",
      "11/11 [==============================] - 0s 3ms/step - loss: 0.6930 - accuracy: 0.5014 - val_loss: 0.6929 - val_accuracy: 0.5000\n",
      "Epoch 67/100\n",
      "11/11 [==============================] - 0s 3ms/step - loss: 0.6929 - accuracy: 0.5014 - val_loss: 0.6929 - val_accuracy: 0.5000\n",
      "Epoch 68/100\n",
      "11/11 [==============================] - 0s 3ms/step - loss: 0.6929 - accuracy: 0.5014 - val_loss: 0.6929 - val_accuracy: 0.5000\n",
      "Epoch 69/100\n",
      "11/11 [==============================] - 0s 3ms/step - loss: 0.6929 - accuracy: 0.5014 - val_loss: 0.6929 - val_accuracy: 0.5000\n",
      "Epoch 70/100\n",
      "11/11 [==============================] - 0s 3ms/step - loss: 0.6929 - accuracy: 0.5014 - val_loss: 0.6929 - val_accuracy: 0.5000\n",
      "Epoch 71/100\n",
      "11/11 [==============================] - 0s 3ms/step - loss: 0.6929 - accuracy: 0.5014 - val_loss: 0.6929 - val_accuracy: 0.5000\n",
      "Epoch 72/100\n",
      "11/11 [==============================] - 0s 3ms/step - loss: 0.6929 - accuracy: 0.5014 - val_loss: 0.6929 - val_accuracy: 0.5000\n",
      "Epoch 73/100\n",
      "11/11 [==============================] - 0s 3ms/step - loss: 0.6929 - accuracy: 0.5014 - val_loss: 0.6929 - val_accuracy: 0.5000\n",
      "Epoch 74/100\n",
      "11/11 [==============================] - 0s 3ms/step - loss: 0.6929 - accuracy: 0.5014 - val_loss: 0.6929 - val_accuracy: 0.5000\n",
      "Epoch 75/100\n",
      "11/11 [==============================] - 0s 3ms/step - loss: 0.6929 - accuracy: 0.5014 - val_loss: 0.6929 - val_accuracy: 0.5000\n",
      "Epoch 76/100\n",
      "11/11 [==============================] - 0s 3ms/step - loss: 0.6929 - accuracy: 0.5014 - val_loss: 0.6929 - val_accuracy: 0.5000\n",
      "Epoch 77/100\n",
      "11/11 [==============================] - 0s 3ms/step - loss: 0.6929 - accuracy: 0.5014 - val_loss: 0.6929 - val_accuracy: 0.5000\n",
      "Epoch 78/100\n",
      "11/11 [==============================] - 0s 3ms/step - loss: 0.6929 - accuracy: 0.5014 - val_loss: 0.6928 - val_accuracy: 0.5000\n",
      "Epoch 79/100\n",
      "11/11 [==============================] - 0s 3ms/step - loss: 0.6928 - accuracy: 0.5014 - val_loss: 0.6928 - val_accuracy: 0.5000\n",
      "Epoch 80/100\n",
      "11/11 [==============================] - 0s 2ms/step - loss: 0.6929 - accuracy: 0.5014 - val_loss: 0.6928 - val_accuracy: 0.5000\n",
      "Epoch 81/100\n",
      "11/11 [==============================] - 0s 3ms/step - loss: 0.6929 - accuracy: 0.5014 - val_loss: 0.6928 - val_accuracy: 0.5000\n",
      "Epoch 82/100\n",
      "11/11 [==============================] - 0s 3ms/step - loss: 0.6928 - accuracy: 0.5014 - val_loss: 0.6928 - val_accuracy: 0.5000\n",
      "Epoch 83/100\n",
      "11/11 [==============================] - 0s 3ms/step - loss: 0.6928 - accuracy: 0.5014 - val_loss: 0.6928 - val_accuracy: 0.5000\n",
      "Epoch 84/100\n",
      "11/11 [==============================] - 0s 3ms/step - loss: 0.6928 - accuracy: 0.5014 - val_loss: 0.6928 - val_accuracy: 0.5000\n",
      "Epoch 85/100\n",
      "11/11 [==============================] - 0s 3ms/step - loss: 0.6928 - accuracy: 0.5014 - val_loss: 0.6928 - val_accuracy: 0.5000\n",
      "Epoch 86/100\n",
      "11/11 [==============================] - 0s 3ms/step - loss: 0.6928 - accuracy: 0.5014 - val_loss: 0.6928 - val_accuracy: 0.5000\n",
      "Epoch 87/100\n",
      "11/11 [==============================] - 0s 3ms/step - loss: 0.6928 - accuracy: 0.5014 - val_loss: 0.6928 - val_accuracy: 0.5000\n",
      "Epoch 88/100\n",
      "11/11 [==============================] - 0s 3ms/step - loss: 0.6928 - accuracy: 0.5014 - val_loss: 0.6927 - val_accuracy: 0.5000\n",
      "Epoch 89/100\n",
      "11/11 [==============================] - 0s 3ms/step - loss: 0.6927 - accuracy: 0.5014 - val_loss: 0.6927 - val_accuracy: 0.5000\n",
      "Epoch 90/100\n",
      "11/11 [==============================] - 0s 2ms/step - loss: 0.6928 - accuracy: 0.5014 - val_loss: 0.6927 - val_accuracy: 0.5000\n",
      "Epoch 91/100\n",
      "11/11 [==============================] - 0s 2ms/step - loss: 0.6927 - accuracy: 0.5014 - val_loss: 0.6927 - val_accuracy: 0.5000\n",
      "Epoch 92/100\n",
      "11/11 [==============================] - 0s 3ms/step - loss: 0.6928 - accuracy: 0.5014 - val_loss: 0.6927 - val_accuracy: 0.5000\n",
      "Epoch 93/100\n",
      "11/11 [==============================] - 0s 2ms/step - loss: 0.6927 - accuracy: 0.5014 - val_loss: 0.6927 - val_accuracy: 0.5000\n",
      "Epoch 94/100\n",
      "11/11 [==============================] - 0s 3ms/step - loss: 0.6927 - accuracy: 0.5014 - val_loss: 0.6927 - val_accuracy: 0.5000\n",
      "Epoch 95/100\n",
      "11/11 [==============================] - 0s 3ms/step - loss: 0.6927 - accuracy: 0.5014 - val_loss: 0.6927 - val_accuracy: 0.5000\n",
      "Epoch 96/100\n",
      "11/11 [==============================] - 0s 2ms/step - loss: 0.6927 - accuracy: 0.5014 - val_loss: 0.6926 - val_accuracy: 0.5000\n",
      "Epoch 97/100\n",
      "11/11 [==============================] - 0s 3ms/step - loss: 0.6927 - accuracy: 0.5014 - val_loss: 0.6926 - val_accuracy: 0.5000\n",
      "Epoch 98/100\n",
      "11/11 [==============================] - 0s 3ms/step - loss: 0.6926 - accuracy: 0.5014 - val_loss: 0.6926 - val_accuracy: 0.5000\n",
      "Epoch 99/100\n",
      "11/11 [==============================] - 0s 3ms/step - loss: 0.6926 - accuracy: 0.5014 - val_loss: 0.6926 - val_accuracy: 0.5000\n",
      "Epoch 100/100\n",
      "11/11 [==============================] - 0s 3ms/step - loss: 0.6926 - accuracy: 0.5014 - val_loss: 0.6926 - val_accuracy: 0.5000\n"
     ]
    }
   ],
   "source": [
    "log = model.fit(X_train, y_train, epochs=100,validation_data=(X_test, y_test))"
   ]
  },
  {
   "cell_type": "markdown",
   "id": "3fc72d6f",
   "metadata": {},
   "source": [
    "Did you see anything happening? Why do you think this is the case? What do you think happens if we really crank up the iterations (say, to a few thousand)?\n",
    "\n",
    "\n",
    "\n",
    "We will try again, this time with a different optimization-algorithm, `'adam'` (again, don't worry too much about what exactly `'adam'` does, we will see this later in class). For this, we have to recompile the model. Keep in mind, however, that the weights and biases will already be at exactly the level they have been trained to in the previous training attempt:"
   ]
  },
  {
   "cell_type": "code",
   "execution_count": 55,
   "id": "d9abc175",
   "metadata": {},
   "outputs": [],
   "source": [
    "model.compile(loss=\"binary_crossentropy\",\n",
    "              optimizer='adam',\n",
    "              metrics=[\"accuracy\"])"
   ]
  },
  {
   "cell_type": "markdown",
   "id": "659be2a7",
   "metadata": {},
   "source": [
    "Let's try again:"
   ]
  },
  {
   "cell_type": "code",
   "execution_count": 56,
   "id": "b574b7f7",
   "metadata": {},
   "outputs": [
    {
     "name": "stdout",
     "output_type": "stream",
     "text": [
      "Epoch 1/100\n",
      "11/11 [==============================] - 0s 10ms/step - loss: 0.6930 - accuracy: 0.5014 - val_loss: 0.6923 - val_accuracy: 0.5000\n",
      "Epoch 2/100\n",
      "11/11 [==============================] - 0s 3ms/step - loss: 0.6920 - accuracy: 0.5014 - val_loss: 0.6913 - val_accuracy: 0.5000\n",
      "Epoch 3/100\n",
      "11/11 [==============================] - 0s 3ms/step - loss: 0.6908 - accuracy: 0.5014 - val_loss: 0.6901 - val_accuracy: 0.5000\n",
      "Epoch 4/100\n",
      "11/11 [==============================] - 0s 3ms/step - loss: 0.6894 - accuracy: 0.5014 - val_loss: 0.6879 - val_accuracy: 0.5000\n",
      "Epoch 5/100\n",
      "11/11 [==============================] - 0s 3ms/step - loss: 0.6866 - accuracy: 0.5014 - val_loss: 0.6844 - val_accuracy: 0.5000\n",
      "Epoch 6/100\n",
      "11/11 [==============================] - 0s 3ms/step - loss: 0.6819 - accuracy: 0.5014 - val_loss: 0.6786 - val_accuracy: 0.5000\n",
      "Epoch 7/100\n",
      "11/11 [==============================] - 0s 3ms/step - loss: 0.6752 - accuracy: 0.5244 - val_loss: 0.6712 - val_accuracy: 0.5000\n",
      "Epoch 8/100\n",
      "11/11 [==============================] - 0s 3ms/step - loss: 0.6661 - accuracy: 0.5530 - val_loss: 0.6607 - val_accuracy: 0.6452\n",
      "Epoch 9/100\n",
      "11/11 [==============================] - 0s 3ms/step - loss: 0.6550 - accuracy: 0.5931 - val_loss: 0.6476 - val_accuracy: 0.6129\n",
      "Epoch 10/100\n",
      "11/11 [==============================] - 0s 3ms/step - loss: 0.6411 - accuracy: 0.6275 - val_loss: 0.6333 - val_accuracy: 0.6452\n",
      "Epoch 11/100\n",
      "11/11 [==============================] - 0s 3ms/step - loss: 0.6253 - accuracy: 0.6705 - val_loss: 0.6174 - val_accuracy: 0.6935\n",
      "Epoch 12/100\n",
      "11/11 [==============================] - 0s 3ms/step - loss: 0.6054 - accuracy: 0.6447 - val_loss: 0.6002 - val_accuracy: 0.6935\n",
      "Epoch 13/100\n",
      "11/11 [==============================] - 0s 3ms/step - loss: 0.5894 - accuracy: 0.7049 - val_loss: 0.5822 - val_accuracy: 0.6935\n",
      "Epoch 14/100\n",
      "11/11 [==============================] - 0s 3ms/step - loss: 0.5694 - accuracy: 0.7421 - val_loss: 0.5650 - val_accuracy: 0.7097\n",
      "Epoch 15/100\n",
      "11/11 [==============================] - 0s 3ms/step - loss: 0.5517 - accuracy: 0.7593 - val_loss: 0.5568 - val_accuracy: 0.8387\n",
      "Epoch 16/100\n",
      "11/11 [==============================] - 0s 3ms/step - loss: 0.5329 - accuracy: 0.7622 - val_loss: 0.5303 - val_accuracy: 0.8387\n",
      "Epoch 17/100\n",
      "11/11 [==============================] - 0s 3ms/step - loss: 0.5176 - accuracy: 0.7880 - val_loss: 0.5144 - val_accuracy: 0.8387\n",
      "Epoch 18/100\n",
      "11/11 [==============================] - 0s 3ms/step - loss: 0.4976 - accuracy: 0.8309 - val_loss: 0.5021 - val_accuracy: 0.8387\n",
      "Epoch 19/100\n",
      "11/11 [==============================] - 0s 3ms/step - loss: 0.4848 - accuracy: 0.8395 - val_loss: 0.4882 - val_accuracy: 0.8387\n",
      "Epoch 20/100\n",
      "11/11 [==============================] - 0s 3ms/step - loss: 0.4694 - accuracy: 0.8510 - val_loss: 0.4755 - val_accuracy: 0.8548\n",
      "Epoch 21/100\n",
      "11/11 [==============================] - 0s 3ms/step - loss: 0.4547 - accuracy: 0.8797 - val_loss: 0.4674 - val_accuracy: 0.8710\n",
      "Epoch 22/100\n",
      "11/11 [==============================] - 0s 3ms/step - loss: 0.4436 - accuracy: 0.8997 - val_loss: 0.4862 - val_accuracy: 0.7419\n",
      "Epoch 23/100\n",
      "11/11 [==============================] - 0s 3ms/step - loss: 0.4495 - accuracy: 0.8797 - val_loss: 0.4481 - val_accuracy: 0.8548\n",
      "Epoch 24/100\n",
      "11/11 [==============================] - 0s 3ms/step - loss: 0.4350 - accuracy: 0.8711 - val_loss: 0.4417 - val_accuracy: 0.8871\n",
      "Epoch 25/100\n",
      "11/11 [==============================] - 0s 3ms/step - loss: 0.4199 - accuracy: 0.8854 - val_loss: 0.4354 - val_accuracy: 0.8871\n",
      "Epoch 26/100\n",
      "11/11 [==============================] - 0s 3ms/step - loss: 0.4125 - accuracy: 0.8940 - val_loss: 0.4269 - val_accuracy: 0.8871\n",
      "Epoch 27/100\n",
      "11/11 [==============================] - 0s 3ms/step - loss: 0.4046 - accuracy: 0.9198 - val_loss: 0.4196 - val_accuracy: 0.8871\n",
      "Epoch 28/100\n",
      "11/11 [==============================] - 0s 3ms/step - loss: 0.3952 - accuracy: 0.9112 - val_loss: 0.4176 - val_accuracy: 0.8871\n",
      "Epoch 29/100\n",
      "11/11 [==============================] - 0s 3ms/step - loss: 0.3884 - accuracy: 0.9226 - val_loss: 0.4088 - val_accuracy: 0.9032\n",
      "Epoch 30/100\n",
      "11/11 [==============================] - 0s 3ms/step - loss: 0.3824 - accuracy: 0.9312 - val_loss: 0.4037 - val_accuracy: 0.9032\n",
      "Epoch 31/100\n",
      "11/11 [==============================] - 0s 3ms/step - loss: 0.3763 - accuracy: 0.9140 - val_loss: 0.4011 - val_accuracy: 0.8871\n",
      "Epoch 32/100\n",
      "11/11 [==============================] - 0s 3ms/step - loss: 0.3708 - accuracy: 0.9427 - val_loss: 0.3967 - val_accuracy: 0.9032\n",
      "Epoch 33/100\n",
      "11/11 [==============================] - 0s 3ms/step - loss: 0.3658 - accuracy: 0.9398 - val_loss: 0.3964 - val_accuracy: 0.9032\n",
      "Epoch 34/100\n",
      "11/11 [==============================] - 0s 3ms/step - loss: 0.3589 - accuracy: 0.9370 - val_loss: 0.3874 - val_accuracy: 0.9194\n",
      "Epoch 35/100\n",
      "11/11 [==============================] - 0s 3ms/step - loss: 0.3512 - accuracy: 0.9312 - val_loss: 0.3819 - val_accuracy: 0.9032\n",
      "Epoch 36/100\n",
      "11/11 [==============================] - 0s 3ms/step - loss: 0.3470 - accuracy: 0.9542 - val_loss: 0.3839 - val_accuracy: 0.9032\n",
      "Epoch 37/100\n",
      "11/11 [==============================] - 0s 2ms/step - loss: 0.3454 - accuracy: 0.9456 - val_loss: 0.3750 - val_accuracy: 0.9032\n",
      "Epoch 38/100\n",
      "11/11 [==============================] - 0s 3ms/step - loss: 0.3385 - accuracy: 0.9484 - val_loss: 0.3723 - val_accuracy: 0.9194\n",
      "Epoch 39/100\n",
      "11/11 [==============================] - 0s 3ms/step - loss: 0.3335 - accuracy: 0.9484 - val_loss: 0.3750 - val_accuracy: 0.9032\n",
      "Epoch 40/100\n",
      "11/11 [==============================] - 0s 3ms/step - loss: 0.3310 - accuracy: 0.9542 - val_loss: 0.3652 - val_accuracy: 0.9032\n",
      "Epoch 41/100\n",
      "11/11 [==============================] - 0s 3ms/step - loss: 0.3285 - accuracy: 0.9656 - val_loss: 0.3841 - val_accuracy: 0.8548\n",
      "Epoch 42/100\n",
      "11/11 [==============================] - 0s 3ms/step - loss: 0.3428 - accuracy: 0.9370 - val_loss: 0.3670 - val_accuracy: 0.8871\n",
      "Epoch 43/100\n",
      "11/11 [==============================] - 0s 3ms/step - loss: 0.3196 - accuracy: 0.9513 - val_loss: 0.3555 - val_accuracy: 0.9032\n",
      "Epoch 44/100\n",
      "11/11 [==============================] - 0s 2ms/step - loss: 0.3140 - accuracy: 0.9685 - val_loss: 0.3706 - val_accuracy: 0.8871\n",
      "Epoch 45/100\n",
      "11/11 [==============================] - 0s 3ms/step - loss: 0.3125 - accuracy: 0.9542 - val_loss: 0.3661 - val_accuracy: 0.9194\n",
      "Epoch 46/100\n",
      "11/11 [==============================] - 0s 3ms/step - loss: 0.3110 - accuracy: 0.9599 - val_loss: 0.3596 - val_accuracy: 0.9032\n",
      "Epoch 47/100\n",
      "11/11 [==============================] - 0s 3ms/step - loss: 0.3062 - accuracy: 0.9570 - val_loss: 0.3477 - val_accuracy: 0.9032\n",
      "Epoch 48/100\n",
      "11/11 [==============================] - 0s 3ms/step - loss: 0.2989 - accuracy: 0.9628 - val_loss: 0.3429 - val_accuracy: 0.9032\n",
      "Epoch 49/100\n",
      "11/11 [==============================] - 0s 3ms/step - loss: 0.3019 - accuracy: 0.9685 - val_loss: 0.3522 - val_accuracy: 0.9032\n",
      "Epoch 50/100\n",
      "11/11 [==============================] - 0s 3ms/step - loss: 0.2951 - accuracy: 0.9656 - val_loss: 0.3370 - val_accuracy: 0.9194\n",
      "Epoch 51/100\n",
      "11/11 [==============================] - 0s 3ms/step - loss: 0.2915 - accuracy: 0.9628 - val_loss: 0.3345 - val_accuracy: 0.9194\n",
      "Epoch 52/100\n",
      "11/11 [==============================] - 0s 3ms/step - loss: 0.2865 - accuracy: 0.9685 - val_loss: 0.3355 - val_accuracy: 0.9355\n",
      "Epoch 53/100\n",
      "11/11 [==============================] - 0s 3ms/step - loss: 0.2957 - accuracy: 0.9685 - val_loss: 0.3297 - val_accuracy: 0.9194\n",
      "Epoch 54/100\n",
      "11/11 [==============================] - 0s 3ms/step - loss: 0.2953 - accuracy: 0.9628 - val_loss: 0.3279 - val_accuracy: 0.9032\n",
      "Epoch 55/100\n",
      "11/11 [==============================] - 0s 3ms/step - loss: 0.2800 - accuracy: 0.9599 - val_loss: 0.3254 - val_accuracy: 0.9194\n",
      "Epoch 56/100\n",
      "11/11 [==============================] - 0s 3ms/step - loss: 0.2776 - accuracy: 0.9685 - val_loss: 0.3284 - val_accuracy: 0.9194\n",
      "Epoch 57/100\n",
      "11/11 [==============================] - 0s 3ms/step - loss: 0.2762 - accuracy: 0.9742 - val_loss: 0.3297 - val_accuracy: 0.9032\n",
      "Epoch 58/100\n",
      "11/11 [==============================] - 0s 3ms/step - loss: 0.2785 - accuracy: 0.9628 - val_loss: 0.3348 - val_accuracy: 0.9194\n",
      "Epoch 59/100\n",
      "11/11 [==============================] - 0s 3ms/step - loss: 0.2827 - accuracy: 0.9628 - val_loss: 0.3238 - val_accuracy: 0.9194\n",
      "Epoch 60/100\n",
      "11/11 [==============================] - 0s 3ms/step - loss: 0.2698 - accuracy: 0.9742 - val_loss: 0.3188 - val_accuracy: 0.9355\n",
      "Epoch 61/100\n",
      "11/11 [==============================] - 0s 3ms/step - loss: 0.2626 - accuracy: 0.9685 - val_loss: 0.3129 - val_accuracy: 0.9194\n",
      "Epoch 62/100\n",
      "11/11 [==============================] - 0s 2ms/step - loss: 0.2595 - accuracy: 0.9713 - val_loss: 0.3228 - val_accuracy: 0.9032\n",
      "Epoch 63/100\n",
      "11/11 [==============================] - 0s 3ms/step - loss: 0.2578 - accuracy: 0.9771 - val_loss: 0.3096 - val_accuracy: 0.9194\n",
      "Epoch 64/100\n",
      "11/11 [==============================] - 0s 3ms/step - loss: 0.2576 - accuracy: 0.9713 - val_loss: 0.3194 - val_accuracy: 0.9032\n",
      "Epoch 65/100\n",
      "11/11 [==============================] - 0s 3ms/step - loss: 0.2560 - accuracy: 0.9742 - val_loss: 0.3171 - val_accuracy: 0.9032\n",
      "Epoch 66/100\n",
      "11/11 [==============================] - 0s 3ms/step - loss: 0.2532 - accuracy: 0.9685 - val_loss: 0.3045 - val_accuracy: 0.9194\n",
      "Epoch 67/100\n",
      "11/11 [==============================] - 0s 3ms/step - loss: 0.2484 - accuracy: 0.9742 - val_loss: 0.3038 - val_accuracy: 0.9032\n",
      "Epoch 68/100\n",
      "11/11 [==============================] - 0s 3ms/step - loss: 0.2570 - accuracy: 0.9713 - val_loss: 0.3107 - val_accuracy: 0.9355\n",
      "Epoch 69/100\n",
      "11/11 [==============================] - 0s 2ms/step - loss: 0.2473 - accuracy: 0.9799 - val_loss: 0.3028 - val_accuracy: 0.9355\n",
      "Epoch 70/100\n",
      "11/11 [==============================] - 0s 3ms/step - loss: 0.2494 - accuracy: 0.9713 - val_loss: 0.3065 - val_accuracy: 0.9194\n",
      "Epoch 71/100\n",
      "11/11 [==============================] - 0s 3ms/step - loss: 0.2561 - accuracy: 0.9685 - val_loss: 0.3079 - val_accuracy: 0.9194\n",
      "Epoch 72/100\n",
      "11/11 [==============================] - 0s 3ms/step - loss: 0.2447 - accuracy: 0.9857 - val_loss: 0.3039 - val_accuracy: 0.9355\n",
      "Epoch 73/100\n",
      "11/11 [==============================] - 0s 3ms/step - loss: 0.2380 - accuracy: 0.9742 - val_loss: 0.2925 - val_accuracy: 0.9194\n",
      "Epoch 74/100\n",
      "11/11 [==============================] - 0s 3ms/step - loss: 0.2368 - accuracy: 0.9656 - val_loss: 0.2968 - val_accuracy: 0.9032\n",
      "Epoch 75/100\n",
      "11/11 [==============================] - 0s 3ms/step - loss: 0.2336 - accuracy: 0.9885 - val_loss: 0.3252 - val_accuracy: 0.8871\n",
      "Epoch 76/100\n",
      "11/11 [==============================] - 0s 3ms/step - loss: 0.2332 - accuracy: 0.9713 - val_loss: 0.2880 - val_accuracy: 0.9194\n",
      "Epoch 77/100\n",
      "11/11 [==============================] - 0s 3ms/step - loss: 0.2289 - accuracy: 0.9742 - val_loss: 0.2867 - val_accuracy: 0.9194\n",
      "Epoch 78/100\n",
      "11/11 [==============================] - 0s 3ms/step - loss: 0.2252 - accuracy: 0.9799 - val_loss: 0.2924 - val_accuracy: 0.9355\n",
      "Epoch 79/100\n",
      "11/11 [==============================] - 0s 2ms/step - loss: 0.2261 - accuracy: 0.9828 - val_loss: 0.2901 - val_accuracy: 0.9032\n",
      "Epoch 80/100\n",
      "11/11 [==============================] - 0s 3ms/step - loss: 0.2218 - accuracy: 0.9799 - val_loss: 0.3007 - val_accuracy: 0.9194\n",
      "Epoch 81/100\n",
      "11/11 [==============================] - 0s 3ms/step - loss: 0.2234 - accuracy: 0.9771 - val_loss: 0.2806 - val_accuracy: 0.9194\n",
      "Epoch 82/100\n",
      "11/11 [==============================] - 0s 3ms/step - loss: 0.2182 - accuracy: 0.9799 - val_loss: 0.2830 - val_accuracy: 0.9355\n",
      "Epoch 83/100\n",
      "11/11 [==============================] - 0s 3ms/step - loss: 0.2160 - accuracy: 0.9799 - val_loss: 0.2967 - val_accuracy: 0.9194\n",
      "Epoch 84/100\n",
      "11/11 [==============================] - 0s 3ms/step - loss: 0.2196 - accuracy: 0.9771 - val_loss: 0.2778 - val_accuracy: 0.8871\n",
      "Epoch 85/100\n",
      "11/11 [==============================] - 0s 3ms/step - loss: 0.2138 - accuracy: 0.9771 - val_loss: 0.2757 - val_accuracy: 0.9194\n",
      "Epoch 86/100\n",
      "11/11 [==============================] - 0s 3ms/step - loss: 0.2118 - accuracy: 0.9828 - val_loss: 0.2778 - val_accuracy: 0.9355\n",
      "Epoch 87/100\n",
      "11/11 [==============================] - 0s 3ms/step - loss: 0.2089 - accuracy: 0.9799 - val_loss: 0.2733 - val_accuracy: 0.9194\n",
      "Epoch 88/100\n",
      "11/11 [==============================] - 0s 3ms/step - loss: 0.2116 - accuracy: 0.9857 - val_loss: 0.2957 - val_accuracy: 0.9194\n",
      "Epoch 89/100\n",
      "11/11 [==============================] - 0s 3ms/step - loss: 0.2082 - accuracy: 0.9799 - val_loss: 0.2798 - val_accuracy: 0.9355\n",
      "Epoch 90/100\n",
      "11/11 [==============================] - 0s 3ms/step - loss: 0.2052 - accuracy: 0.9799 - val_loss: 0.2804 - val_accuracy: 0.9194\n",
      "Epoch 91/100\n",
      "11/11 [==============================] - 0s 3ms/step - loss: 0.2112 - accuracy: 0.9828 - val_loss: 0.2878 - val_accuracy: 0.9194\n",
      "Epoch 92/100\n",
      "11/11 [==============================] - 0s 3ms/step - loss: 0.2065 - accuracy: 0.9828 - val_loss: 0.2734 - val_accuracy: 0.9355\n",
      "Epoch 93/100\n",
      "11/11 [==============================] - 0s 3ms/step - loss: 0.2187 - accuracy: 0.9713 - val_loss: 0.2734 - val_accuracy: 0.9032\n",
      "Epoch 94/100\n",
      "11/11 [==============================] - 0s 3ms/step - loss: 0.1987 - accuracy: 0.9857 - val_loss: 0.2741 - val_accuracy: 0.9355\n",
      "Epoch 95/100\n",
      "11/11 [==============================] - 0s 3ms/step - loss: 0.1963 - accuracy: 0.9799 - val_loss: 0.2708 - val_accuracy: 0.9355\n",
      "Epoch 96/100\n",
      "11/11 [==============================] - 0s 3ms/step - loss: 0.1937 - accuracy: 0.9828 - val_loss: 0.2660 - val_accuracy: 0.9355\n",
      "Epoch 97/100\n",
      "11/11 [==============================] - 0s 3ms/step - loss: 0.1923 - accuracy: 0.9828 - val_loss: 0.2634 - val_accuracy: 0.9355\n",
      "Epoch 98/100\n",
      "11/11 [==============================] - 0s 3ms/step - loss: 0.1911 - accuracy: 0.9828 - val_loss: 0.2635 - val_accuracy: 0.9355\n",
      "Epoch 99/100\n",
      "11/11 [==============================] - 0s 3ms/step - loss: 0.1893 - accuracy: 0.9857 - val_loss: 0.2650 - val_accuracy: 0.9355\n",
      "Epoch 100/100\n",
      "11/11 [==============================] - 0s 3ms/step - loss: 0.1868 - accuracy: 0.9828 - val_loss: 0.2607 - val_accuracy: 0.9355\n"
     ]
    }
   ],
   "source": [
    "log = model.fit(X_train, y_train, epochs=100,validation_data=(X_test, y_test))"
   ]
  },
  {
   "cell_type": "markdown",
   "id": "d15cecdc",
   "metadata": {},
   "source": [
    "Looks much better, right? As before, we can display the training process:"
   ]
  },
  {
   "cell_type": "code",
   "execution_count": 57,
   "id": "b19e927c",
   "metadata": {},
   "outputs": [
    {
     "data": {
      "image/png": "[encoded data removed]",
      "text/plain": [
       "<Figure size 432x288 with 1 Axes>"
      ]
     },
     "metadata": {
      "needs_background": "light"
     },
     "output_type": "display_data"
    }
   ],
   "source": [
    "plt.plot(log.history['accuracy'],label = \"training accuracy\")\n",
    "plt.plot(log.history['val_accuracy'], label = \"testing accuracy\")\n",
    "plt.legend()\n",
    "plt.show()"
   ]
  },
  {
   "cell_type": "markdown",
   "id": "98ba9e9e",
   "metadata": {},
   "source": [
    "# 4. Can you build on what you have seen? Creating a neural network for regression"
   ]
  },
  {
   "cell_type": "markdown",
   "id": "38524b01",
   "metadata": {},
   "source": [
    "We will now use a neural network for regression instead of classification. In particular, we will load a standard scikit-learn dataset that contains key characteristics of some houses in california, as well as their values (in $100,000). We will then try to predict the houses' values."
   ]
  },
  {
   "cell_type": "code",
   "execution_count": 58,
   "id": "2aacb91d",
   "metadata": {},
   "outputs": [],
   "source": [
    "from sklearn.datasets import fetch_california_housing\n",
    "from sklearn.preprocessing import StandardScaler"
   ]
  },
  {
   "cell_type": "code",
   "execution_count": 59,
   "id": "773f46c0",
   "metadata": {},
   "outputs": [],
   "source": [
    "housing = fetch_california_housing()"
   ]
  },
  {
   "cell_type": "markdown",
   "id": "acb1fb09",
   "metadata": {},
   "source": [
    "The housing data comes as a dictionary: We can find the features of the data as follows:"
   ]
  },
  {
   "cell_type": "code",
   "execution_count": 60,
   "id": "8c1b83ef",
   "metadata": {},
   "outputs": [
    {
     "data": {
      "text/plain": [
       "['MedInc',\n",
       " 'HouseAge',\n",
       " 'AveRooms',\n",
       " 'AveBedrms',\n",
       " 'Population',\n",
       " 'AveOccup',\n",
       " 'Latitude',\n",
       " 'Longitude']"
      ]
     },
     "execution_count": 60,
     "metadata": {},
     "output_type": "execute_result"
    }
   ],
   "source": [
    "housing['feature_names']"
   ]
  },
  {
   "cell_type": "markdown",
   "id": "99fec7d8",
   "metadata": {},
   "source": [
    "The actual observations (or, more precisely, the feature matrix `X`) comes with the key `'data'`:"
   ]
  },
  {
   "cell_type": "code",
   "execution_count": 61,
   "id": "557acbd6",
   "metadata": {},
   "outputs": [
    {
     "data": {
      "text/plain": [
       "(20640, 8)"
      ]
     },
     "execution_count": 61,
     "metadata": {},
     "output_type": "execute_result"
    }
   ],
   "source": [
    "housing['data'].shape"
   ]
  },
  {
   "cell_type": "markdown",
   "id": "990ae1bd",
   "metadata": {},
   "source": [
    "The labels come with the key `'target'`:"
   ]
  },
  {
   "cell_type": "code",
   "execution_count": 62,
   "id": "8211122b",
   "metadata": {},
   "outputs": [
    {
     "data": {
      "text/plain": [
       "(20640,)"
      ]
     },
     "execution_count": 62,
     "metadata": {},
     "output_type": "execute_result"
    }
   ],
   "source": [
    "housing['target'].shape"
   ]
  },
  {
   "cell_type": "markdown",
   "id": "17d43b4b",
   "metadata": {},
   "source": [
    "As always, we start by splitting the data. We will use a training, a validation, and a testing set:"
   ]
  },
  {
   "cell_type": "code",
   "execution_count": 63,
   "id": "23bcb1ab",
   "metadata": {},
   "outputs": [
    {
     "name": "stdout",
     "output_type": "stream",
     "text": [
      "(14447, 8)\n",
      "(3097, 8)\n",
      "(3096, 8)\n"
     ]
    }
   ],
   "source": [
    "X_train, X_other, y_train, y_other = train_test_split(housing['data'], housing['target'], train_size=0.7, random_state=461)\n",
    "X_test, X_valid, y_test, y_valid = train_test_split(X_other, y_other, train_size = 0.5, random_state=391)\n",
    "print(X_train.shape)\n",
    "print(X_valid.shape)\n",
    "print(X_test.shape)"
   ]
  },
  {
   "cell_type": "markdown",
   "id": "8b0b7d3f",
   "metadata": {},
   "source": [
    "Next, we normalize the X-data. Keep in mind to not use the validation or test data in defining how the scaling process works (otherwise, you can leak information about this data into your training process). You can, however, use the same scaler on validation and test data, rather than defining your own scalers here - this will usually work better than normalizing all data independently:"
   ]
  },
  {
   "cell_type": "code",
   "execution_count": 64,
   "id": "11d5e817",
   "metadata": {},
   "outputs": [],
   "source": [
    "scaler = StandardScaler()\n",
    "X_train = scaler.fit_transform(X_train)\n",
    "X_valid = scaler.transform(X_valid)\n",
    "X_test = scaler.transform(X_test)"
   ]
  },
  {
   "cell_type": "markdown",
   "id": "724ad403",
   "metadata": {},
   "source": [
    "## 4.1 Building a neural network"
   ]
  },
  {
   "cell_type": "markdown",
   "id": "df214576",
   "metadata": {},
   "source": [
    "Let's clear our TensorFlow session and set new seeds. Even if not strictly necessary, this is good practice."
   ]
  },
  {
   "cell_type": "code",
   "execution_count": 65,
   "id": "5d85d8c1",
   "metadata": {},
   "outputs": [],
   "source": [
    "tf.keras.backend.clear_session()\n",
    "np.random.seed(231)\n",
    "tf.random.set_seed(631)"
   ]
  },
  {
   "cell_type": "markdown",
   "id": "7b6395f9",
   "metadata": {},
   "source": [
    "Now it's your turn! Build a neural network with three `Dense` layers: two hidden layers with `'relu'` activation, and one final output layer. The hidden layers should have 10 neurons each. For the first hidden layer, you have to specify the correct `input_shape`. Recall that this corresponds to the columns in our X-data. But make sure that `input_shape` is a list or a tuple, not just a single value, otherwise there will be an error.\n",
    "\n",
    "For the output layer, consider whether we need any activation function at all. Remember that a linear regression is just a weighted sum of inputs plus a bias (sounds familiar?)\n",
    "\n",
    "Save your model as `model`.\n",
    "\n",
    "If you are stuck, first take a look at the [documentation](https://www.tensorflow.org/api_docs/python/tf/keras/layers/Dense) of the `Dense` layers."
   ]
  },
  {
   "cell_type": "code",
   "execution_count": 66,
   "id": "c9637d6e",
   "metadata": {},
   "outputs": [],
   "source": [
    "model = tf.keras.models.Sequential([\n",
    "    tf.keras.layers.Dense(10, activation=\"relu\", input_shape=X_train.shape[1:]),\n",
    "    tf.keras.layers.Dense(10, activation=\"relu\"),\n",
    "    tf.keras.layers.Dense(1)\n",
    "])"
   ]
  },
  {
   "cell_type": "markdown",
   "id": "49312a01",
   "metadata": {},
   "source": [
    "As always, it helps to visualize your model with the `summary()` function:"
   ]
  },
  {
   "cell_type": "code",
   "execution_count": 67,
   "id": "efa065c4",
   "metadata": {},
   "outputs": [
    {
     "name": "stdout",
     "output_type": "stream",
     "text": [
      "Model: \"sequential\"\n",
      "_________________________________________________________________\n",
      " Layer (type)                Output Shape              Param #   \n",
      "=================================================================\n",
      " dense (Dense)               (None, 10)                90        \n",
      "                                                                 \n",
      " dense_1 (Dense)             (None, 10)                110       \n",
      "                                                                 \n",
      " dense_2 (Dense)             (None, 1)                 11        \n",
      "                                                                 \n",
      "=================================================================\n",
      "Total params: 211\n",
      "Trainable params: 211\n",
      "Non-trainable params: 0\n",
      "_________________________________________________________________\n"
     ]
    }
   ],
   "source": [
    "model.summary()"
   ]
  },
  {
   "cell_type": "markdown",
   "id": "2be969bd",
   "metadata": {},
   "source": [
    "As before, try to answer the following questions:\n",
    "- Do the shapes make sense to you?\n",
    "- Can you account for the number of parameters?"
   ]
  },
  {
   "cell_type": "markdown",
   "id": "27cc7344",
   "metadata": {},
   "source": [
    "Now, compile your model. We are doing regression, so it is quite natural to use `'mean_squared_error'` as the loss function.\n",
    "\n",
    "Moreover, we will us `'sgd'` as before. However, instead of specifying `optimizer = 'sgd'`, we will make a custom optimizer function, which allows us to choose our own learning rate. In particular, you should use\n",
    "```\n",
    "optimizer=tf.keras.optimizers.SGD(learning_rate=0.03))\n",
    "```\n",
    "\n",
    "Finally, since we are not doing classification, there is no accuracy to keep track of, so simply leave out the `metrics` argument."
   ]
  },
  {
   "cell_type": "code",
   "execution_count": 68,
   "id": "275d60f6",
   "metadata": {},
   "outputs": [],
   "source": [
    "model.compile(loss=\"mean_squared_error\",\n",
    "              optimizer=tf.keras.optimizers.SGD(learning_rate=0.03))"
   ]
  },
  {
   "cell_type": "markdown",
   "id": "a1356000",
   "metadata": {},
   "source": [
    "Train your model for 30 epochs, also keeping track of the `validation_data`. Save the output as `log`."
   ]
  },
  {
   "cell_type": "code",
   "execution_count": 69,
   "id": "bf352b4c",
   "metadata": {},
   "outputs": [
    {
     "name": "stdout",
     "output_type": "stream",
     "text": [
      "Epoch 1/30\n",
      "452/452 [==============================] - 0s 721us/step - loss: 0.6704 - val_loss: 0.4247\n",
      "Epoch 2/30\n",
      "452/452 [==============================] - 0s 621us/step - loss: 0.4275 - val_loss: 0.4333\n",
      "Epoch 3/30\n",
      "452/452 [==============================] - 0s 614us/step - loss: 0.4005 - val_loss: 0.4046\n",
      "Epoch 4/30\n",
      "452/452 [==============================] - 0s 603us/step - loss: 0.3867 - val_loss: 0.3848\n",
      "Epoch 5/30\n",
      "452/452 [==============================] - 0s 601us/step - loss: 0.3736 - val_loss: 0.4529\n",
      "Epoch 6/30\n",
      "452/452 [==============================] - 0s 610us/step - loss: 0.3671 - val_loss: 0.3698\n",
      "Epoch 7/30\n",
      "452/452 [==============================] - 0s 599us/step - loss: 0.3586 - val_loss: 0.3675\n",
      "Epoch 8/30\n",
      "452/452 [==============================] - 0s 599us/step - loss: 0.3526 - val_loss: 0.3632\n",
      "Epoch 9/30\n",
      "452/452 [==============================] - 0s 594us/step - loss: 0.3475 - val_loss: 0.3605\n",
      "Epoch 10/30\n",
      "452/452 [==============================] - 0s 590us/step - loss: 0.3393 - val_loss: 0.3705\n",
      "Epoch 11/30\n",
      "452/452 [==============================] - 0s 619us/step - loss: 0.3328 - val_loss: 0.3429\n",
      "Epoch 12/30\n",
      "452/452 [==============================] - 0s 603us/step - loss: 0.3291 - val_loss: 0.3346\n",
      "Epoch 13/30\n",
      "452/452 [==============================] - 0s 608us/step - loss: 0.3222 - val_loss: 0.3333\n",
      "Epoch 14/30\n",
      "452/452 [==============================] - 0s 597us/step - loss: 0.3238 - val_loss: 0.3327\n",
      "Epoch 15/30\n",
      "452/452 [==============================] - 0s 601us/step - loss: 0.3190 - val_loss: 0.3304\n",
      "Epoch 16/30\n",
      "452/452 [==============================] - 0s 634us/step - loss: 0.3138 - val_loss: 0.3220\n",
      "Epoch 17/30\n",
      "452/452 [==============================] - 0s 605us/step - loss: 0.3130 - val_loss: 0.3298\n",
      "Epoch 18/30\n",
      "452/452 [==============================] - 0s 603us/step - loss: 0.3116 - val_loss: 0.3192\n",
      "Epoch 19/30\n",
      "452/452 [==============================] - 0s 610us/step - loss: 0.3095 - val_loss: 0.3346\n",
      "Epoch 20/30\n",
      "452/452 [==============================] - 0s 603us/step - loss: 0.3090 - val_loss: 0.3168\n",
      "Epoch 21/30\n",
      "452/452 [==============================] - 0s 588us/step - loss: 0.3072 - val_loss: 0.3147\n",
      "Epoch 22/30\n",
      "452/452 [==============================] - 0s 596us/step - loss: 0.3082 - val_loss: 0.3266\n",
      "Epoch 23/30\n",
      "452/452 [==============================] - 0s 601us/step - loss: 0.3041 - val_loss: 0.3354\n",
      "Epoch 24/30\n",
      "452/452 [==============================] - 0s 621us/step - loss: 0.3023 - val_loss: 0.3082\n",
      "Epoch 25/30\n",
      "452/452 [==============================] - 0s 605us/step - loss: 0.3035 - val_loss: 0.3425\n",
      "Epoch 26/30\n",
      "452/452 [==============================] - 0s 605us/step - loss: 0.3015 - val_loss: 0.3439\n",
      "Epoch 27/30\n",
      "452/452 [==============================] - 0s 585us/step - loss: 0.3036 - val_loss: 0.3117\n",
      "Epoch 28/30\n",
      "452/452 [==============================] - 0s 590us/step - loss: 0.3011 - val_loss: 0.3222\n",
      "Epoch 29/30\n",
      "452/452 [==============================] - 0s 585us/step - loss: 0.2975 - val_loss: 0.3174\n",
      "Epoch 30/30\n",
      "452/452 [==============================] - 0s 594us/step - loss: 0.2983 - val_loss: 0.3357\n"
     ]
    }
   ],
   "source": [
    "log = model.fit(X_train, y_train, epochs=30, validation_data=(X_valid, y_valid))"
   ]
  },
  {
   "cell_type": "markdown",
   "id": "7690934d",
   "metadata": {},
   "source": [
    "Use the code below to display the loss on both the training and the validation set:"
   ]
  },
  {
   "cell_type": "code",
   "execution_count": 70,
   "id": "bc1d43aa",
   "metadata": {},
   "outputs": [
    {
     "data": {
      "image/png": "[encoded data removed]",
      "text/plain": [
       "<Figure size 432x288 with 1 Axes>"
      ]
     },
     "metadata": {
      "needs_background": "light"
     },
     "output_type": "display_data"
    }
   ],
   "source": [
    "plt.plot(log.history['loss'],label = \"training loss\")\n",
    "plt.plot(log.history['val_loss'], label = \"validation loss\")\n",
    "plt.legend()\n",
    "plt.show()"
   ]
  },
  {
   "cell_type": "markdown",
   "id": "46c7a0ba",
   "metadata": {},
   "source": [
    "We can evaluate the model on the test set directly, using `model.evaluate(X_test,y_test)`. Try it out:"
   ]
  },
  {
   "cell_type": "code",
   "execution_count": 71,
   "id": "fa3dc64e",
   "metadata": {
    "scrolled": true
   },
   "outputs": [
    {
     "name": "stdout",
     "output_type": "stream",
     "text": [
      "97/97 [==============================] - 0s 448us/step - loss: 0.3595\n"
     ]
    },
    {
     "data": {
      "text/plain": [
       "0.3594611585140228"
      ]
     },
     "execution_count": 71,
     "metadata": {},
     "output_type": "execute_result"
    }
   ],
   "source": [
    "model.evaluate(X_test, y_test)"
   ]
  },
  {
   "cell_type": "markdown",
   "id": "2360f4d6",
   "metadata": {},
   "source": [
    "Finally, we can take a look at some examples and see how well we are doing on those. Run the code below, and feel free to adjust the examples."
   ]
  },
  {
   "cell_type": "code",
   "execution_count": 72,
   "id": "87250279",
   "metadata": {},
   "outputs": [],
   "source": [
    "X_new = X_test[:5]\n",
    "y_predict = model.predict(X_new)\n",
    "y_predict = y_predict.reshape(-1,)\n",
    "y_predict = [round(y,3) for y in y_predict]"
   ]
  },
  {
   "cell_type": "code",
   "execution_count": 73,
   "id": "3896ab2a",
   "metadata": {},
   "outputs": [
    {
     "name": "stdout",
     "output_type": "stream",
     "text": [
      "Predicted values: [1.24, 3.224, 0.721, 1.544, 1.528]\n",
      "True values: [1.135 4.292 0.699 1.222 1.75 ]\n"
     ]
    }
   ],
   "source": [
    "print(\"Predicted values: \" + str(y_predict))\n",
    "print(\"True values: \" + str(y_test[:5]))"
   ]
  },
  {
   "cell_type": "markdown",
   "id": "36adc085",
   "metadata": {},
   "source": [
    "Can you do better? Try tweaking the learning rate, the number of layers, and the neurons per layer to see if your validation loss improves. Once you have decided on your final model, evaluate it on the test set and note down your loss there."
   ]
  },
  {
   "cell_type": "markdown",
   "id": "4e1103ea",
   "metadata": {},
   "source": [
    "## 4.2 Visualization with TensorBoard"
   ]
  },
  {
   "cell_type": "markdown",
   "id": "1be76b9a",
   "metadata": {},
   "source": [
    "We will now see how we can use TensorBoard to get more in-depth visualizations of our training process and our model. Let's start by cleaning up and making some additional imports:"
   ]
  },
  {
   "cell_type": "code",
   "execution_count": 74,
   "id": "a32f7dd5",
   "metadata": {},
   "outputs": [],
   "source": [
    "tf.keras.backend.clear_session()\n",
    "np.random.seed(231)\n",
    "tf.random.set_seed(631)"
   ]
  },
  {
   "cell_type": "code",
   "execution_count": 75,
   "id": "05ccc522",
   "metadata": {},
   "outputs": [],
   "source": [
    "import os\n",
    "import datetime"
   ]
  },
  {
   "cell_type": "markdown",
   "id": "7a643f9f",
   "metadata": {},
   "source": [
    "We can now load TensorBoard into the Jupyter Notebook and specify where the relevant logs should be kept that are needed to visualize the training process:"
   ]
  },
  {
   "cell_type": "code",
   "execution_count": 76,
   "id": "c194140c",
   "metadata": {},
   "outputs": [],
   "source": [
    "%load_ext tensorboard\n",
    "logdir = os.path.join(\"logs\", datetime.datetime.now().strftime(\"%Y%m%d-%H%M%S\"))"
   ]
  },
  {
   "cell_type": "markdown",
   "id": "735e1874",
   "metadata": {},
   "source": [
    "We build the same baseline model as before:"
   ]
  },
  {
   "cell_type": "code",
   "execution_count": 77,
   "id": "9ac06e72",
   "metadata": {},
   "outputs": [],
   "source": [
    "model = tf.keras.models.Sequential([\n",
    "    tf.keras.layers.Dense(10, activation=\"relu\", input_shape=X_train.shape[1:]),\n",
    "    tf.keras.layers.Dense(10, activation=\"relu\"),\n",
    "    tf.keras.layers.Dense(1)\n",
    "])\n",
    "model.compile(loss=\"mean_squared_error\",\n",
    "              optimizer=tf.keras.optimizers.SGD(learning_rate=0.03))"
   ]
  },
  {
   "cell_type": "markdown",
   "id": "6af3b200",
   "metadata": {},
   "source": [
    "We train our model as before, but we add a so-called `callback`. There are many types of callbacks, and you will discover some of them later, but TensorBoard brings its very own one.\n",
    "\n",
    "Note that we are defining a list of `callbacks`, but for now, we keep it at a single one:"
   ]
  },
  {
   "cell_type": "code",
   "execution_count": 78,
   "id": "6596355e",
   "metadata": {},
   "outputs": [
    {
     "name": "stdout",
     "output_type": "stream",
     "text": [
      "Epoch 1/30\n",
      "452/452 [==============================] - 1s 741us/step - loss: 0.6704 - val_loss: 0.4247\n",
      "Epoch 2/30\n",
      "452/452 [==============================] - 0s 599us/step - loss: 0.4275 - val_loss: 0.4333\n",
      "Epoch 3/30\n",
      "452/452 [==============================] - 0s 623us/step - loss: 0.4005 - val_loss: 0.4046\n",
      "Epoch 4/30\n",
      "452/452 [==============================] - 0s 628us/step - loss: 0.3867 - val_loss: 0.3848\n",
      "Epoch 5/30\n",
      "452/452 [==============================] - 0s 654us/step - loss: 0.3736 - val_loss: 0.4529\n",
      "Epoch 6/30\n",
      "452/452 [==============================] - 0s 645us/step - loss: 0.3671 - val_loss: 0.3698\n",
      "Epoch 7/30\n",
      "452/452 [==============================] - 0s 605us/step - loss: 0.3586 - val_loss: 0.3675\n",
      "Epoch 8/30\n",
      "452/452 [==============================] - 0s 607us/step - loss: 0.3526 - val_loss: 0.3632\n",
      "Epoch 9/30\n",
      "452/452 [==============================] - 0s 605us/step - loss: 0.3475 - val_loss: 0.3605\n",
      "Epoch 10/30\n",
      "452/452 [==============================] - 0s 617us/step - loss: 0.3393 - val_loss: 0.3705\n",
      "Epoch 11/30\n",
      "452/452 [==============================] - 0s 617us/step - loss: 0.3328 - val_loss: 0.3429\n",
      "Epoch 12/30\n",
      "452/452 [==============================] - 0s 612us/step - loss: 0.3291 - val_loss: 0.3346\n",
      "Epoch 13/30\n",
      "452/452 [==============================] - 0s 594us/step - loss: 0.3222 - val_loss: 0.3333\n",
      "Epoch 14/30\n",
      "452/452 [==============================] - 0s 619us/step - loss: 0.3238 - val_loss: 0.3327\n",
      "Epoch 15/30\n",
      "452/452 [==============================] - 0s 637us/step - loss: 0.3190 - val_loss: 0.3304\n",
      "Epoch 16/30\n",
      "452/452 [==============================] - 0s 656us/step - loss: 0.3138 - val_loss: 0.3220\n",
      "Epoch 17/30\n",
      "452/452 [==============================] - 0s 619us/step - loss: 0.3130 - val_loss: 0.3298\n",
      "Epoch 18/30\n",
      "452/452 [==============================] - 0s 594us/step - loss: 0.3116 - val_loss: 0.3192\n",
      "Epoch 19/30\n",
      "452/452 [==============================] - 0s 612us/step - loss: 0.3095 - val_loss: 0.3346\n",
      "Epoch 20/30\n",
      "452/452 [==============================] - 0s 590us/step - loss: 0.3090 - val_loss: 0.3168\n",
      "Epoch 21/30\n",
      "452/452 [==============================] - 0s 623us/step - loss: 0.3072 - val_loss: 0.3147\n",
      "Epoch 22/30\n",
      "452/452 [==============================] - 0s 614us/step - loss: 0.3082 - val_loss: 0.3266\n",
      "Epoch 23/30\n",
      "452/452 [==============================] - 0s 603us/step - loss: 0.3041 - val_loss: 0.3354\n",
      "Epoch 24/30\n",
      "452/452 [==============================] - 0s 579us/step - loss: 0.3023 - val_loss: 0.3082\n",
      "Epoch 25/30\n",
      "452/452 [==============================] - 0s 581us/step - loss: 0.3035 - val_loss: 0.3425\n",
      "Epoch 26/30\n",
      "452/452 [==============================] - 0s 606us/step - loss: 0.3015 - val_loss: 0.3439\n",
      "Epoch 27/30\n",
      "452/452 [==============================] - 0s 592us/step - loss: 0.3036 - val_loss: 0.3117\n",
      "Epoch 28/30\n",
      "452/452 [==============================] - 0s 599us/step - loss: 0.3011 - val_loss: 0.3222\n",
      "Epoch 29/30\n",
      "452/452 [==============================] - 0s 590us/step - loss: 0.2975 - val_loss: 0.3174\n",
      "Epoch 30/30\n",
      "452/452 [==============================] - 0s 579us/step - loss: 0.2983 - val_loss: 0.3357\n"
     ]
    }
   ],
   "source": [
    "tensorboard_cb = tf.keras.callbacks.TensorBoard(logdir)\n",
    "history = model.fit(X_train, y_train, epochs=30,\n",
    "                    validation_data=(X_valid, y_valid),\n",
    "                    callbacks=[tensorboard_cb])"
   ]
  },
  {
   "cell_type": "markdown",
   "id": "d62ed3a2",
   "metadata": {},
   "source": [
    "In the training process, nothing has chaged, except that you will now find a log in your working directory. We can call upon that log to display the TensorBoard as follows (if you get an error, keep reading below)"
   ]
  },
  {
   "cell_type": "code",
   "execution_count": 79,
   "id": "447420cb",
   "metadata": {},
   "outputs": [
    {
     "data": {
      "text/html": [
       "\n",
       "      <iframe id=\"tensorboard-frame-20b99f8f8ea915aa\" width=\"100%\" height=\"800\" frameborder=\"0\">\n",
       "      </iframe>\n",
       "      <script>\n",
       "        (function() {\n",
       "          const frame = document.getElementById(\"tensorboard-frame-20b99f8f8ea915aa\");\n",
       "          const url = new URL(\"/\", window.location);\n",
       "          const port = 6006;\n",
       "          if (port) {\n",
       "            url.port = port;\n",
       "          }\n",
       "          frame.src = url;\n",
       "        })();\n",
       "      </script>\n",
       "    "
      ],
      "text/plain": [
       "<IPython.core.display.HTML object>"
      ]
     },
     "metadata": {},
     "output_type": "display_data"
    }
   ],
   "source": [
    "%tensorboard --logdir logs"
   ]
  },
  {
   "cell_type": "markdown",
   "id": "58461dac",
   "metadata": {},
   "source": [
    "You may run into an issue here because of a conflict between TensorBoard and the environment you are using. If this is the case, you need to specify exactly where TensorBoard can be found. It should be within your environment's folder, under \"bin\". You can find an example below. Uncomment the next lines and adjust your path accordingly:"
   ]
  },
  {
   "cell_type": "code",
   "execution_count": 80,
   "id": "f2eabd3d",
   "metadata": {},
   "outputs": [],
   "source": [
    "# os.environ['TENSORBOARD_BINARY'] = '/Users/philippe/anaconda3/envs/adl_env/bin/tensorboard'\n",
    "# %tensorboard --logdir logs"
   ]
  },
  {
   "cell_type": "markdown",
   "id": "430f03a1",
   "metadata": {},
   "source": [
    "Enjoy exploring the TensorBoard. We will see later that we can still add a lot more functionality to it. It is particularly nice for comparing different models."
   ]
  },
  {
   "cell_type": "markdown",
   "id": "42cb27bd",
   "metadata": {},
   "source": [
    "## 4.3 Saving and loading models"
   ]
  },
  {
   "cell_type": "markdown",
   "id": "86a2294d",
   "metadata": {},
   "source": [
    "Sometimes, we need to save our models, instead of training them from scratch (training deep neural networks can take quite some time!) TensorFlow enables this quite easily, for example with the following code. Once you have saved the model, check your working directory and you will find it there (as an \"h5\" file)."
   ]
  },
  {
   "cell_type": "code",
   "execution_count": 81,
   "id": "740ced5f",
   "metadata": {},
   "outputs": [],
   "source": [
    "model.save(\"my_tf_regression_model.h5\")"
   ]
  },
  {
   "cell_type": "markdown",
   "id": "9848128e",
   "metadata": {},
   "source": [
    "We can now call up the (trained) model, just as easily:"
   ]
  },
  {
   "cell_type": "code",
   "execution_count": 82,
   "id": "3923909b",
   "metadata": {},
   "outputs": [],
   "source": [
    "saved_model = tf.keras.models.load_model(\"my_tf_regression_model.h5\")"
   ]
  },
  {
   "cell_type": "markdown",
   "id": "17dcc521",
   "metadata": {},
   "source": [
    "Verify that this is the trained model by running the predictions on it. You should get the same result as with the original model:"
   ]
  },
  {
   "cell_type": "code",
   "execution_count": 83,
   "id": "8479c123",
   "metadata": {},
   "outputs": [
    {
     "name": "stdout",
     "output_type": "stream",
     "text": [
      "Predicted values: [1.24, 3.224, 0.721, 1.544, 1.528]\n",
      "True values: [1.135 4.292 0.699 1.222 1.75 ]\n"
     ]
    }
   ],
   "source": [
    "X_new = X_test[:5]\n",
    "y_predict = saved_model.predict(X_new)\n",
    "y_predict = y_predict.reshape(-1,)\n",
    "y_predict = [round(y,3) for y in y_predict]\n",
    "print(\"Predicted values: \" + str(y_predict))\n",
    "print(\"True values: \" + str(y_test[:5]))"
   ]
  },
  {
   "cell_type": "markdown",
   "id": "bb281e75",
   "metadata": {},
   "source": [
    "Sometimes, you might want to save only the parameters of the model, not the entire model. Again, TensorFlow allows us to save and load the parameters quite easily:"
   ]
  },
  {
   "cell_type": "code",
   "execution_count": 84,
   "id": "c1108b16",
   "metadata": {},
   "outputs": [],
   "source": [
    "model.save_weights(\"my_tf_regression_weights.ckpt\")"
   ]
  },
  {
   "cell_type": "code",
   "execution_count": 85,
   "id": "85e09f45",
   "metadata": {},
   "outputs": [
    {
     "data": {
      "text/plain": [
       "<tensorflow.python.training.tracking.util.CheckpointLoadStatus at 0x2de0a13f280>"
      ]
     },
     "execution_count": 85,
     "metadata": {},
     "output_type": "execute_result"
    }
   ],
   "source": [
    "model.load_weights(\"my_tf_regression_weights.ckpt\")"
   ]
  },
  {
   "cell_type": "markdown",
   "id": "a9ab8525",
   "metadata": {},
   "source": [
    "## 4.4 Callbacks"
   ]
  },
  {
   "cell_type": "markdown",
   "id": "e212993f",
   "metadata": {},
   "source": [
    "When using TensorBoard, we already saw a Callback in action. We will now get back to those, more generally. The idea is, that you might want to \"do stuff\" while training your model (for example, saving your current progress, in case your computer crashes). We start by defining our model:"
   ]
  },
  {
   "cell_type": "code",
   "execution_count": 86,
   "id": "7c319f1e",
   "metadata": {},
   "outputs": [],
   "source": [
    "tf.keras.backend.clear_session()\n",
    "np.random.seed(231)\n",
    "tf.random.set_seed(631)"
   ]
  },
  {
   "cell_type": "code",
   "execution_count": 87,
   "id": "89fbba82",
   "metadata": {},
   "outputs": [],
   "source": [
    "model = tf.keras.models.Sequential([\n",
    "    tf.keras.layers.Dense(10, activation=\"relu\", input_shape=X_train.shape[1:]),\n",
    "    tf.keras.layers.Dense(10, activation=\"relu\"),\n",
    "    tf.keras.layers.Dense(1)\n",
    "])\n",
    "model.compile(loss=\"mean_squared_error\",\n",
    "              optimizer=tf.keras.optimizers.SGD(learning_rate=0.03))"
   ]
  },
  {
   "cell_type": "markdown",
   "id": "8935efa0",
   "metadata": {},
   "source": [
    "Let's now create a `ModelCheckpoint`, which is a call-back that saves your model in each iteration (epoch) of training. That is, whatever you might do later on with your model, you can always get back to the trained version.\n",
    "\n",
    "In your checkpoint, you will need to specify how the model should be saved as. Moreover, if you are using `validation_data` when training your model, you can also specify `save_best_only=True`. This means, that the callback looks at your validation_loss, and only saves the model at its current state if the validation loss is better (i.e. lower) than the one in the previous saved version. Quite useful, right?"
   ]
  },
  {
   "cell_type": "code",
   "execution_count": 88,
   "id": "443be9ee",
   "metadata": {},
   "outputs": [],
   "source": [
    "checkpoint_cb = tf.keras.callbacks.ModelCheckpoint(\"my_best_tf_regression_model.h5\", save_best_only=True)"
   ]
  },
  {
   "cell_type": "markdown",
   "id": "705d9c12",
   "metadata": {},
   "source": [
    "Once we have generated the callback, we add it to our callback list in training, as we did for TensorBoard. Nothing else changes:"
   ]
  },
  {
   "cell_type": "code",
   "execution_count": 89,
   "id": "244eab26",
   "metadata": {
    "scrolled": true
   },
   "outputs": [
    {
     "name": "stdout",
     "output_type": "stream",
     "text": [
      "Epoch 1/30\n",
      "452/452 [==============================] - 1s 796us/step - loss: 0.6704 - val_loss: 0.4247\n",
      "Epoch 2/30\n",
      "452/452 [==============================] - 0s 630us/step - loss: 0.4275 - val_loss: 0.4333\n",
      "Epoch 3/30\n",
      "452/452 [==============================] - 0s 654us/step - loss: 0.4005 - val_loss: 0.4046\n",
      "Epoch 4/30\n",
      "452/452 [==============================] - 0s 662us/step - loss: 0.3867 - val_loss: 0.3848\n",
      "Epoch 5/30\n",
      "452/452 [==============================] - 0s 641us/step - loss: 0.3736 - val_loss: 0.4529\n",
      "Epoch 6/30\n",
      "452/452 [==============================] - 0s 692us/step - loss: 0.3671 - val_loss: 0.3698\n",
      "Epoch 7/30\n",
      "452/452 [==============================] - 0s 637us/step - loss: 0.3586 - val_loss: 0.3675\n",
      "Epoch 8/30\n",
      "452/452 [==============================] - 0s 641us/step - loss: 0.3526 - val_loss: 0.3632\n",
      "Epoch 9/30\n",
      "452/452 [==============================] - 0s 639us/step - loss: 0.3475 - val_loss: 0.3605\n",
      "Epoch 10/30\n",
      "452/452 [==============================] - 0s 628us/step - loss: 0.3393 - val_loss: 0.3705\n",
      "Epoch 11/30\n",
      "452/452 [==============================] - 0s 657us/step - loss: 0.3328 - val_loss: 0.3429\n",
      "Epoch 12/30\n",
      "452/452 [==============================] - 0s 648us/step - loss: 0.3291 - val_loss: 0.3346\n",
      "Epoch 13/30\n",
      "452/452 [==============================] - 0s 625us/step - loss: 0.3222 - val_loss: 0.3333\n",
      "Epoch 14/30\n",
      "452/452 [==============================] - 0s 683us/step - loss: 0.3238 - val_loss: 0.3327\n",
      "Epoch 15/30\n",
      "452/452 [==============================] - 0s 646us/step - loss: 0.3190 - val_loss: 0.3304\n",
      "Epoch 16/30\n",
      "452/452 [==============================] - 0s 643us/step - loss: 0.3138 - val_loss: 0.3220\n",
      "Epoch 17/30\n",
      "452/452 [==============================] - 0s 607us/step - loss: 0.3130 - val_loss: 0.3298\n",
      "Epoch 18/30\n",
      "452/452 [==============================] - 0s 659us/step - loss: 0.3116 - val_loss: 0.3192\n",
      "Epoch 19/30\n",
      "452/452 [==============================] - 0s 612us/step - loss: 0.3095 - val_loss: 0.3346\n",
      "Epoch 20/30\n",
      "452/452 [==============================] - 0s 638us/step - loss: 0.3090 - val_loss: 0.3168\n",
      "Epoch 21/30\n",
      "452/452 [==============================] - 0s 663us/step - loss: 0.3072 - val_loss: 0.3147\n",
      "Epoch 22/30\n",
      "452/452 [==============================] - 0s 625us/step - loss: 0.3082 - val_loss: 0.3266\n",
      "Epoch 23/30\n",
      "452/452 [==============================] - 0s 623us/step - loss: 0.3041 - val_loss: 0.3354\n",
      "Epoch 24/30\n",
      "452/452 [==============================] - 0s 657us/step - loss: 0.3023 - val_loss: 0.3082\n",
      "Epoch 25/30\n",
      "452/452 [==============================] - 0s 597us/step - loss: 0.3035 - val_loss: 0.3425\n",
      "Epoch 26/30\n",
      "452/452 [==============================] - 0s 605us/step - loss: 0.3015 - val_loss: 0.3439\n",
      "Epoch 27/30\n",
      "452/452 [==============================] - 0s 603us/step - loss: 0.3036 - val_loss: 0.3117\n",
      "Epoch 28/30\n",
      "452/452 [==============================] - 0s 603us/step - loss: 0.3011 - val_loss: 0.3222\n",
      "Epoch 29/30\n",
      "452/452 [==============================] - 0s 608us/step - loss: 0.2975 - val_loss: 0.3174\n",
      "Epoch 30/30\n",
      "452/452 [==============================] - 0s 610us/step - loss: 0.2983 - val_loss: 0.3357\n"
     ]
    }
   ],
   "source": [
    "history = model.fit(X_train, y_train, epochs=30,\n",
    "                    validation_data=(X_valid, y_valid),\n",
    "                    callbacks=[checkpoint_cb])"
   ]
  },
  {
   "cell_type": "markdown",
   "id": "09398045",
   "metadata": {},
   "source": [
    "You can now run `tf.keras.models.load_model(\"my_best_tf_regression_model.h5\")` to call up the version of your model that had the best validation loss.\n",
    "\n",
    "Another useful callback to try out (this is left to you) is the `EarlyStopping` callback, which stops the training process if the validation loss isn't improving anymore. You can call it as follows:\n",
    "```\n",
    "early_stopping_cb = tf.keras.callbacks.EarlyStopping(patience=10, restore_best_weights=True)\n",
    "```\n",
    "\n",
    "Here, `patience` defines the number of epochs which the callback waits for improvements before stopping the training. `restore_best_weights=True` means that, once training is stopped, you get the version of the model that led to the best validation loss, not the final version of the model."
   ]
  },
  {
   "cell_type": "markdown",
   "id": "4f5e7599",
   "metadata": {},
   "source": [
    "# 5. Multi-class classification with softmax"
   ]
  },
  {
   "cell_type": "markdown",
   "id": "f8f181f1",
   "metadata": {},
   "source": [
    "We will now see how to use a softmax activation function to classify observations into multiple classes. As always, we start by cleaning up:"
   ]
  },
  {
   "cell_type": "code",
   "execution_count": 90,
   "id": "11db922c",
   "metadata": {},
   "outputs": [],
   "source": [
    "tf.keras.backend.clear_session()\n",
    "np.random.seed(583)\n",
    "tf.random.set_seed(21)"
   ]
  },
  {
   "cell_type": "markdown",
   "id": "ee060f30",
   "metadata": {},
   "source": [
    "For this example, we will use the full digits dataset (recall that we had images of ten sign-language digits, with the corresponding one-hot-encoded labels). We will split the dataset into training, test and validation sets:"
   ]
  },
  {
   "cell_type": "code",
   "execution_count": 91,
   "id": "831efd8e",
   "metadata": {},
   "outputs": [
    {
     "name": "stdout",
     "output_type": "stream",
     "text": [
      "(1649, 64, 64)\n",
      "(1649, 10)\n",
      "(207, 64, 64)\n",
      "(207, 10)\n",
      "(206, 64, 64)\n",
      "(206, 10)\n"
     ]
    }
   ],
   "source": [
    "X = np.load('digits_X.npy')\n",
    "y = np.load('digits_y.npy')\n",
    "X_train, X_other, y_train, y_other = train_test_split(X, y, train_size=0.8, random_state=342)\n",
    "X_test, X_valid, y_test, y_valid = train_test_split(X_other, y_other, train_size = 0.5, random_state=152)\n",
    "print(X_train.shape)\n",
    "print(y_train.shape)\n",
    "print(X_valid.shape)\n",
    "print(y_valid.shape)\n",
    "print(X_test.shape)\n",
    "print(y_test.shape)"
   ]
  },
  {
   "cell_type": "markdown",
   "id": "88a573c8",
   "metadata": {},
   "source": [
    "We train a simple feed-forward network, with two hidden layers, plus the softmax layer. Remember also that we need to flatten the image-matrics:"
   ]
  },
  {
   "cell_type": "code",
   "execution_count": 92,
   "id": "01f7b545",
   "metadata": {},
   "outputs": [],
   "source": [
    "model = tf.keras.models.Sequential([\n",
    "    tf.keras.layers.Flatten(input_shape=(64, 64)),\n",
    "    tf.keras.layers.Dense(300, activation=\"relu\"),\n",
    "    tf.keras.layers.Dense(100, activation=\"relu\"),\n",
    "    tf.keras.layers.Dense(100, activation=\"relu\"),\n",
    "    tf.keras.layers.Dense(10, activation=\"softmax\"),\n",
    "])"
   ]
  },
  {
   "cell_type": "markdown",
   "id": "ab01c851",
   "metadata": {},
   "source": [
    "As always, it is useful to take a look at our model and try to spot any possible issues:"
   ]
  },
  {
   "cell_type": "code",
   "execution_count": 93,
   "id": "d6beaf19",
   "metadata": {},
   "outputs": [
    {
     "name": "stdout",
     "output_type": "stream",
     "text": [
      "Model: \"sequential\"\n",
      "_________________________________________________________________\n",
      " Layer (type)                Output Shape              Param #   \n",
      "=================================================================\n",
      " flatten (Flatten)           (None, 4096)              0         \n",
      "                                                                 \n",
      " dense (Dense)               (None, 300)               1229100   \n",
      "                                                                 \n",
      " dense_1 (Dense)             (None, 100)               30100     \n",
      "                                                                 \n",
      " dense_2 (Dense)             (None, 100)               10100     \n",
      "                                                                 \n",
      " dense_3 (Dense)             (None, 10)                1010      \n",
      "                                                                 \n",
      "=================================================================\n",
      "Total params: 1,270,310\n",
      "Trainable params: 1,270,310\n",
      "Non-trainable params: 0\n",
      "_________________________________________________________________\n"
     ]
    }
   ],
   "source": [
    "model.summary()"
   ]
  },
  {
   "cell_type": "markdown",
   "id": "5d487f12",
   "metadata": {},
   "source": [
    "We can then compile the model. For multiple categories, we will usually use the `categorical_crossentropy` loss (with some exceptions, one of which you will come across in this week's homework). We also use the `'adam'` optimization algorithm (with our self-defined learning rate), which we talk about in class next week. Otherwise, let's again keep track of `'accuracy'`:"
   ]
  },
  {
   "cell_type": "code",
   "execution_count": 94,
   "id": "ebe6d690",
   "metadata": {},
   "outputs": [],
   "source": [
    "model.compile(loss=\"categorical_crossentropy\",\n",
    "              optimizer=tf.keras.optimizers.Adam(learning_rate=0.001),\n",
    "              metrics=[\"accuracy\"])"
   ]
  },
  {
   "cell_type": "markdown",
   "id": "682f9215",
   "metadata": {},
   "source": [
    "We can now run the model, we will use 200 epochs for now:"
   ]
  },
  {
   "cell_type": "code",
   "execution_count": 95,
   "id": "e2ee802f",
   "metadata": {},
   "outputs": [
    {
     "name": "stdout",
     "output_type": "stream",
     "text": [
      "Epoch 1/100\n",
      "52/52 [==============================] - 1s 6ms/step - loss: 2.4375 - accuracy: 0.1255 - val_loss: 2.3256 - val_accuracy: 0.1159\n",
      "Epoch 2/100\n",
      "52/52 [==============================] - 0s 5ms/step - loss: 2.2631 - accuracy: 0.1631 - val_loss: 2.2127 - val_accuracy: 0.2126\n",
      "Epoch 3/100\n",
      "52/52 [==============================] - 0s 5ms/step - loss: 2.1182 - accuracy: 0.2462 - val_loss: 1.9482 - val_accuracy: 0.3527\n",
      "Epoch 4/100\n",
      "52/52 [==============================] - 0s 5ms/step - loss: 1.8722 - accuracy: 0.3354 - val_loss: 1.9026 - val_accuracy: 0.2995\n",
      "Epoch 5/100\n",
      "52/52 [==============================] - 0s 5ms/step - loss: 1.6693 - accuracy: 0.3814 - val_loss: 1.5524 - val_accuracy: 0.4010\n",
      "Epoch 6/100\n",
      "52/52 [==============================] - 0s 5ms/step - loss: 1.4877 - accuracy: 0.4603 - val_loss: 1.4556 - val_accuracy: 0.4976\n",
      "Epoch 7/100\n",
      "52/52 [==============================] - 0s 5ms/step - loss: 1.4758 - accuracy: 0.4536 - val_loss: 1.3541 - val_accuracy: 0.5362\n",
      "Epoch 8/100\n",
      "52/52 [==============================] - 0s 5ms/step - loss: 1.2681 - accuracy: 0.5458 - val_loss: 1.3736 - val_accuracy: 0.4976\n",
      "Epoch 9/100\n",
      "52/52 [==============================] - 0s 5ms/step - loss: 1.1758 - accuracy: 0.5804 - val_loss: 1.2082 - val_accuracy: 0.5749\n",
      "Epoch 10/100\n",
      "52/52 [==============================] - 0s 5ms/step - loss: 1.0997 - accuracy: 0.6210 - val_loss: 1.4726 - val_accuracy: 0.5024\n",
      "Epoch 11/100\n",
      "52/52 [==============================] - 0s 5ms/step - loss: 1.1261 - accuracy: 0.6016 - val_loss: 1.1773 - val_accuracy: 0.6087\n",
      "Epoch 12/100\n",
      "52/52 [==============================] - 0s 5ms/step - loss: 1.0198 - accuracy: 0.6646 - val_loss: 1.3796 - val_accuracy: 0.5459\n",
      "Epoch 13/100\n",
      "52/52 [==============================] - 0s 5ms/step - loss: 0.9999 - accuracy: 0.6598 - val_loss: 1.1361 - val_accuracy: 0.5797\n",
      "Epoch 14/100\n",
      "52/52 [==============================] - 0s 5ms/step - loss: 0.9925 - accuracy: 0.6489 - val_loss: 1.0815 - val_accuracy: 0.6329\n",
      "Epoch 15/100\n",
      "52/52 [==============================] - 0s 5ms/step - loss: 0.9066 - accuracy: 0.6944 - val_loss: 1.0824 - val_accuracy: 0.6232\n",
      "Epoch 16/100\n",
      "52/52 [==============================] - 0s 5ms/step - loss: 0.7701 - accuracy: 0.7544 - val_loss: 0.9113 - val_accuracy: 0.6763\n",
      "Epoch 17/100\n",
      "52/52 [==============================] - 0s 5ms/step - loss: 0.7269 - accuracy: 0.7611 - val_loss: 0.8557 - val_accuracy: 0.6812\n",
      "Epoch 18/100\n",
      "52/52 [==============================] - 0s 5ms/step - loss: 0.8438 - accuracy: 0.7010 - val_loss: 0.8773 - val_accuracy: 0.6908\n",
      "Epoch 19/100\n",
      "52/52 [==============================] - 0s 5ms/step - loss: 0.7697 - accuracy: 0.7459 - val_loss: 1.0144 - val_accuracy: 0.6667\n",
      "Epoch 20/100\n",
      "52/52 [==============================] - 0s 5ms/step - loss: 0.7626 - accuracy: 0.7465 - val_loss: 1.2840 - val_accuracy: 0.5556\n",
      "Epoch 21/100\n",
      "52/52 [==============================] - 0s 5ms/step - loss: 0.7687 - accuracy: 0.7320 - val_loss: 0.9405 - val_accuracy: 0.7005\n",
      "Epoch 22/100\n",
      "52/52 [==============================] - 0s 5ms/step - loss: 0.6499 - accuracy: 0.7762 - val_loss: 0.7613 - val_accuracy: 0.7343\n",
      "Epoch 23/100\n",
      "52/52 [==============================] - 0s 5ms/step - loss: 0.6223 - accuracy: 0.7932 - val_loss: 0.7330 - val_accuracy: 0.7488\n",
      "Epoch 24/100\n",
      "52/52 [==============================] - 0s 5ms/step - loss: 0.6116 - accuracy: 0.7908 - val_loss: 0.9227 - val_accuracy: 0.6860\n",
      "Epoch 25/100\n",
      "52/52 [==============================] - 0s 5ms/step - loss: 0.6126 - accuracy: 0.8053 - val_loss: 0.7034 - val_accuracy: 0.7343\n",
      "Epoch 26/100\n",
      "52/52 [==============================] - 0s 5ms/step - loss: 0.6467 - accuracy: 0.7865 - val_loss: 0.7913 - val_accuracy: 0.7343\n",
      "Epoch 27/100\n",
      "52/52 [==============================] - 0s 5ms/step - loss: 0.6050 - accuracy: 0.7962 - val_loss: 1.0098 - val_accuracy: 0.6618\n",
      "Epoch 28/100\n",
      "52/52 [==============================] - 0s 5ms/step - loss: 0.6334 - accuracy: 0.7878 - val_loss: 0.6659 - val_accuracy: 0.7536\n",
      "Epoch 29/100\n",
      "52/52 [==============================] - 0s 5ms/step - loss: 0.5965 - accuracy: 0.7914 - val_loss: 0.6400 - val_accuracy: 0.7681\n",
      "Epoch 30/100\n",
      "52/52 [==============================] - 0s 5ms/step - loss: 0.5303 - accuracy: 0.8247 - val_loss: 0.7130 - val_accuracy: 0.7585\n",
      "Epoch 31/100\n",
      "52/52 [==============================] - 0s 5ms/step - loss: 0.4894 - accuracy: 0.8320 - val_loss: 0.7773 - val_accuracy: 0.7585\n",
      "Epoch 32/100\n",
      "52/52 [==============================] - 0s 4ms/step - loss: 0.5220 - accuracy: 0.8284 - val_loss: 0.8122 - val_accuracy: 0.7343\n",
      "Epoch 33/100\n",
      "52/52 [==============================] - 0s 5ms/step - loss: 0.5597 - accuracy: 0.8102 - val_loss: 1.0686 - val_accuracy: 0.6232\n",
      "Epoch 34/100\n",
      "52/52 [==============================] - 0s 4ms/step - loss: 0.5857 - accuracy: 0.8126 - val_loss: 0.6689 - val_accuracy: 0.7536\n",
      "Epoch 35/100\n",
      "52/52 [==============================] - 0s 5ms/step - loss: 0.4794 - accuracy: 0.8351 - val_loss: 0.6926 - val_accuracy: 0.7536\n",
      "Epoch 36/100\n",
      "52/52 [==============================] - 0s 5ms/step - loss: 0.4373 - accuracy: 0.8466 - val_loss: 0.7173 - val_accuracy: 0.7536\n",
      "Epoch 37/100\n",
      "52/52 [==============================] - 0s 5ms/step - loss: 0.4698 - accuracy: 0.8435 - val_loss: 0.7344 - val_accuracy: 0.7633\n",
      "Epoch 38/100\n",
      "52/52 [==============================] - 0s 4ms/step - loss: 0.4430 - accuracy: 0.8441 - val_loss: 0.7856 - val_accuracy: 0.7585\n",
      "Epoch 39/100\n",
      "52/52 [==============================] - 0s 5ms/step - loss: 0.4199 - accuracy: 0.8526 - val_loss: 1.1150 - val_accuracy: 0.6667\n",
      "Epoch 40/100\n",
      "52/52 [==============================] - 0s 5ms/step - loss: 0.4173 - accuracy: 0.8611 - val_loss: 0.7714 - val_accuracy: 0.7729\n",
      "Epoch 41/100\n",
      "52/52 [==============================] - 0s 5ms/step - loss: 0.4993 - accuracy: 0.8241 - val_loss: 0.9246 - val_accuracy: 0.7005\n",
      "Epoch 42/100\n",
      "52/52 [==============================] - 0s 4ms/step - loss: 0.4552 - accuracy: 0.8296 - val_loss: 0.9080 - val_accuracy: 0.7005\n",
      "Epoch 43/100\n",
      "52/52 [==============================] - 0s 5ms/step - loss: 0.4636 - accuracy: 0.8387 - val_loss: 0.6697 - val_accuracy: 0.7874\n",
      "Epoch 44/100\n",
      "52/52 [==============================] - 0s 5ms/step - loss: 0.4160 - accuracy: 0.8581 - val_loss: 0.7882 - val_accuracy: 0.7440\n",
      "Epoch 45/100\n",
      "52/52 [==============================] - 0s 5ms/step - loss: 0.5237 - accuracy: 0.8065 - val_loss: 0.8276 - val_accuracy: 0.7150\n",
      "Epoch 46/100\n",
      "52/52 [==============================] - 0s 5ms/step - loss: 0.4451 - accuracy: 0.8478 - val_loss: 1.2454 - val_accuracy: 0.6280\n",
      "Epoch 47/100\n",
      "52/52 [==============================] - 0s 4ms/step - loss: 0.4017 - accuracy: 0.8593 - val_loss: 0.7703 - val_accuracy: 0.7826\n",
      "Epoch 48/100\n",
      "52/52 [==============================] - 0s 5ms/step - loss: 0.4634 - accuracy: 0.8381 - val_loss: 0.8154 - val_accuracy: 0.7295\n",
      "Epoch 49/100\n",
      "52/52 [==============================] - 0s 5ms/step - loss: 0.4076 - accuracy: 0.8532 - val_loss: 0.7723 - val_accuracy: 0.7488\n",
      "Epoch 50/100\n",
      "52/52 [==============================] - 0s 5ms/step - loss: 0.3216 - accuracy: 0.8908 - val_loss: 0.7877 - val_accuracy: 0.7585\n",
      "Epoch 51/100\n",
      "52/52 [==============================] - 0s 5ms/step - loss: 0.4371 - accuracy: 0.8502 - val_loss: 0.6197 - val_accuracy: 0.8068\n",
      "Epoch 52/100\n",
      "52/52 [==============================] - 0s 5ms/step - loss: 0.3941 - accuracy: 0.8617 - val_loss: 0.5950 - val_accuracy: 0.8164\n",
      "Epoch 53/100\n",
      "52/52 [==============================] - 0s 5ms/step - loss: 0.2897 - accuracy: 0.9012 - val_loss: 0.7069 - val_accuracy: 0.8116\n",
      "Epoch 54/100\n",
      "52/52 [==============================] - 0s 5ms/step - loss: 0.3814 - accuracy: 0.8751 - val_loss: 0.6665 - val_accuracy: 0.7826\n",
      "Epoch 55/100\n",
      "52/52 [==============================] - 0s 4ms/step - loss: 0.3735 - accuracy: 0.8702 - val_loss: 0.6535 - val_accuracy: 0.7923\n",
      "Epoch 56/100\n",
      "52/52 [==============================] - 0s 5ms/step - loss: 0.3841 - accuracy: 0.8678 - val_loss: 1.0747 - val_accuracy: 0.6957\n",
      "Epoch 57/100\n",
      "52/52 [==============================] - 0s 5ms/step - loss: 0.4601 - accuracy: 0.8363 - val_loss: 0.6679 - val_accuracy: 0.8068\n",
      "Epoch 58/100\n",
      "52/52 [==============================] - 0s 5ms/step - loss: 0.2861 - accuracy: 0.9012 - val_loss: 0.8304 - val_accuracy: 0.7778\n",
      "Epoch 59/100\n",
      "52/52 [==============================] - 0s 5ms/step - loss: 0.4323 - accuracy: 0.8448 - val_loss: 0.9242 - val_accuracy: 0.7005\n",
      "Epoch 60/100\n",
      "52/52 [==============================] - 0s 5ms/step - loss: 0.3512 - accuracy: 0.8854 - val_loss: 0.6590 - val_accuracy: 0.8019\n",
      "Epoch 61/100\n",
      "52/52 [==============================] - 0s 5ms/step - loss: 0.3022 - accuracy: 0.8933 - val_loss: 0.6013 - val_accuracy: 0.7778\n",
      "Epoch 62/100\n",
      "52/52 [==============================] - 0s 5ms/step - loss: 0.3221 - accuracy: 0.8866 - val_loss: 0.5880 - val_accuracy: 0.8068\n",
      "Epoch 63/100\n",
      "52/52 [==============================] - 0s 5ms/step - loss: 0.3352 - accuracy: 0.8817 - val_loss: 0.8846 - val_accuracy: 0.7536\n",
      "Epoch 64/100\n",
      "52/52 [==============================] - 0s 4ms/step - loss: 0.2525 - accuracy: 0.9181 - val_loss: 0.5844 - val_accuracy: 0.8213\n",
      "Epoch 65/100\n",
      "52/52 [==============================] - 0s 5ms/step - loss: 0.2310 - accuracy: 0.9175 - val_loss: 0.6427 - val_accuracy: 0.7874\n",
      "Epoch 66/100\n",
      "52/52 [==============================] - 0s 5ms/step - loss: 0.2771 - accuracy: 0.9030 - val_loss: 0.7270 - val_accuracy: 0.7923\n",
      "Epoch 67/100\n",
      "52/52 [==============================] - 0s 5ms/step - loss: 0.2586 - accuracy: 0.9127 - val_loss: 0.7193 - val_accuracy: 0.7971\n",
      "Epoch 68/100\n",
      "52/52 [==============================] - 0s 5ms/step - loss: 0.2935 - accuracy: 0.8963 - val_loss: 0.6919 - val_accuracy: 0.7971\n",
      "Epoch 69/100\n",
      "52/52 [==============================] - 0s 5ms/step - loss: 0.3348 - accuracy: 0.8836 - val_loss: 1.2178 - val_accuracy: 0.6763\n",
      "Epoch 70/100\n",
      "52/52 [==============================] - 0s 5ms/step - loss: 0.3512 - accuracy: 0.8763 - val_loss: 0.7302 - val_accuracy: 0.7923\n",
      "Epoch 71/100\n",
      "52/52 [==============================] - 0s 5ms/step - loss: 0.2232 - accuracy: 0.9242 - val_loss: 0.6872 - val_accuracy: 0.7826\n",
      "Epoch 72/100\n",
      "52/52 [==============================] - 0s 5ms/step - loss: 0.2092 - accuracy: 0.9315 - val_loss: 0.9403 - val_accuracy: 0.7585\n",
      "Epoch 73/100\n",
      "52/52 [==============================] - 0s 5ms/step - loss: 0.3961 - accuracy: 0.8545 - val_loss: 0.7321 - val_accuracy: 0.7536\n",
      "Epoch 74/100\n",
      "52/52 [==============================] - 0s 5ms/step - loss: 0.2321 - accuracy: 0.9218 - val_loss: 0.6113 - val_accuracy: 0.8406\n",
      "Epoch 75/100\n",
      "52/52 [==============================] - 0s 5ms/step - loss: 0.1805 - accuracy: 0.9363 - val_loss: 0.5876 - val_accuracy: 0.8261\n",
      "Epoch 76/100\n",
      "52/52 [==============================] - 0s 5ms/step - loss: 0.2146 - accuracy: 0.9242 - val_loss: 0.6801 - val_accuracy: 0.7826\n",
      "Epoch 77/100\n",
      "52/52 [==============================] - 0s 5ms/step - loss: 0.1963 - accuracy: 0.9297 - val_loss: 0.7943 - val_accuracy: 0.7874\n",
      "Epoch 78/100\n",
      "52/52 [==============================] - 0s 5ms/step - loss: 0.2138 - accuracy: 0.9206 - val_loss: 0.8417 - val_accuracy: 0.7826\n",
      "Epoch 79/100\n",
      "52/52 [==============================] - 0s 4ms/step - loss: 0.3492 - accuracy: 0.8714 - val_loss: 0.8193 - val_accuracy: 0.7585\n",
      "Epoch 80/100\n",
      "52/52 [==============================] - 0s 5ms/step - loss: 0.2356 - accuracy: 0.9218 - val_loss: 0.7206 - val_accuracy: 0.7971\n",
      "Epoch 81/100\n",
      "52/52 [==============================] - 0s 5ms/step - loss: 0.4475 - accuracy: 0.8393 - val_loss: 0.8644 - val_accuracy: 0.7778\n",
      "Epoch 82/100\n",
      "52/52 [==============================] - 0s 5ms/step - loss: 0.2611 - accuracy: 0.9102 - val_loss: 0.6818 - val_accuracy: 0.8068\n",
      "Epoch 83/100\n",
      "52/52 [==============================] - 0s 5ms/step - loss: 0.2538 - accuracy: 0.9121 - val_loss: 0.6077 - val_accuracy: 0.7971\n",
      "Epoch 84/100\n",
      "52/52 [==============================] - 0s 5ms/step - loss: 0.2557 - accuracy: 0.9072 - val_loss: 0.6473 - val_accuracy: 0.8164\n",
      "Epoch 85/100\n",
      "52/52 [==============================] - 0s 5ms/step - loss: 0.2903 - accuracy: 0.8945 - val_loss: 0.6649 - val_accuracy: 0.8019\n",
      "Epoch 86/100\n",
      "52/52 [==============================] - 0s 5ms/step - loss: 0.1827 - accuracy: 0.9381 - val_loss: 0.6354 - val_accuracy: 0.8213\n",
      "Epoch 87/100\n",
      "52/52 [==============================] - 0s 5ms/step - loss: 0.1849 - accuracy: 0.9297 - val_loss: 0.5987 - val_accuracy: 0.8357\n",
      "Epoch 88/100\n",
      "52/52 [==============================] - 0s 4ms/step - loss: 0.2281 - accuracy: 0.9157 - val_loss: 0.7120 - val_accuracy: 0.8116\n",
      "Epoch 89/100\n",
      "52/52 [==============================] - 0s 5ms/step - loss: 0.2221 - accuracy: 0.9139 - val_loss: 0.5775 - val_accuracy: 0.8309\n",
      "Epoch 90/100\n",
      "52/52 [==============================] - 0s 5ms/step - loss: 0.2145 - accuracy: 0.9254 - val_loss: 0.7801 - val_accuracy: 0.7923\n",
      "Epoch 91/100\n",
      "52/52 [==============================] - 0s 5ms/step - loss: 0.1778 - accuracy: 0.9388 - val_loss: 0.6751 - val_accuracy: 0.7923\n",
      "Epoch 92/100\n",
      "52/52 [==============================] - 0s 5ms/step - loss: 0.2304 - accuracy: 0.9157 - val_loss: 0.6462 - val_accuracy: 0.8454\n",
      "Epoch 93/100\n",
      "52/52 [==============================] - 0s 5ms/step - loss: 0.1796 - accuracy: 0.9357 - val_loss: 0.6274 - val_accuracy: 0.8309\n",
      "Epoch 94/100\n",
      "52/52 [==============================] - 0s 5ms/step - loss: 0.1756 - accuracy: 0.9406 - val_loss: 0.8237 - val_accuracy: 0.7391\n",
      "Epoch 95/100\n",
      "52/52 [==============================] - 0s 5ms/step - loss: 0.2647 - accuracy: 0.9187 - val_loss: 0.9142 - val_accuracy: 0.7536\n",
      "Epoch 96/100\n",
      "52/52 [==============================] - 0s 5ms/step - loss: 0.2351 - accuracy: 0.9145 - val_loss: 0.6695 - val_accuracy: 0.8019\n",
      "Epoch 97/100\n",
      "52/52 [==============================] - 0s 5ms/step - loss: 0.1105 - accuracy: 0.9636 - val_loss: 0.5593 - val_accuracy: 0.8309\n",
      "Epoch 98/100\n",
      "52/52 [==============================] - 0s 5ms/step - loss: 0.1403 - accuracy: 0.9533 - val_loss: 0.7470 - val_accuracy: 0.7729\n",
      "Epoch 99/100\n",
      "52/52 [==============================] - 0s 5ms/step - loss: 0.1697 - accuracy: 0.9363 - val_loss: 0.7601 - val_accuracy: 0.7923\n",
      "Epoch 100/100\n",
      "52/52 [==============================] - 0s 5ms/step - loss: 0.1994 - accuracy: 0.9321 - val_loss: 0.6785 - val_accuracy: 0.8164\n"
     ]
    }
   ],
   "source": [
    "log = model.fit(X_train, y_train, epochs=100,\n",
    "                    validation_data=(X_valid, y_valid))"
   ]
  },
  {
   "cell_type": "code",
   "execution_count": 96,
   "id": "2e82061d",
   "metadata": {},
   "outputs": [
    {
     "data": {
      "image/png": "[encoded data removed]",
      "text/plain": [
       "<Figure size 432x288 with 1 Axes>"
      ]
     },
     "metadata": {
      "needs_background": "light"
     },
     "output_type": "display_data"
    }
   ],
   "source": [
    "plt.plot(log.history['accuracy'],label = \"training accuracy\")\n",
    "plt.plot(log.history['val_accuracy'], label = \"validation accuracy\")\n",
    "plt.legend()\n",
    "plt.show()"
   ]
  },
  {
   "cell_type": "markdown",
   "id": "66e2e6bf",
   "metadata": {},
   "source": [
    "It seems we are experiencing some over-fitting. This is an issue that we will turn to next week!"
   ]
  },
  {
   "cell_type": "markdown",
   "id": "41e61c71",
   "metadata": {},
   "source": [
    "Finally, let's evaluate the model on the test data:"
   ]
  },
  {
   "cell_type": "code",
   "execution_count": 97,
   "id": "d62b86d5",
   "metadata": {},
   "outputs": [
    {
     "name": "stdout",
     "output_type": "stream",
     "text": [
      "7/7 [==============================] - 0s 2ms/step - loss: 0.7290 - accuracy: 0.8010\n"
     ]
    },
    {
     "data": {
      "text/plain": [
       "[0.7290115356445312, 0.8009708523750305]"
      ]
     },
     "execution_count": 97,
     "metadata": {},
     "output_type": "execute_result"
    }
   ],
   "source": [
    "model.evaluate(X_test, y_test)"
   ]
  },
  {
   "cell_type": "markdown",
   "id": "a31838b2",
   "metadata": {},
   "source": [
    "# 6. More multiclass-classification (homework)"
   ]
  },
  {
   "cell_type": "markdown",
   "id": "6c824b11",
   "metadata": {},
   "source": [
    "For this part, we will train a neural network on a dataset of fashion-products that is labeled with the categories of each product. The data is loaded directly from TensorFlow (which has quite the broad collection of datasets):"
   ]
  },
  {
   "cell_type": "code",
   "execution_count": 98,
   "id": "ce81c1ae",
   "metadata": {},
   "outputs": [
    {
     "name": "stdout",
     "output_type": "stream",
     "text": [
      "Downloading data from https://storage.googleapis.com/tensorflow/tf-keras-datasets/train-labels-idx1-ubyte.gz\n",
      "32768/29515 [=================================] - 0s 0us/step\n",
      "40960/29515 [=========================================] - 0s 0us/step\n",
      "Downloading data from https://storage.googleapis.com/tensorflow/tf-keras-datasets/train-images-idx3-ubyte.gz\n",
      "26427392/26421880 [==============================] - 1s 0us/step\n",
      "26435584/26421880 [==============================] - 1s 0us/step\n",
      "Downloading data from https://storage.googleapis.com/tensorflow/tf-keras-datasets/t10k-labels-idx1-ubyte.gz\n",
      "16384/5148 [===============================================================================================] - 0s 0s/step\n",
      "Downloading data from https://storage.googleapis.com/tensorflow/tf-keras-datasets/t10k-images-idx3-ubyte.gz\n",
      "4423680/4422102 [==============================] - 0s 0us/step\n",
      "4431872/4422102 [==============================] - 0s 0us/step\n"
     ]
    }
   ],
   "source": [
    "fashion_mnist = tf.keras.datasets.fashion_mnist\n",
    "(X_other, y_other), (X_test, y_test) = fashion_mnist.load_data()"
   ]
  },
  {
   "cell_type": "code",
   "execution_count": 99,
   "id": "7231a214",
   "metadata": {},
   "outputs": [
    {
     "name": "stdout",
     "output_type": "stream",
     "text": [
      "(60000, 28, 28)\n",
      "(60000,)\n",
      "(10000, 28, 28)\n",
      "(10000,)\n"
     ]
    }
   ],
   "source": [
    "print(X_other.shape)\n",
    "print(y_other.shape)\n",
    "print(X_test.shape)\n",
    "print(y_test.shape)"
   ]
  },
  {
   "cell_type": "markdown",
   "id": "bc37aff5",
   "metadata": {},
   "source": [
    "The X's are matrices (with 28x28 pixels), while the y's are numbers.\n",
    "\n",
    "We divide the values of X by 255 (essentially standardizing the pixel-values to 0-1) and also split apart a validation set (of the same size as the test set):"
   ]
  },
  {
   "cell_type": "code",
   "execution_count": 100,
   "id": "09935b02",
   "metadata": {},
   "outputs": [
    {
     "name": "stdout",
     "output_type": "stream",
     "text": [
      "(50000, 28, 28)\n",
      "(50000,)\n",
      "(10000, 28, 28)\n",
      "(10000,)\n"
     ]
    }
   ],
   "source": [
    "X_other = X_other / 255.\n",
    "X_test = X_test / 255.\n",
    "X_train, X_valid, y_train, y_valid = train_test_split(X_other, y_other, train_size = 50000, random_state=152)\n",
    "\n",
    "print(X_train.shape)\n",
    "print(y_train.shape)\n",
    "print(X_valid.shape)\n",
    "print(y_valid.shape)"
   ]
  },
  {
   "cell_type": "markdown",
   "id": "d502fd8f",
   "metadata": {},
   "source": [
    "Let's plot two examples:"
   ]
  },
  {
   "cell_type": "code",
   "execution_count": 101,
   "id": "1199ffe0",
   "metadata": {},
   "outputs": [
    {
     "data": {
      "text/plain": [
       "(-0.5, 27.5, 27.5, -0.5)"
      ]
     },
     "execution_count": 101,
     "metadata": {},
     "output_type": "execute_result"
    },
    {
     "data": {
      "image/png": "[encoded data removed]",
      "text/plain": [
       "<Figure size 432x288 with 2 Axes>"
      ]
     },
     "metadata": {
      "needs_background": "light"
     },
     "output_type": "display_data"
    }
   ],
   "source": [
    "plt.subplot(1, 2, 1)\n",
    "plt.imshow(X_train[0],cmap=\"binary\")\n",
    "plt.axis('off')\n",
    "plt.subplot(1, 2, 2)\n",
    "plt.imshow(X_train[500],cmap=\"binary\")\n",
    "plt.axis('off')"
   ]
  },
  {
   "cell_type": "markdown",
   "id": "ce05e70f",
   "metadata": {},
   "source": [
    "As well as the corresponding labels:"
   ]
  },
  {
   "cell_type": "code",
   "execution_count": 102,
   "id": "89478fbb",
   "metadata": {},
   "outputs": [
    {
     "name": "stdout",
     "output_type": "stream",
     "text": [
      "6\n",
      "7\n"
     ]
    }
   ],
   "source": [
    "print(y_train[0])\n",
    "print(y_train[500])"
   ]
  },
  {
   "cell_type": "markdown",
   "id": "e4802b77",
   "metadata": {},
   "source": [
    "That's a bit hard to interpret. Luckily, we have the right names for each label available:"
   ]
  },
  {
   "cell_type": "code",
   "execution_count": 103,
   "id": "51cfed3c",
   "metadata": {},
   "outputs": [],
   "source": [
    "class_names = [\"T-shirt/top\", \"Trouser\", \"Pullover\", \"Dress\", \"Coat\", \"Sandal\", \"Shirt\", \"Sneaker\", \"Bag\", \"Ankle boot\"]"
   ]
  },
  {
   "cell_type": "markdown",
   "id": "cf13cd27",
   "metadata": {},
   "source": [
    "We can now take another look at what the pictures above represent:"
   ]
  },
  {
   "cell_type": "code",
   "execution_count": 104,
   "id": "ce69c4dd",
   "metadata": {},
   "outputs": [
    {
     "name": "stdout",
     "output_type": "stream",
     "text": [
      "Shirt\n",
      "Sneaker\n"
     ]
    }
   ],
   "source": [
    "print(class_names[y_train[0]])\n",
    "print(class_names[y_train[500]])"
   ]
  },
  {
   "cell_type": "markdown",
   "id": "473138d8",
   "metadata": {},
   "source": [
    "## 6.1 Training the model"
   ]
  },
  {
   "cell_type": "markdown",
   "id": "83032bb9",
   "metadata": {},
   "source": [
    "Let's start with some housekeeping:"
   ]
  },
  {
   "cell_type": "code",
   "execution_count": 105,
   "id": "deeff742",
   "metadata": {},
   "outputs": [],
   "source": [
    "tf.keras.backend.clear_session()\n",
    "np.random.seed(451)\n",
    "tf.random.set_seed(346)"
   ]
  },
  {
   "cell_type": "markdown",
   "id": "1c2ebe4f",
   "metadata": {},
   "source": [
    "Can you create a model with two hidden layers and one (softmax) output layer? The hidden layers should have 100 neurons each. You will have to figure out the number of neurons on the output layer (hint: it depends on the number of classes).\n",
    "\n",
    "Also, don't forget to flatten the images with an appropriate `input_shape`!\n",
    "\n",
    "Make sure you save your model as `model`."
   ]
  },
  {
   "cell_type": "code",
   "execution_count": 106,
   "id": "cfaabf96",
   "metadata": {},
   "outputs": [],
   "source": [
    "model = tf.keras.models.Sequential([\n",
    "    tf.keras.layers.Flatten(input_shape=[28, 28]),\n",
    "    tf.keras.layers.Dense(100, activation=\"relu\"),\n",
    "    tf.keras.layers.Dense(100, activation=\"relu\"),\n",
    "    tf.keras.layers.Dense(10, activation=\"softmax\")\n",
    "])"
   ]
  },
  {
   "cell_type": "markdown",
   "id": "455e72fb",
   "metadata": {},
   "source": [
    "Use the `summary` function, to see whether everything worked out as it should. If you defined the model as discussed above, you should get a total of 89,610 parameters."
   ]
  },
  {
   "cell_type": "code",
   "execution_count": 107,
   "id": "c25373f1",
   "metadata": {},
   "outputs": [
    {
     "name": "stdout",
     "output_type": "stream",
     "text": [
      "Model: \"sequential\"\n",
      "_________________________________________________________________\n",
      " Layer (type)                Output Shape              Param #   \n",
      "=================================================================\n",
      " flatten (Flatten)           (None, 784)               0         \n",
      "                                                                 \n",
      " dense (Dense)               (None, 100)               78500     \n",
      "                                                                 \n",
      " dense_1 (Dense)             (None, 100)               10100     \n",
      "                                                                 \n",
      " dense_2 (Dense)             (None, 10)                1010      \n",
      "                                                                 \n",
      "=================================================================\n",
      "Total params: 89,610\n",
      "Trainable params: 89,610\n",
      "Non-trainable params: 0\n",
      "_________________________________________________________________\n"
     ]
    }
   ],
   "source": [
    "model.summary()"
   ]
  },
  {
   "cell_type": "markdown",
   "id": "5f91d79b",
   "metadata": {},
   "source": [
    "We can now compile the model. Use `optimizer=tf.keras.optimizers.SGD(learning_rate=0.01)` and `metrics=['accuracy']`. For the loss, use `sparse_categorical_crossentropy`. This is because our y's here are **not** one-hot-encoded, but instead are values from 0 to 9."
   ]
  },
  {
   "cell_type": "code",
   "execution_count": 108,
   "id": "42d71356",
   "metadata": {},
   "outputs": [],
   "source": [
    "model.compile(loss=\"sparse_categorical_crossentropy\",\n",
    "              optimizer=tf.keras.optimizers.SGD(learning_rate=0.01),\n",
    "              metrics=[\"accuracy\"])"
   ]
  },
  {
   "cell_type": "markdown",
   "id": "22a9e0f4",
   "metadata": {},
   "source": [
    "Train the model for 30 epochs, keeping track also of the `validation_data`."
   ]
  },
  {
   "cell_type": "code",
   "execution_count": 109,
   "id": "0ee79f8b",
   "metadata": {},
   "outputs": [
    {
     "name": "stdout",
     "output_type": "stream",
     "text": [
      "Epoch 1/30\n",
      "1563/1563 [==============================] - 2s 875us/step - loss: 0.8214 - accuracy: 0.7262 - val_loss: 0.5890 - val_accuracy: 0.7922\n",
      "Epoch 2/30\n",
      "1563/1563 [==============================] - 1s 815us/step - loss: 0.5112 - accuracy: 0.8232 - val_loss: 0.5182 - val_accuracy: 0.8070\n",
      "Epoch 3/30\n",
      "1563/1563 [==============================] - 1s 791us/step - loss: 0.4601 - accuracy: 0.8391 - val_loss: 0.4767 - val_accuracy: 0.8257\n",
      "Epoch 4/30\n",
      "1563/1563 [==============================] - 1s 811us/step - loss: 0.4322 - accuracy: 0.8485 - val_loss: 0.5606 - val_accuracy: 0.7840\n",
      "Epoch 5/30\n",
      "1563/1563 [==============================] - 1s 812us/step - loss: 0.4113 - accuracy: 0.8548 - val_loss: 0.4648 - val_accuracy: 0.8287\n",
      "Epoch 6/30\n",
      "1563/1563 [==============================] - 1s 812us/step - loss: 0.3971 - accuracy: 0.8617 - val_loss: 0.4041 - val_accuracy: 0.8547\n",
      "Epoch 7/30\n",
      "1563/1563 [==============================] - 1s 783us/step - loss: 0.3839 - accuracy: 0.8664 - val_loss: 0.4124 - val_accuracy: 0.8556\n",
      "Epoch 8/30\n",
      "1563/1563 [==============================] - 1s 801us/step - loss: 0.3727 - accuracy: 0.8686 - val_loss: 0.3870 - val_accuracy: 0.8598\n",
      "Epoch 9/30\n",
      "1563/1563 [==============================] - 1s 801us/step - loss: 0.3622 - accuracy: 0.8720 - val_loss: 0.4371 - val_accuracy: 0.8420\n",
      "Epoch 10/30\n",
      "1563/1563 [==============================] - 1s 784us/step - loss: 0.3536 - accuracy: 0.8748 - val_loss: 0.3748 - val_accuracy: 0.8662\n",
      "Epoch 11/30\n",
      "1563/1563 [==============================] - 1s 766us/step - loss: 0.3454 - accuracy: 0.8771 - val_loss: 0.3664 - val_accuracy: 0.8694\n",
      "Epoch 12/30\n",
      "1563/1563 [==============================] - 1s 783us/step - loss: 0.3384 - accuracy: 0.8795 - val_loss: 0.3709 - val_accuracy: 0.8612\n",
      "Epoch 13/30\n",
      "1563/1563 [==============================] - 1s 775us/step - loss: 0.3302 - accuracy: 0.8831 - val_loss: 0.3632 - val_accuracy: 0.8664\n",
      "Epoch 14/30\n",
      "1563/1563 [==============================] - 1s 795us/step - loss: 0.3256 - accuracy: 0.8843 - val_loss: 0.3500 - val_accuracy: 0.8746\n",
      "Epoch 15/30\n",
      "1563/1563 [==============================] - 1s 780us/step - loss: 0.3182 - accuracy: 0.8861 - val_loss: 0.3524 - val_accuracy: 0.8702\n",
      "Epoch 16/30\n",
      "1563/1563 [==============================] - 1s 789us/step - loss: 0.3131 - accuracy: 0.8883 - val_loss: 0.3441 - val_accuracy: 0.8770\n",
      "Epoch 17/30\n",
      "1563/1563 [==============================] - 1s 787us/step - loss: 0.3071 - accuracy: 0.8901 - val_loss: 0.3910 - val_accuracy: 0.8530\n",
      "Epoch 18/30\n",
      "1563/1563 [==============================] - 1s 804us/step - loss: 0.3014 - accuracy: 0.8922 - val_loss: 0.3610 - val_accuracy: 0.8661\n",
      "Epoch 19/30\n",
      "1563/1563 [==============================] - 1s 781us/step - loss: 0.2974 - accuracy: 0.8933 - val_loss: 0.3336 - val_accuracy: 0.8777\n",
      "Epoch 20/30\n",
      "1563/1563 [==============================] - 1s 779us/step - loss: 0.2930 - accuracy: 0.8949 - val_loss: 0.3477 - val_accuracy: 0.8759\n",
      "Epoch 21/30\n",
      "1563/1563 [==============================] - 1s 783us/step - loss: 0.2878 - accuracy: 0.8965 - val_loss: 0.3692 - val_accuracy: 0.8660\n",
      "Epoch 22/30\n",
      "1563/1563 [==============================] - 1s 779us/step - loss: 0.2842 - accuracy: 0.8976 - val_loss: 0.3720 - val_accuracy: 0.8691\n",
      "Epoch 23/30\n",
      "1563/1563 [==============================] - 1s 786us/step - loss: 0.2793 - accuracy: 0.8999 - val_loss: 0.3566 - val_accuracy: 0.8667\n",
      "Epoch 24/30\n",
      "1563/1563 [==============================] - 1s 771us/step - loss: 0.2759 - accuracy: 0.9015 - val_loss: 0.3307 - val_accuracy: 0.8800\n",
      "Epoch 25/30\n",
      "1563/1563 [==============================] - 1s 784us/step - loss: 0.2717 - accuracy: 0.9028 - val_loss: 0.3231 - val_accuracy: 0.8822\n",
      "Epoch 26/30\n",
      "1563/1563 [==============================] - 1s 769us/step - loss: 0.2683 - accuracy: 0.9036 - val_loss: 0.3581 - val_accuracy: 0.8650\n",
      "Epoch 27/30\n",
      "1563/1563 [==============================] - 1s 795us/step - loss: 0.2643 - accuracy: 0.9042 - val_loss: 0.3327 - val_accuracy: 0.8805\n",
      "Epoch 28/30\n",
      "1563/1563 [==============================] - 1s 779us/step - loss: 0.2617 - accuracy: 0.9066 - val_loss: 0.3478 - val_accuracy: 0.8764\n",
      "Epoch 29/30\n",
      "1563/1563 [==============================] - 1s 768us/step - loss: 0.2592 - accuracy: 0.9065 - val_loss: 0.3260 - val_accuracy: 0.8802\n",
      "Epoch 30/30\n",
      "1563/1563 [==============================] - 1s 779us/step - loss: 0.2547 - accuracy: 0.9091 - val_loss: 0.3217 - val_accuracy: 0.8817\n"
     ]
    }
   ],
   "source": [
    "log = model.fit(X_train, y_train, epochs=30,\n",
    "                    validation_data=(X_valid, y_valid))"
   ]
  },
  {
   "cell_type": "markdown",
   "id": "e175357c",
   "metadata": {},
   "source": [
    "Take a look at the training process. The below will only work if you have called your training output `log`:"
   ]
  },
  {
   "cell_type": "code",
   "execution_count": 110,
   "id": "1d30a452",
   "metadata": {},
   "outputs": [
    {
     "data": {
      "image/png": "[encoded data removed]",
      "text/plain": [
       "<Figure size 432x288 with 1 Axes>"
      ]
     },
     "metadata": {
      "needs_background": "light"
     },
     "output_type": "display_data"
    }
   ],
   "source": [
    "plt.plot(log.history['accuracy'],label = \"training accuracy\")\n",
    "plt.plot(log.history['val_accuracy'], label = \"testing accuracy\")\n",
    "plt.legend()\n",
    "plt.show()"
   ]
  },
  {
   "cell_type": "markdown",
   "id": "82d38f9b",
   "metadata": {},
   "source": [
    "If we accept our model, we can evaluate it on the test set, using the `evaluate` function of our model:"
   ]
  },
  {
   "cell_type": "code",
   "execution_count": 111,
   "id": "56c8dace",
   "metadata": {},
   "outputs": [
    {
     "name": "stdout",
     "output_type": "stream",
     "text": [
      "313/313 [==============================] - 0s 539us/step - loss: 0.3523 - accuracy: 0.8749\n"
     ]
    },
    {
     "data": {
      "text/plain": [
       "[0.3523254990577698, 0.8748999834060669]"
      ]
     },
     "execution_count": 111,
     "metadata": {},
     "output_type": "execute_result"
    }
   ],
   "source": [
    "model.evaluate(X_test, y_test)"
   ]
  },
  {
   "cell_type": "markdown",
   "id": "761f747a",
   "metadata": {},
   "source": [
    "We can also take a look at some predictions:"
   ]
  },
  {
   "cell_type": "code",
   "execution_count": 112,
   "id": "2c6df529",
   "metadata": {},
   "outputs": [],
   "source": [
    "X_new = X_test[:4]\n",
    "y_predict = np.argmax(model.predict(X_new), axis=-1)\n",
    "y_predict = [class_names[y] for y in y_predict]"
   ]
  },
  {
   "cell_type": "code",
   "execution_count": 113,
   "id": "e4305585",
   "metadata": {},
   "outputs": [
    {
     "name": "stdout",
     "output_type": "stream",
     "text": [
      "Predictions are: ['Ankle boot', 'Pullover', 'Trouser', 'Trouser']\n"
     ]
    },
    {
     "data": {
      "image/png": "[encoded data removed]",
      "text/plain": [
       "<Figure size 432x288 with 4 Axes>"
      ]
     },
     "metadata": {
      "needs_background": "light"
     },
     "output_type": "display_data"
    }
   ],
   "source": [
    "plt.subplot(1, 4, 1)\n",
    "plt.imshow(X_test[0],cmap=\"binary\")\n",
    "plt.axis('off')\n",
    "plt.subplot(1, 4, 2)\n",
    "plt.imshow(X_test[1],cmap=\"binary\")\n",
    "plt.axis('off')\n",
    "plt.subplot(1, 4, 3)\n",
    "plt.imshow(X_test[2],cmap=\"binary\")\n",
    "plt.axis('off')\n",
    "plt.subplot(1, 4, 4)\n",
    "plt.imshow(X_test[3],cmap=\"binary\")\n",
    "plt.axis('off')\n",
    "print(\"Predictions are: \" + str(y_predict))"
   ]
  },
  {
   "cell_type": "markdown",
   "id": "692bda86",
   "metadata": {},
   "source": [
    "Can you do better? Try tweaking the learning rate, the number of layers, and the neurons per layer to see if your validation loss improves. Once you have decided on your final model, evaluate it on the test set and note down your loss there."
   ]
  }
 ],
 "metadata": {
  "interpreter": {
   "hash": "df4e212b3ca48d28190f7fa319070b735bf716a22d4b5700005d4436fb499095"
  },
  "kernelspec": {
   "display_name": "adl_env",
   "language": "python",
   "name": "python3"
  },
  "language_info": {
   "codemirror_mode": {
    "name": "ipython",
    "version": 3
   },
   "file_extension": ".py",
   "mimetype": "text/x-python",
   "name": "python",
   "nbconvert_exporter": "python",
   "pygments_lexer": "ipython3",
   "version": "3.8.8"
  }
 },
 "nbformat": 4,
 "nbformat_minor": 5
}
